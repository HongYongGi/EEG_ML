{
 "cells": [
  {
   "cell_type": "code",
   "execution_count": 1,
   "metadata": {},
   "outputs": [],
   "source": [
    "import os\n",
    "import matplotlib as mpl\n",
    "import matplotlib.pylab as plt\n",
    "import itertools\n",
    "import csv , codecs\n",
    "import glob\n",
    "from PIL import Image\n",
    "import numpy as np\n",
    "import pandas as pd\n",
    "import openpyxl\n",
    "from openpyxl import Workbook\n",
    "from openpyxl import load_workbook\n",
    "from sklearn.utils import shuffle\n",
    "from sklearn.model_selection import StratifiedKFold\n",
    "def warn(*args, **kwargs): pass\n",
    "import warnings\n",
    "warnings.warn = warn\n",
    "from sklearn.ensemble import RandomForestClassifier\n",
    "from sklearn.discriminant_analysis import LinearDiscriminantAnalysis\n",
    "from sklearn.decomposition import PCA\n",
    "\n"
   ]
  },
  {
   "cell_type": "code",
   "execution_count": 2,
   "metadata": {},
   "outputs": [],
   "source": [
    "data_dir = \"./EEG_data/\""
   ]
  },
  {
   "cell_type": "markdown",
   "metadata": {},
   "source": [
    "## CSV 파일 생성 함수"
   ]
  },
  {
   "cell_type": "markdown",
   "metadata": {},
   "source": [
    "\n",
    "### task 0 1 2 : 1-back,  2-back,  rest\n",
    "\n",
    "### eye 0  1    : close eye,     open eye\n",
    "\n",
    "### respiratory 0 1 2 : mouse, nose, O2 \n",
    "\n"
   ]
  },
  {
   "cell_type": "code",
   "execution_count": 3,
   "metadata": {},
   "outputs": [],
   "source": [
    "def dataset_csv_3():\n",
    "    normalize_power = str(input(\"Relative, Abs :\"))\n",
    "    excel_dir = \"./EEG_data\" + '/' + normalize_power\n",
    "    excel_list = sorted(glob.glob(excel_dir+'/[!~]*.xlsx'))\n",
    "    \n",
    "    subject = int(input(\"subject :\"))\n",
    "    book = Workbook()\n",
    "    sheet = book.active\n",
    "    sheet.cell(row=1, column=161).value = 'target'\n",
    " \n",
    "    # x축 생성   \n",
    "    for i in range(1,33):\n",
    "        sheet.cell(row=1, column=i).value = 'ACh' + str(i)\n",
    "        sheet.cell(row=1, column=i+32).value = 'BCh' + str(i)\n",
    "        sheet.cell(row=1, column=i+64).value = 'DCh' + str(i)\n",
    "        sheet.cell(row=1, column=i+96).value = 'GCh' + str(i)\n",
    "        sheet.cell(row=1, column=i+128).value = 'TCh' + str(i)\n",
    "        \n",
    "    # 파일을 순차적으로 열어서 셀 영역을 복사\n",
    "    for j in range(0,5):\n",
    "        wb = openpyxl.load_workbook(excel_list[j], data_only=True)\n",
    "        wb_sheet = wb.sheetnames\n",
    "        for k in range(0,12):\n",
    "            source = wb[wb_sheet[k]]\n",
    "            for l in range(2, 22):\n",
    "                for m in range(2, 34):\n",
    "                    sheet.cell(row=20*k+l,column=32*j+m-1).value = source.cell(row=l,column=m).value\n",
    "        \n",
    "\n",
    "    with open('./dataset_eeg_3.csv', 'w', newline=\"\") as f:\n",
    "        c = csv.writer(f)\n",
    "        for r in sheet.rows:\n",
    "            c.writerow([cell.value for cell in r])\n",
    "            \n",
    "    df = pd.read_csv('./dataset_eeg_3.csv')\n",
    "    df[df =='                      NaN'] =np.nan\n",
    "    df = df.fillna(0.0).astype('float64')\n",
    "    pd.options.mode.chained_assignment = None\n",
    "#1-back mouse, nose, o2\n",
    "    df[\"target\"][0*subject:1*subject] = \"0\" #0:20\n",
    "    df[\"target\"][1*subject:2*subject] = \"1\" #21:40\n",
    "    df[\"target\"][2*subject:3*subject] = \"2\" #41:60\n",
    "#2-back mouse, nose, o2\n",
    "    df[\"target\"][3*subject:4*subject] = \"0\" #60:80\n",
    "    df[\"target\"][4*subject:5*subject] = \"1\" #80:100\n",
    "    df[\"target\"][5*subject:6*subject] = \"2\" #100:120\n",
    "#rest close eye mouse, nose, o2\n",
    "    df[\"target\"][6*subject:7*subject] = \"0\" #120:140\n",
    "    df[\"target\"][7*subject:8*subject] = \"1\" #140:160\n",
    "    df[\"target\"][8*subject:9*subject] = \"2\" #160:180\n",
    "#rest open eye mouse, nose, o2\n",
    "    df[\"target\"][9*subject:10*subject] = \"0\" #180:200\n",
    "    df[\"target\"][10*subject:11*subject] = \"1\" #200:220\n",
    "    df[\"target\"][11*subject:12*subject] = \"2\" #220:240\n",
    "    df.astype('float64')\n",
    "    df.to_csv('./dataset_eeg_3.csv')\n",
    "    \n",
    "    return df\n",
    "            \n"
   ]
  },
  {
   "cell_type": "code",
   "execution_count": 4,
   "metadata": {},
   "outputs": [],
   "source": [
    "eeg_data_3 = pd.read_csv('./dataset_eeg_3_O2zero.csv',index_col=0)"
   ]
  },
  {
   "cell_type": "code",
   "execution_count": 5,
   "metadata": {},
   "outputs": [
    {
     "name": "stdout",
     "output_type": "stream",
     "text": [
      "[0, 1, 2, 3, 4, 5, 6, 7, 8, 9, 10, 11, 12, 13, 14, 15, 16, 17, 18, 19, 20, 21, 22, 23, 24, 25, 26, 27, 28, 29, 30, 31, 32, 33, 34, 35, 36, 37, 38, 39, 40, 41, 42, 43, 44, 45, 46, 47, 48, 49, 50, 51, 52, 53, 54, 55, 56, 57, 58, 59, 60, 61, 62, 63, 64, 65, 66, 67, 68, 69, 70, 71, 72, 73, 74, 75, 76, 77, 78, 79, 80, 81, 82, 83, 84, 85, 86, 87, 88, 89, 90, 91, 92, 93, 94, 95, 128, 129, 130, 131, 132, 133, 134, 135, 136, 137, 138, 139, 140, 141, 142, 143, 144, 145, 146, 147, 148, 149, 150, 151, 152, 153, 154, 155, 156, 157, 158, 159, 160]\n"
     ]
    }
   ],
   "source": [
    "idx_ch_list = []\n",
    "for i in range(0,161):\n",
    "    idx_ch_list.append(i)\n",
    "    \n",
    "for j in range(32*3,32*4):\n",
    "    idx_ch_list.remove(j)\n",
    "print(idx_ch_list)"
   ]
  },
  {
   "cell_type": "markdown",
   "metadata": {},
   "source": [
    " "
   ]
  },
  {
   "cell_type": "code",
   "execution_count": 6,
   "metadata": {},
   "outputs": [],
   "source": [
    "state={}\n",
    "\n",
    "state[\"1back_mouse\"]=eeg_data_3.iloc[0:20]\n",
    "state[\"1back_nose\"]=eeg_data_3.iloc[20:40]\n",
    "state[\"1back_O2\"]=eeg_data_3.iloc[40:60]\n",
    "\n",
    "state[\"2back_mouse\"]=eeg_data_3.iloc[60:80]\n",
    "state[\"2back_nose\"]=eeg_data_3.iloc[80:100]\n",
    "state[\"2back_O2\"]=eeg_data_3.iloc[100:120]\n",
    "\n",
    "state[\"close_rest_mouse\"]=eeg_data_3.iloc[120:140]\n",
    "state[\"close_rest_nose\"]=eeg_data_3.iloc[140:160]\n",
    "state[\"close_rest_O2\"]=eeg_data_3.iloc[160:180]\n",
    "\n",
    "state[\"open_rest_mouse\"]=eeg_data_3.iloc[180:200]\n",
    "state[\"open_rest_nose\"]=eeg_data_3.iloc[200:220]\n",
    "state[\"open_rest_O2\"]=eeg_data_3.iloc[220:240]"
   ]
  },
  {
   "cell_type": "code",
   "execution_count": 7,
   "metadata": {},
   "outputs": [],
   "source": [
    "ex_state={}\n",
    "\n",
    "ex_state[\"1back_mouse\"]=eeg_data_3.iloc[0:20,idx_ch_list]\n",
    "ex_state[\"1back_nose\"]=eeg_data_3.iloc[20:40,idx_ch_list]\n",
    "ex_state[\"1back_O2\"]=eeg_data_3.iloc[40:60,idx_ch_list]\n",
    "\n",
    "ex_state[\"2back_mouse\"]=eeg_data_3.iloc[60:80,idx_ch_list]\n",
    "ex_state[\"2back_nose\"]=eeg_data_3.iloc[80:100,idx_ch_list]\n",
    "ex_state[\"2back_O2\"]=eeg_data_3.iloc[100:120,idx_ch_list]\n",
    "\n",
    "ex_state[\"close_rest_mouse\"]=eeg_data_3.iloc[120:140,idx_ch_list]\n",
    "ex_state[\"close_rest_nose\"]=eeg_data_3.iloc[140:160,idx_ch_list]\n",
    "ex_state[\"close_rest_O2\"]=eeg_data_3.iloc[160:180,idx_ch_list]\n",
    "\n",
    "ex_state[\"open_rest_mouse\"]=eeg_data_3.iloc[180:200,idx_ch_list]\n",
    "ex_state[\"open_rest_nose\"]=eeg_data_3.iloc[200:220,idx_ch_list]\n",
    "ex_state[\"open_rest_O2\"]=eeg_data_3.iloc[220:240,idx_ch_list]"
   ]
  },
  {
   "cell_type": "code",
   "execution_count": 8,
   "metadata": {},
   "outputs": [],
   "source": [
    "ds_train = {}\n",
    "ds_test = {}\n",
    "\n",
    "\n",
    "ds_train={\"1back_mouse\":state[\"1back_mouse\"], \n",
    "       \"1back_nose\":state[\"1back_nose\"],\n",
    "       \"1back_O2\":state[\"1back_O2\"],\n",
    "       \"1back_m_n\":state[\"1back_mouse\"].append(state[\"1back_nose\"]),\n",
    "       \"1back\":state[\"1back_mouse\"].append(state[\"1back_nose\"]).append(state[\"1back_O2\"]),\n",
    "       \n",
    "                                               \n",
    "       \"2back_mouse\":state[\"2back_mouse\"],\n",
    "       \"2back_nose\":state[\"2back_nose\"],\n",
    "       \"2back_O2\":state[\"2back_O2\"],\n",
    "       \"2back_m_n\":state[\"2back_mouse\"].append(state[\"2back_nose\"]),\n",
    "       \"2back\":state[\"2back_mouse\"].append(state[\"2back_nose\"]).append(state[\"2back_O2\"]),\n",
    "       \n",
    "       \"close_rest_mouse\":state[\"close_rest_mouse\"], \n",
    "       \"close_rest_nose\":state[\"close_rest_nose\"],\n",
    "       \"close_rest_O2\":state[\"close_rest_O2\"],\n",
    "       \"close_rest_m_n\":state[\"close_rest_mouse\"].append(state[\"close_rest_nose\"]),\n",
    "       \"close_rest\":state[\"close_rest_mouse\"].append(state[\"close_rest_nose\"]).append(state[\"close_rest_O2\"]),\n",
    "       \n",
    "       \"open_rest_mouse\":state[\"open_rest_mouse\"],\n",
    "       \"open_rest_nose\":state[\"open_rest_nose\"],\n",
    "       \"open_rest_O2\":state[\"open_rest_O2\"],\n",
    "       \"open_rest_m_n\":state[\"open_rest_mouse\"].append(state[\"open_rest_nose\"]),\n",
    "       \"open_rest\":state[\"open_rest_mouse\"].append(state[\"open_rest_nose\"]).append(state[\"open_rest_O2\"]),\n",
    "       \n",
    "       \n",
    "       \"total_mouse\" : state[\"1back_mouse\"].append(state[\"2back_mouse\"]).append(state[\"close_rest_mouse\"]).append(state[\"open_rest_mouse\"]),\n",
    "       \"total_nose\" : state[\"1back_nose\"].append(state[\"2back_nose\"]).append(state[\"close_rest_nose\"]).append(state[\"open_rest_nose\"]),\n",
    "       \"total_O2\" : state[\"1back_O2\"].append(state[\"2back_O2\"]).append(state[\"close_rest_O2\"]).append(state[\"open_rest_O2\"]),\n",
    "       \"total_m_n\": state[\"1back_mouse\"].append(state[\"1back_nose\"]).append(state[\"2back_mouse\"]).append(state[\"2back_nose\"]).append(state[\"close_rest_mouse\"]).append(state[\"close_rest_nose\"]).append(state[\"open_rest_mouse\"]).append(state[\"open_rest_nose\"]),\n",
    "       \"total\": state[\"1back_mouse\"].append(state[\"1back_nose\"]).append(state[\"1back_O2\"]).append(state[\"2back_mouse\"]).append(state[\"2back_nose\"]).append(state[\"2back_O2\"]).append(state[\"close_rest_mouse\"]).append(state[\"close_rest_nose\"]).append(state[\"close_rest_O2\"]).append(state[\"open_rest_mouse\"]).append(state[\"open_rest_nose\"]).append(state[\"open_rest_O2\"])\n",
    "       \n",
    "       \n",
    "      }\n",
    "\n",
    "ds_test = {\"1back_mouse\":state[\"1back_mouse\"], \n",
    "       \"1back_nose\":state[\"1back_nose\"],\n",
    "       \"1back_O2\":state[\"1back_O2\"],\n",
    "       \"1back_m_n\":state[\"1back_mouse\"].append(state[\"1back_nose\"]),\n",
    "       \"1back\":state[\"1back_mouse\"].append(state[\"1back_nose\"]).append(state[\"1back_O2\"]),\n",
    "       \n",
    "                                               \n",
    "       \"2back_mouse\":state[\"2back_mouse\"],\n",
    "       \"2back_nose\":state[\"2back_nose\"],\n",
    "       \"2back_O2\":state[\"2back_O2\"],\n",
    "       \"2back_m_n\":state[\"2back_mouse\"].append(state[\"2back_nose\"]),\n",
    "       \"2back\":state[\"2back_mouse\"].append(state[\"2back_nose\"]).append(state[\"2back_O2\"]),\n",
    "       \n",
    "       \"close_rest_mouse\":state[\"close_rest_mouse\"], \n",
    "       \"close_rest_nose\":state[\"close_rest_nose\"],\n",
    "       \"close_rest_O2\":state[\"close_rest_O2\"],\n",
    "       \"close_rest_m_n\":state[\"close_rest_mouse\"].append(state[\"close_rest_nose\"]),\n",
    "       \"close_rest\":state[\"close_rest_mouse\"].append(state[\"close_rest_nose\"]).append(state[\"close_rest_O2\"]),\n",
    "       \n",
    "       \"open_rest_mouse\":state[\"open_rest_mouse\"],\n",
    "       \"open_rest_nose\":state[\"open_rest_nose\"],\n",
    "       \"open_rest_O2\":state[\"open_rest_O2\"],\n",
    "       \"open_rest_m_n\":state[\"open_rest_mouse\"].append(state[\"open_rest_nose\"]),\n",
    "       \"open_rest\":state[\"open_rest_mouse\"].append(state[\"open_rest_nose\"]).append(state[\"open_rest_O2\"]),\n",
    "        \n",
    "        \n",
    "               \n",
    "       \"total_mouse\" : state[\"1back_mouse\"].append(state[\"2back_mouse\"]).append(state[\"close_rest_mouse\"]).append(state[\"open_rest_mouse\"]),\n",
    "        \"total_nose\" : state[\"1back_nose\"].append(state[\"2back_nose\"]).append(state[\"close_rest_nose\"]).append(state[\"open_rest_nose\"]),\n",
    "       \"total_O2\" : state[\"1back_O2\"].append(state[\"2back_O2\"]).append(state[\"close_rest_O2\"]).append(state[\"open_rest_O2\"]),\n",
    "       \"total_m_n\": state[\"1back_mouse\"].append(state[\"1back_nose\"]).append(state[\"2back_mouse\"]).append(state[\"2back_nose\"]).append(state[\"close_rest_mouse\"]).append(state[\"close_rest_nose\"]).append(state[\"open_rest_mouse\"]).append(state[\"open_rest_nose\"]),\n",
    "        \"total\": state[\"1back_mouse\"].append(state[\"1back_nose\"]).append(state[\"1back_O2\"]).append(state[\"2back_mouse\"]).append(state[\"2back_nose\"]).append(state[\"2back_O2\"]).append(state[\"close_rest_mouse\"]).append(state[\"close_rest_nose\"]).append(state[\"close_rest_O2\"]).append(state[\"open_rest_mouse\"]).append(state[\"open_rest_nose\"]).append(state[\"open_rest_O2\"])\n",
    "\n",
    "       }\n",
    "\n",
    "\n"
   ]
  },
  {
   "cell_type": "code",
   "execution_count": 9,
   "metadata": {},
   "outputs": [],
   "source": [
    "ex_ds_train = {}\n",
    "ex_ds_test = {}\n",
    "\n",
    "\n",
    "ex_ds_train={\"1back_mouse\":ex_state[\"1back_mouse\"], \n",
    "       \"1back_nose\":ex_state[\"1back_nose\"],\n",
    "       \"1back_O2\":ex_state[\"1back_O2\"],\n",
    "       \"1back_m_n\":ex_state[\"1back_mouse\"].append(ex_state[\"1back_nose\"]),\n",
    "       \"1back\":ex_state[\"1back_mouse\"].append(ex_state[\"1back_nose\"]).append(ex_state[\"1back_O2\"]),\n",
    "       \n",
    "                                               \n",
    "       \"2back_mouse\":ex_state[\"2back_mouse\"],\n",
    "       \"2back_nose\":ex_state[\"2back_nose\"],\n",
    "       \"2back_O2\":ex_state[\"2back_O2\"],\n",
    "       \"2back_m_n\":ex_state[\"2back_mouse\"].append(ex_state[\"2back_nose\"]),\n",
    "       \"2back\":ex_state[\"2back_mouse\"].append(ex_state[\"2back_nose\"]).append(ex_state[\"2back_O2\"]),\n",
    "       \n",
    "       \"close_rest_mouse\":ex_state[\"close_rest_mouse\"], \n",
    "       \"close_rest_nose\":ex_state[\"close_rest_nose\"],\n",
    "       \"close_rest_O2\":ex_state[\"close_rest_O2\"],\n",
    "       \"close_rest_m_n\":ex_state[\"close_rest_mouse\"].append(ex_state[\"close_rest_nose\"]),\n",
    "       \"close_rest\":ex_state[\"close_rest_mouse\"].append(ex_state[\"close_rest_nose\"]).append(ex_state[\"close_rest_O2\"]),\n",
    "       \n",
    "       \"open_rest_mouse\":ex_state[\"open_rest_mouse\"],\n",
    "       \"open_rest_nose\":ex_state[\"open_rest_nose\"],\n",
    "       \"open_rest_O2\":ex_state[\"open_rest_O2\"],\n",
    "       \"open_rest_m_n\":ex_state[\"open_rest_mouse\"].append(ex_state[\"open_rest_nose\"]),\n",
    "       \"open_rest\":ex_state[\"open_rest_mouse\"].append(ex_state[\"open_rest_nose\"]).append(ex_state[\"open_rest_O2\"]),\n",
    "       \n",
    "       \n",
    "       \"total_mouse\" : ex_state[\"1back_mouse\"].append(ex_state[\"2back_mouse\"]).append(ex_state[\"close_rest_mouse\"]).append(ex_state[\"open_rest_mouse\"]),\n",
    "       \"total_nose\" : ex_state[\"1back_nose\"].append(ex_state[\"2back_nose\"]).append(ex_state[\"close_rest_nose\"]).append(ex_state[\"open_rest_nose\"]),\n",
    "       \"total_O2\" : ex_state[\"1back_O2\"].append(ex_state[\"2back_O2\"]).append(ex_state[\"close_rest_O2\"]).append(ex_state[\"open_rest_O2\"]),\n",
    "       \"total_m_n\": ex_state[\"1back_mouse\"].append(ex_state[\"1back_nose\"]).append(ex_state[\"2back_mouse\"]).append(ex_state[\"2back_nose\"]).append(ex_state[\"close_rest_mouse\"]).append(ex_state[\"close_rest_nose\"]).append(ex_state[\"open_rest_mouse\"]).append(ex_state[\"open_rest_nose\"]),\n",
    "       \"total\": ex_state[\"1back_mouse\"].append(ex_state[\"1back_nose\"]).append(ex_state[\"1back_O2\"]).append(ex_state[\"2back_mouse\"]).append(ex_state[\"2back_nose\"]).append(ex_state[\"2back_O2\"]).append(ex_state[\"close_rest_mouse\"]).append(ex_state[\"close_rest_nose\"]).append(ex_state[\"close_rest_O2\"]).append(ex_state[\"open_rest_mouse\"]).append(ex_state[\"open_rest_nose\"]).append(ex_state[\"open_rest_O2\"])\n",
    "       \n",
    "       \n",
    "      }\n",
    "\n",
    "ex_ds_test={\"1back_mouse\":ex_state[\"1back_mouse\"], \n",
    "       \"1back_nose\":ex_state[\"1back_nose\"],\n",
    "       \"1back_O2\":ex_state[\"1back_O2\"],\n",
    "       \"1back_m_n\":ex_state[\"1back_mouse\"].append(ex_state[\"1back_nose\"]),\n",
    "       \"1back\":ex_state[\"1back_mouse\"].append(ex_state[\"1back_nose\"]).append(ex_state[\"1back_O2\"]),\n",
    "       \n",
    "                                               \n",
    "       \"2back_mouse\":ex_state[\"2back_mouse\"],\n",
    "       \"2back_nose\":ex_state[\"2back_nose\"],\n",
    "       \"2back_O2\":ex_state[\"2back_O2\"],\n",
    "       \"2back_m_n\":ex_state[\"2back_mouse\"].append(ex_state[\"2back_nose\"]),\n",
    "       \"2back\":ex_state[\"2back_mouse\"].append(ex_state[\"2back_nose\"]).append(ex_state[\"2back_O2\"]),\n",
    "       \n",
    "       \"close_rest_mouse\":ex_state[\"close_rest_mouse\"], \n",
    "       \"close_rest_nose\":ex_state[\"close_rest_nose\"],\n",
    "       \"close_rest_O2\":ex_state[\"close_rest_O2\"],\n",
    "       \"close_rest_m_n\":ex_state[\"close_rest_mouse\"].append(ex_state[\"close_rest_nose\"]),\n",
    "       \"close_rest\":ex_state[\"close_rest_mouse\"].append(ex_state[\"close_rest_nose\"]).append(ex_state[\"close_rest_O2\"]),\n",
    "       \n",
    "       \"open_rest_mouse\":ex_state[\"open_rest_mouse\"],\n",
    "       \"open_rest_nose\":ex_state[\"open_rest_nose\"],\n",
    "       \"open_rest_O2\":ex_state[\"open_rest_O2\"],\n",
    "       \"open_rest_m_n\":ex_state[\"open_rest_mouse\"].append(ex_state[\"open_rest_nose\"]),\n",
    "       \"open_rest\":ex_state[\"open_rest_mouse\"].append(ex_state[\"open_rest_nose\"]).append(ex_state[\"open_rest_O2\"]),\n",
    "       \n",
    "       \n",
    "       \"total_mouse\" : ex_state[\"1back_mouse\"].append(ex_state[\"2back_mouse\"]).append(ex_state[\"close_rest_mouse\"]).append(ex_state[\"open_rest_mouse\"]),\n",
    "       \"total_nose\" : ex_state[\"1back_nose\"].append(ex_state[\"2back_nose\"]).append(ex_state[\"close_rest_nose\"]).append(ex_state[\"open_rest_nose\"]),\n",
    "       \"total_O2\" : ex_state[\"1back_O2\"].append(ex_state[\"2back_O2\"]).append(ex_state[\"close_rest_O2\"]).append(ex_state[\"open_rest_O2\"]),\n",
    "       \"total_m_n\": ex_state[\"1back_mouse\"].append(ex_state[\"1back_nose\"]).append(ex_state[\"2back_mouse\"]).append(ex_state[\"2back_nose\"]).append(ex_state[\"close_rest_mouse\"]).append(ex_state[\"close_rest_nose\"]).append(ex_state[\"open_rest_mouse\"]).append(ex_state[\"open_rest_nose\"]),\n",
    "       \"total\": ex_state[\"1back_mouse\"].append(ex_state[\"1back_nose\"]).append(ex_state[\"1back_O2\"]).append(ex_state[\"2back_mouse\"]).append(ex_state[\"2back_nose\"]).append(ex_state[\"2back_O2\"]).append(ex_state[\"close_rest_mouse\"]).append(ex_state[\"close_rest_nose\"]).append(ex_state[\"close_rest_O2\"]).append(ex_state[\"open_rest_mouse\"]).append(ex_state[\"open_rest_nose\"]).append(ex_state[\"open_rest_O2\"])\n",
    "       \n",
    "       \n",
    "      }\n",
    "\n",
    "\n"
   ]
  },
  {
   "cell_type": "code",
   "execution_count": 41,
   "metadata": {},
   "outputs": [],
   "source": [
    "def LDA_RF_M_N_O2 (tasks, k_parameter, num_iter):\n",
    "    std = [] \n",
    "#     for mode in ['no_lda','lda']:\n",
    "    for mode in ['lda']:\n",
    "        for task_train,task_test in tasks:\n",
    "\n",
    "            print('-------------------')\n",
    "            print('training:{}/test:{}/mode:{}'.format(task_train,task_test,mode))\n",
    "            train_3 = ds_train[task_train]\n",
    "            test_3  = ds_test[task_test]\n",
    "\n",
    "            X = np.array(train_3.iloc[:,0:-1])\n",
    "            Y = np.array(train_3['target'])\n",
    "\n",
    "            rnd_clf = RandomForestClassifier(n_estimators=1000, n_jobs=-1)\n",
    "\n",
    "            all_scores = []\n",
    "            Mouse = 0\n",
    "            Nose = 0\n",
    "            for idx in range(num_iter):\n",
    "                skf = StratifiedKFold(n_splits=k_parameter, shuffle=True)\n",
    "                skf.get_n_splits(X,Y)\n",
    "\n",
    "                for train_index, test_index in skf.split(X,Y):\n",
    "\n",
    "                    X_final = X\n",
    "                    lda = LinearDiscriminantAnalysis(n_components=1)\n",
    "                    if(mode == 'lda') : \n",
    "                        lda.fit(X,Y)\n",
    "#                         X_final = X\n",
    "                        X_final = lda.transform(X)\n",
    "                    \n",
    "\n",
    "                    rnd_clf.fit(X_final[train_index], Y[train_index])\n",
    "                    val_mae = rnd_clf.score(X_final[test_index],Y[test_index])\n",
    "                    all_scores.append(val_mae)\n",
    "\n",
    "                    test = np.array(test_3.iloc[:,0:-1])\n",
    "                    test = lda.transform(test)\n",
    "\n",
    "                    aaa = rnd_clf.predict(test)\n",
    "\n",
    "                    Mouse = Mouse+np.count_nonzero(aaa==0)\n",
    "                    Nose = Nose+ np.count_nonzero(aaa==1)\n",
    "                    std.append(Mouse/(Mouse+Nose))\n",
    "\n",
    "            print('model_score:{}'.format(np.mean(all_scores)))\n",
    "            print('std:{}'.format(np.std(all_scores)))\n",
    "            print('mouse:{}({:.4}), nose:{}({:.4}) / total:{}'.format(Mouse,Mouse/(Mouse+Nose),Nose,Nose/(Mouse+Nose),(Mouse+Nose)))\n",
    "            \n",
    "    return std"
   ]
  },
  {
   "cell_type": "code",
   "execution_count": 42,
   "metadata": {},
   "outputs": [],
   "source": [
    "def ex_LDA_RF_M_N_O2 (tasks, k_parameter, num_iter):\n",
    "    std = [] \n",
    "#     for mode in ['no_lda','lda']:\n",
    "    for mode in ['lda']:\n",
    "        for task_train,task_test in tasks:\n",
    "\n",
    "            print('-------------------')\n",
    "            print('training:{}/test:{}/mode:{}'.format(task_train,task_test,mode))\n",
    "            train_3 = ex_ds_train[task_train]\n",
    "            test_3  = ex_ds_test[task_test]\n",
    "\n",
    "            X = np.array(train_3.iloc[:,0:-1])\n",
    "            Y = np.array(train_3['target'])\n",
    "\n",
    "            rnd_clf = RandomForestClassifier(n_estimators=1000, n_jobs=-1)\n",
    "\n",
    "            all_scores = []\n",
    "            Mouse = 0\n",
    "            Nose = 0\n",
    "            for idx in range(num_iter):\n",
    "                skf = StratifiedKFold(n_splits=k_parameter, shuffle=True)\n",
    "#                 print(skf.get_n_splits(X,Y))\n",
    "\n",
    "                for train_index, test_index in skf.split(X,Y):\n",
    "\n",
    "                    X_final = X\n",
    "                    lda = LinearDiscriminantAnalysis(n_components=1)\n",
    "                    if(mode == 'lda') : \n",
    "                        lda.fit(X,Y)\n",
    "#                         X_final = X\n",
    "                        X_final = lda.transform(X)\n",
    "                    \n",
    "\n",
    "                    rnd_clf.fit(X_final[train_index], Y[train_index])\n",
    "                    val_mae = rnd_clf.score(X_final[test_index],Y[test_index])\n",
    "                    all_scores.append(val_mae)\n",
    "\n",
    "                    test = np.array(test_3.iloc[:,0:-1])\n",
    "                    if mode == 'lda':\n",
    "#                         pass\n",
    "                        test = lda.transform(test)\n",
    "\n",
    "                    aaa = rnd_clf.predict(test)\n",
    "\n",
    "                    Mouse = Mouse+np.count_nonzero(aaa==0)\n",
    "                    Nose = Nose+ np.count_nonzero(aaa==1)\n",
    "                    std.append(Mouse/(Mouse+Nose))\n",
    "\n",
    "\n",
    "            print('model_score:{}'.format(np.mean(all_scores)))\n",
    "            print('std:{}'.format(np.std(all_scores)))\n",
    "            print('mouse:{}({:.4}), nose:{}({:.4}) / total:{}'.format(Mouse,Mouse/(Mouse+Nose),Nose,Nose/(Mouse+Nose),(Mouse+Nose)))\n",
    "            \n",
    "    return std"
   ]
  },
  {
   "cell_type": "markdown",
   "metadata": {},
   "source": [
    " "
   ]
  },
  {
   "cell_type": "markdown",
   "metadata": {},
   "source": [
    "# Task list\n",
    "\n",
    "        * 1back_mouse, 1back_nose, 1back_O2, 1back_m_n, 1back\n",
    "        \n",
    "        \n",
    "        * 2back_mouse, 2back_nose, 2back_O2, 2back_m_n, 2back\n",
    "        \n",
    "        \n",
    "        * close_rest_mouse, close_rest_nose, close_rest_O2, close_rest_m_n, close_rest\n",
    "        \n",
    "        \n",
    "        * open_rest_mouse, open_rest_nose, open_rest_O2, open_rest_m_n, open_rest\n",
    "        \n",
    "        * total_mouse, total_nose, total_O2, total_m_n\n",
    " \n"
   ]
  },
  {
   "cell_type": "markdown",
   "metadata": {},
   "source": [
    "### Poster Result data"
   ]
  },
  {
   "cell_type": "markdown",
   "metadata": {},
   "source": [
    "# 기존 결과"
   ]
  },
  {
   "cell_type": "code",
   "execution_count": 73,
   "metadata": {},
   "outputs": [
    {
     "name": "stdout",
     "output_type": "stream",
     "text": [
      " Result data\n",
      "LDA-RF\n",
      "-------------------\n",
      "training:close_rest_m_n/test:close_rest_O2/mode:lda\n",
      "model_score:0.948\n",
      "std:0.10860939185908373\n",
      "mouse:5059(0.5059), nose:4941(0.4941) / total:10000\n",
      "-------------------\n",
      "training:close_rest_m_n/test:open_rest_O2/mode:lda\n",
      "model_score:0.95\n",
      "std:0.10488088481701514\n",
      "mouse:5000(0.5), nose:5000(0.5) / total:10000\n",
      "-------------------\n",
      "training:close_rest_m_n/test:1back_O2/mode:lda\n",
      "model_score:0.9475\n",
      "std:0.11121488209767612\n",
      "mouse:3557(0.3557), nose:6443(0.6443) / total:10000\n",
      "-------------------\n",
      "training:close_rest_m_n/test:2back_O2/mode:lda\n",
      "model_score:0.949\n",
      "std:0.11022250223978768\n",
      "mouse:2558(0.2558), nose:7442(0.7442) / total:10000\n"
     ]
    }
   ],
   "source": [
    "print(\" Result data\")\n",
    "tasks1 = [\n",
    "    ('close_rest_m_n','close_rest_O2'),\n",
    "    ('close_rest_m_n','open_rest_O2'),\n",
    "     ('close_rest_m_n','1back_O2'),\n",
    "     ('close_rest_m_n','2back_O2'),\n",
    "\n",
    " ]\n",
    "print(\"LDA-RF\")\n",
    "result = LDA_RF_M_N_O2(tasks1,k_parameter = 10,num_iter = 50)\n"
   ]
  },
  {
   "cell_type": "code",
   "execution_count": 89,
   "metadata": {},
   "outputs": [
    {
     "name": "stdout",
     "output_type": "stream",
     "text": [
      "closed eye rest state std : 0.007\n",
      "opened eye rest state std : 0.001\n",
      "1-back std : 0.001\n",
      "2-back std : 0.0\n"
     ]
    }
   ],
   "source": [
    "print('closed eye rest state std : {}'.format(np.round(np.std(result[0:10]),3 )))\n",
    "print('opened eye rest state std : {}'.format(np.round(np.std(result[10:20] ),3)))\n",
    "print('1-back std : {}'.format(np.round(np.std(result[20:30]),3 )))\n",
    "print('2-back std : {}'.format(np.round(np.std(result[30:40] ),3)))"
   ]
  },
  {
   "cell_type": "code",
   "execution_count": 71,
   "metadata": {},
   "outputs": [
    {
     "name": "stdout",
     "output_type": "stream",
     "text": [
      "closed eye rest state std : 0.003\n",
      "opened eye rest state std : 0.0\n",
      "1-back std : 0.009\n",
      "2-back std : 0.014\n"
     ]
    }
   ],
   "source": [
    "print('closed eye rest state std : {}'.format(np.round(np.std(result[0:10]),3 )))\n",
    "print('opened eye rest state std : {}'.format(np.round(np.std(result[10:20] ),3)))\n",
    "print('1-back std : {}'.format(np.round(np.std(result[20:30]),3 )))\n",
    "print('2-back std : {}'.format(np.round(np.std(result[30:40] ),3)))"
   ]
  },
  {
   "cell_type": "markdown",
   "metadata": {},
   "source": [
    "# Exclusive Gamma band Result\n"
   ]
  },
  {
   "cell_type": "code",
   "execution_count": 74,
   "metadata": {},
   "outputs": [
    {
     "name": "stdout",
     "output_type": "stream",
     "text": [
      " Result data\n",
      "LDA-RF\n",
      "-------------------\n",
      "training:close_rest_m_n/test:close_rest_O2/mode:lda\n",
      "model_score:0.927\n",
      "std:0.12317061337835418\n",
      "mouse:5549(0.5549), nose:4451(0.4451) / total:10000\n",
      "-------------------\n",
      "training:close_rest_m_n/test:open_rest_O2/mode:lda\n",
      "model_score:0.926\n",
      "std:0.12459534501738015\n",
      "mouse:3562(0.3562), nose:6438(0.6438) / total:10000\n",
      "-------------------\n",
      "training:close_rest_m_n/test:1back_O2/mode:lda\n",
      "model_score:0.923\n",
      "std:0.12677144788949915\n",
      "mouse:3550(0.355), nose:6450(0.645) / total:10000\n",
      "-------------------\n",
      "training:close_rest_m_n/test:2back_O2/mode:lda\n",
      "model_score:0.9235\n",
      "std:0.12256732843625173\n",
      "mouse:2005(0.2005), nose:7995(0.7995) / total:10000\n"
     ]
    }
   ],
   "source": [
    "print(\" Result data\")\n",
    "tasks1 = [\n",
    "    ('close_rest_m_n','close_rest_O2'),\n",
    "    ('close_rest_m_n','open_rest_O2'),\n",
    "     ('close_rest_m_n','1back_O2'),\n",
    "     ('close_rest_m_n','2back_O2'),\n",
    "\n",
    " ]\n",
    "print(\"LDA-RF\")\n",
    "ex_result = ex_LDA_RF_M_N_O2(tasks1,k_parameter = 10,num_iter = 50)\n"
   ]
  },
  {
   "cell_type": "code",
   "execution_count": 90,
   "metadata": {},
   "outputs": [
    {
     "name": "stdout",
     "output_type": "stream",
     "text": [
      "closed eye rest state std : 0.003\n",
      "opened eye rest state std : 0.001\n",
      "1-back std : 0.001\n",
      "2-back std : 0.0\n"
     ]
    }
   ],
   "source": [
    "print('closed eye rest state std : {}'.format(np.round(np.std(ex_result[0:10]),3 )))\n",
    "print('opened eye rest state std : {}'.format(np.round(np.std(ex_result[10:20] ),3)))\n",
    "print('1-back std : {}'.format(np.round(np.std(ex_result[20:30]),3 )))\n",
    "print('2-back std : {}'.format(np.round(np.std(ex_result[30:40] ),3)))"
   ]
  },
  {
   "cell_type": "code",
   "execution_count": 72,
   "metadata": {},
   "outputs": [
    {
     "name": "stdout",
     "output_type": "stream",
     "text": [
      "closed eye rest state std : 0.003\n",
      "opened eye rest state std : 0.007\n",
      "1-back std : 0.007\n",
      "2-back std : 0.006\n"
     ]
    }
   ],
   "source": [
    "print('closed eye rest state std : {}'.format(np.round(np.std(ex_result[0:10]),3 )))\n",
    "print('opened eye rest state std : {}'.format(np.round(np.std(ex_result[10:20] ),3)))\n",
    "print('1-back std : {}'.format(np.round(np.std(ex_result[20:30]),3 )))\n",
    "print('2-back std : {}'.format(np.round(np.std(ex_result[30:40] ),3)))"
   ]
  },
  {
   "cell_type": "code",
   "execution_count": 75,
   "metadata": {},
   "outputs": [],
   "source": [
    "def test(tasks, k_parameter, num_iter):\n",
    "    for task_train,task_test in tasks:\n",
    "        print('-------------------')\n",
    "        print('training:{}/test:{}'.format(task_train,task_test))\n",
    "        train_3 = ds_train[task_train]\n",
    "        test_3  = ds_test[task_test]\n",
    "        m_n = ds_train['total_m_n']\n",
    "        m_n_X = np.array(m_n.iloc[:,0:-2])\n",
    "        m_n_Y = np.array(m_n['target'])\n",
    "        lda = LinearDiscriminantAnalysis(n_components=1)\n",
    "        lda.fit(m_n_X,m_n_Y)\n",
    "\n",
    "        X = np.array(train_3.iloc[:,0:-2])\n",
    "        Y = np.array(train_3['target'])\n",
    "\n",
    "        rnd_clf = RandomForestClassifier(n_estimators=1000, n_jobs=-1)\n",
    "\n",
    "        all_scores = []\n",
    "        Mouse = 0\n",
    "        Nose = 0\n",
    "        for idx in range(num_iter):\n",
    "            skf = StratifiedKFold(n_splits=k_parameter, shuffle=True)\n",
    "            skf.get_n_splits(X,Y)\n",
    "\n",
    "            for train_index, test_index in skf.split(X,Y):\n",
    "                X_final = lda.transform(X)\n",
    "                rnd_clf.fit(X_final[train_index], Y[train_index])\n",
    "                val_mae = rnd_clf.score(X_final[test_index],Y[test_index])\n",
    "                all_scores.append(val_mae)\n",
    "\n",
    "                test = np.array(test_3.iloc[:,0:-2])\n",
    "                test = lda.transform(test)\n",
    "\n",
    "                aaa = rnd_clf.predict(test)\n",
    "\n",
    "                Mouse = Mouse+np.count_nonzero(aaa==0)\n",
    "                Nose = Nose+ np.count_nonzero(aaa==1)\n",
    "\n",
    "        print('model_score:{}'.format(np.mean(all_scores)))\n",
    "        print('mouse:{}({:.2}), nose:{}({:.2}) / total:{}'.format(Mouse,Mouse/(Mouse+Nose),Nose,Nose/(Mouse+Nose),(Mouse+Nose)))"
   ]
  },
  {
   "cell_type": "code",
   "execution_count": 76,
   "metadata": {},
   "outputs": [
    {
     "name": "stdout",
     "output_type": "stream",
     "text": [
      "test\n",
      "-------------------\n",
      "training:close_rest_m_n/test:close_rest_O2\n",
      "model_score:0.9\n",
      "mouse:50(0.25), nose:150(0.75) / total:200\n",
      "-------------------\n",
      "training:close_rest_m_n/test:open_rest_O2\n",
      "model_score:0.9\n",
      "mouse:90(0.45), nose:110(0.55) / total:200\n",
      "-------------------\n",
      "training:close_rest_m_n/test:1back_O2\n",
      "model_score:0.925\n",
      "mouse:111(0.56), nose:89(0.45) / total:200\n",
      "-------------------\n",
      "training:close_rest_m_n/test:2back_O2\n",
      "model_score:0.9\n",
      "mouse:102(0.51), nose:98(0.49) / total:200\n"
     ]
    }
   ],
   "source": [
    "tasks1 = [\n",
    "    ('close_rest_m_n','close_rest_O2'),\n",
    "    ('close_rest_m_n','open_rest_O2'),\n",
    "     ('close_rest_m_n','1back_O2'),\n",
    "     ('close_rest_m_n','2back_O2'),\n",
    "\n",
    " ]\n",
    "print(\"test\")\n",
    "test(tasks1,k_parameter = 10,num_iter = 1)\n"
   ]
  },
  {
   "cell_type": "markdown",
   "metadata": {},
   "source": [
    "# LDA_Co_efficient 뽑아낸것"
   ]
  },
  {
   "cell_type": "code",
   "execution_count": 77,
   "metadata": {},
   "outputs": [],
   "source": [
    "m_n = ds_train['close_rest_m_n']\n",
    "m_n_X = np.array(m_n.iloc[:,0:-1])\n",
    "m_n_Y = np.array(m_n['target'])\n",
    "lda = LinearDiscriminantAnalysis(n_components=1)\n",
    "lda.fit(m_n_X,m_n_Y)\n",
    "\n",
    "a = []\n",
    "\n",
    "for channel, coef in zip(eeg_data_3.columns[:-1], lda.coef_[0]):\n",
    "    a.append([channel, coef])\n",
    "    \n"
   ]
  },
  {
   "cell_type": "code",
   "execution_count": 78,
   "metadata": {},
   "outputs": [],
   "source": [
    "alpha = pd.DataFrame(a[0:32],columns=['channel','LDARF_Coefficient'])\n",
    "beta = pd.DataFrame(a[32:64],columns=['channel','LDARF_Coefficient'])\n",
    "delta = pd.DataFrame(a[64:96],columns=['channel','LDARF_Coefficient'])\n",
    "gamma = pd.DataFrame(a[96:128],columns=['channel','LDARF_Coefficient'])\n",
    "theta = pd.DataFrame(a[128:160],columns=['channel','LDARF_Coefficient'])\n",
    "\n",
    "alpha.to_csv('alpha.csv')\n",
    "beta.to_csv('beta.csv')\n",
    "delta.to_csv('delta.csv')\n",
    "gamma.to_csv('gamma.csv')\n",
    "theta.to_csv('theta.csv')\n"
   ]
  },
  {
   "cell_type": "markdown",
   "metadata": {},
   "source": [
    "# LDA_Co_efficient 뽑아낸것( exclusive gamma)"
   ]
  },
  {
   "cell_type": "code",
   "execution_count": 79,
   "metadata": {},
   "outputs": [],
   "source": [
    "m_n = ex_ds_train['close_rest_m_n']\n",
    "m_n_X = np.array(m_n.iloc[:,0:-1])\n",
    "m_n_Y = np.array(m_n['target'])\n",
    "lda = LinearDiscriminantAnalysis(n_components=1)\n",
    "lda.fit(m_n_X,m_n_Y)\n",
    "\n",
    "b= []\n",
    "\n",
    "for channel, coef in zip(m_n.columns[:-1], lda.coef_[0]):\n",
    "    b.append([channel, coef])\n",
    "    "
   ]
  },
  {
   "cell_type": "code",
   "execution_count": 80,
   "metadata": {},
   "outputs": [],
   "source": [
    "ex_alpha = pd.DataFrame(b[0:32],columns=['channel','LDARF_Coefficient'])\n",
    "ex_beta = pd.DataFrame(b[32:64],columns=['channel','LDARF_Coefficient'])\n",
    "ex_delta = pd.DataFrame(b[64:96],columns=['channel','LDARF_Coefficient'])\n",
    "ex_theta = pd.DataFrame(b[96:128],columns=['channel','LDARF_Coefficient'])\n",
    "\n",
    "ex_alpha.to_csv('ex_alpha.csv')\n",
    "ex_beta.to_csv('ex_beta.csv')\n",
    "ex_delta.to_csv('ex_delta.csv')\n",
    "ex_theta.to_csv('ex_theta.csv')\n"
   ]
  },
  {
   "cell_type": "code",
   "execution_count": 81,
   "metadata": {},
   "outputs": [
    {
     "data": {
      "image/png": "[encoded data removed]",
      "text/plain": [
       "<Figure size 720x720 with 5 Axes>"
      ]
     },
     "metadata": {
      "needs_background": "light"
     },
     "output_type": "display_data"
    }
   ],
   "source": [
    "fig = plt.figure(figsize=(10,10))\n",
    "\n",
    "ax1 = fig.add_subplot(3,2,1)\n",
    "ax2 = fig.add_subplot(3,2,2)\n",
    "ax3= fig.add_subplot(3,2,3)\n",
    "ax4= fig.add_subplot(3,2,4)\n",
    "ax5=fig.add_subplot(3,2,5)\n",
    "\n",
    "ax1.bar(np.arange(1,33,1),alpha[\"LDARF_Coefficient\"])\n",
    "ax1.set_yticks([-3,-2,-1,0,1,2,3])\n",
    "ax1.set_ylabel(\"LDA transformed coef\")\n",
    "ax1.set_xlabel(\"Channel\")\n",
    "ax1.set_title(\"Alpha\")\n",
    "ax1.grid()\n",
    "\n",
    "ax2.bar(np.arange(1,33,1),beta[\"LDARF_Coefficient\"])\n",
    "ax2.set_yticks([-3,-2,-1,0,1,2,3])\n",
    "ax2.set_ylabel(\"LDA transformed coef\")\n",
    "ax2.set_xlabel(\"Channel\")\n",
    "ax2.set_title(\"Beta\")\n",
    "ax2.grid()\n",
    "\n",
    "\n",
    "ax3.bar(np.arange(1,33,1),delta[\"LDARF_Coefficient\"])\n",
    "ax3.set_yticks([-3,-2,-1,0,1,2,3])\n",
    "ax3.set_ylabel(\"LDA transformed coef\")\n",
    "ax3.set_xlabel(\"Channel\")\n",
    "ax3.set_title(\"Delta\")\n",
    "ax3.grid()\n",
    "\n",
    "\n",
    "ax4.bar(np.arange(1,33,1),gamma[\"LDARF_Coefficient\"])\n",
    "ax4.set_yticks([-3,-2,-1,0,1,2,3])\n",
    "ax4.set_ylabel(\"LDA transformed coef\")\n",
    "ax4.set_xlabel(\"Channel\")\n",
    "ax4.set_title(\"Gamma\")\n",
    "ax4.grid()\n",
    "\n",
    "\n",
    "ax5.bar(np.arange(1,33,1),theta[\"LDARF_Coefficient\"])\n",
    "ax5.set_yticks([-3,-2,-1,0,1,2,3])\n",
    "ax5.set_ylabel(\"LDA transformed coef\")\n",
    "ax5.set_xlabel(\"Channel\")\n",
    "ax5.set_title(\"Theta\")\n",
    "ax5.grid()\n",
    "fig.tight_layout()\n"
   ]
  },
  {
   "cell_type": "code",
   "execution_count": 82,
   "metadata": {},
   "outputs": [
    {
     "data": {
      "image/png": "[encoded data removed]",
      "text/plain": [
       "<Figure size 720x720 with 4 Axes>"
      ]
     },
     "metadata": {
      "needs_background": "light"
     },
     "output_type": "display_data"
    }
   ],
   "source": [
    "fig = plt.figure(figsize=(10,10))\n",
    "\n",
    "ax1 = fig.add_subplot(2,2,1)\n",
    "ax2 = fig.add_subplot(2,2,2)\n",
    "ax3= fig.add_subplot(2,2,3)\n",
    "ax4= fig.add_subplot(2,2,4)\n",
    "\n",
    "ax1.bar(np.arange(1,33,1),ex_alpha[\"LDARF_Coefficient\"])\n",
    "ax1.set_yticks([-3,-2,-1,0,1,2,3])\n",
    "ax1.set_ylabel(\"LDA transformed coef\")\n",
    "ax1.set_xlabel(\"Channel\")\n",
    "ax1.set_title(\"Alpha\")\n",
    "ax1.grid()\n",
    "\n",
    "ax2.bar(np.arange(1,33,1),ex_beta[\"LDARF_Coefficient\"])\n",
    "ax2.set_yticks([-3,-2,-1,0,1,2,3])\n",
    "ax2.set_ylabel(\"LDA transformed coef\")\n",
    "ax2.set_xlabel(\"Channel\")\n",
    "ax2.set_title(\"Beta\")\n",
    "ax2.grid()\n",
    "\n",
    "\n",
    "ax3.bar(np.arange(1,33,1),ex_delta[\"LDARF_Coefficient\"])\n",
    "ax3.set_yticks([-3,-2,-1,0,1,2,3])\n",
    "ax3.set_ylabel(\"LDA transformed coef\")\n",
    "ax3.set_xlabel(\"Channel\")\n",
    "ax3.set_title(\"Delta\")\n",
    "ax3.grid()\n",
    "\n",
    "\n",
    "\n",
    "ax4.bar(np.arange(1,33,1),ex_theta[\"LDARF_Coefficient\"])\n",
    "ax4.set_yticks([-3,-2,-1,0,1,2,3])\n",
    "ax4.set_ylabel(\"LDA transformed coef\")\n",
    "ax4.set_xlabel(\"Channel\")\n",
    "ax4.set_title(\"Theta\")\n",
    "ax4.grid()\n",
    "fig.tight_layout()\n"
   ]
  },
  {
   "cell_type": "code",
   "execution_count": 83,
   "metadata": {},
   "outputs": [],
   "source": [
    "ex_dict ={'alpha':np.sum(abs(ex_alpha['LDARF_Coefficient'])),\n",
    "          'beta':np.sum(abs(ex_beta['LDARF_Coefficient'])),\n",
    "          'delta':np.sum(abs(ex_delta['LDARF_Coefficient'])),\n",
    "          'theta':np.sum(abs(ex_theta['LDARF_Coefficient']))}"
   ]
  },
  {
   "cell_type": "code",
   "execution_count": 84,
   "metadata": {},
   "outputs": [],
   "source": [
    "dict_ ={'alpha':np.sum(abs(alpha['LDARF_Coefficient'])),\n",
    "        'beta':np.sum(abs(beta['LDARF_Coefficient'])),\n",
    "        'delta':np.sum(abs(delta['LDARF_Coefficient'])),\n",
    "        'theta':np.sum(abs(theta['LDARF_Coefficient'])),\n",
    "        'gamma':np.sum(abs(gamma['LDARF_Coefficient']))}"
   ]
  },
  {
   "cell_type": "markdown",
   "metadata": {},
   "source": [
    "# LDA coefficient 결과 "
   ]
  },
  {
   "cell_type": "code",
   "execution_count": 85,
   "metadata": {},
   "outputs": [
    {
     "data": {
      "text/plain": [
       "gamma    32.203039\n",
       "beta      9.232242\n",
       "theta     5.036318\n",
       "alpha     4.697260\n",
       "delta     3.142872\n",
       "dtype: float64"
      ]
     },
     "execution_count": 85,
     "metadata": {},
     "output_type": "execute_result"
    }
   ],
   "source": [
    "pd.Series(dict_).sort_values(axis=0,ascending=False)"
   ]
  },
  {
   "cell_type": "markdown",
   "metadata": {},
   "source": [
    "# Gamma exclusive LDA coeffienct 결과"
   ]
  },
  {
   "cell_type": "code",
   "execution_count": 86,
   "metadata": {},
   "outputs": [
    {
     "data": {
      "text/plain": [
       "beta     12.731377\n",
       "theta     7.858543\n",
       "alpha     4.412545\n",
       "delta     3.862025\n",
       "dtype: float64"
      ]
     },
     "execution_count": 86,
     "metadata": {},
     "output_type": "execute_result"
    }
   ],
   "source": [
    "pd.Series(ex_dict).sort_values(axis=0,ascending=False)"
   ]
  },
  {
   "cell_type": "markdown",
   "metadata": {},
   "source": [
    "# "
   ]
  },
  {
   "cell_type": "code",
   "execution_count": 87,
   "metadata": {},
   "outputs": [
    {
     "data": {
      "text/plain": [
       "[['ACh1', 0.1772426740278658],\n",
       " ['ACh2', 0.17493447686480185],\n",
       " ['ACh3', 0.0897929817664152],\n",
       " ['ACh4', -0.23191658063615916],\n",
       " ['ACh5', 0.3019293447474365],\n",
       " ['ACh6', -0.09012472745673689],\n",
       " ['ACh7', -0.029793112455354286],\n",
       " ['ACh8', 0.06149491140394865],\n",
       " ['ACh9', -0.03254559835611952],\n",
       " ['ACh10', 0.03723237877713034],\n",
       " ['ACh11', 0.32746920790642176],\n",
       " ['ACh12', -0.45945765793945015],\n",
       " ['ACh13', 0.023722060787888334],\n",
       " ['ACh14', -0.22243266747530932],\n",
       " ['ACh15', 0.04108085787366238],\n",
       " ['ACh16', -0.178531446658599],\n",
       " ['ACh17', -0.07174476488683176],\n",
       " ['ACh18', 6.275859075306898e-16],\n",
       " ['ACh19', 0.22935607496236793],\n",
       " ['ACh20', 0.044160226787586784],\n",
       " ['ACh21', -0.5467229501392568],\n",
       " ['ACh22', 0.06054726557495653],\n",
       " ['ACh23', 0.0014886623268469488],\n",
       " ['ACh24', -0.07868896239473452],\n",
       " ['ACh25', 0.3253487993837454],\n",
       " ['ACh26', -0.29330374425083416],\n",
       " ['ACh27', -0.07185140893789138],\n",
       " ['ACh28', 0.0027615095120858933],\n",
       " ['ACh29', -0.059214447785055746],\n",
       " ['ACh30', 0.26379480942642963],\n",
       " ['ACh31', 0.007229228083377663],\n",
       " ['ACh32', -0.16134613852279867],\n",
       " ['BCh1', -0.18733529202854382],\n",
       " ['BCh2', -0.3275366776753846],\n",
       " ['BCh3', -0.480234967335462],\n",
       " ['BCh4', -0.5414353470860072],\n",
       " ['BCh5', 0.32515468607292886],\n",
       " ['BCh6', -0.5140766738575189],\n",
       " ['BCh7', 0.3188514268032685],\n",
       " ['BCh8', -0.015914276682687623],\n",
       " ['BCh9', 0.11520905970909834],\n",
       " ['BCh10', -0.23182464807881403],\n",
       " ['BCh11', 0.5955867219721582],\n",
       " ['BCh12', -0.3093556329840712],\n",
       " ['BCh13', 0.2953537544558602],\n",
       " ['BCh14', 0.14456104743572698],\n",
       " ['BCh15', 0.15391724455842937],\n",
       " ['BCh16', -0.5307939159681107],\n",
       " ['BCh17', 0.12845500367378304],\n",
       " ['BCh18', -0.0],\n",
       " ['BCh19', -0.20595583876013124],\n",
       " ['BCh20', -0.10239961535020844],\n",
       " ['BCh21', -0.7768303798688028],\n",
       " ['BCh22', -0.09319646647668609],\n",
       " ['BCh23', 0.36928363925729335],\n",
       " ['BCh24', 0.10147668636695555],\n",
       " ['BCh25', 1.0793244050474151],\n",
       " ['BCh26', -0.2559506034321549],\n",
       " ['BCh27', -0.05926406488397143],\n",
       " ['BCh28', 0.10535627930482624],\n",
       " ['BCh29', 0.6494564407957246],\n",
       " ['BCh30', -0.04989697913852768],\n",
       " ['BCh31', 0.05247841580968435],\n",
       " ['BCh32', -0.11577562881145674],\n",
       " ['DCh1', 0.03266904405354937],\n",
       " ['DCh2', -0.10996338319676804],\n",
       " ['DCh3', 0.005581592515736875],\n",
       " ['DCh4', 0.05082416800855938],\n",
       " ['DCh5', -0.19640361420934022],\n",
       " ['DCh6', 0.1502875087993963],\n",
       " ['DCh7', 0.03193344297118961],\n",
       " ['DCh8', -0.07793719900454651],\n",
       " ['DCh9', 0.03272935250503894],\n",
       " ['DCh10', -0.053003884222364475],\n",
       " ['DCh11', -0.15228803565795224],\n",
       " ['DCh12', 0.21866551070575307],\n",
       " ['DCh13', -0.07202339219988732],\n",
       " ['DCh14', 0.05665251025265296],\n",
       " ['DCh15', 0.0004166015943514354],\n",
       " ['DCh16', 0.31043471342026474],\n",
       " ['DCh17', -0.151506573438623],\n",
       " ['DCh18', -0.0],\n",
       " ['DCh19', -0.1689633983568875],\n",
       " ['DCh20', -0.05282038178161162],\n",
       " ['DCh21', 0.20399990088369407],\n",
       " ['DCh22', -0.07642079904790566],\n",
       " ['DCh23', 0.03595680387225195],\n",
       " ['DCh24', 0.11776066602535085],\n",
       " ['DCh25', -0.08040496168879693],\n",
       " ['DCh26', 0.11263850946384912],\n",
       " ['DCh27', -0.07814865898044124],\n",
       " ['DCh28', -0.10162582432890824],\n",
       " ['DCh29', -0.12206686657249208],\n",
       " ['DCh30', -0.07194833190289303],\n",
       " ['DCh31', 0.05281045140583909],\n",
       " ['DCh32', 0.1639861093975717],\n",
       " ['GCh1', 1.8352631032197886],\n",
       " ['GCh2', 1.3636043810790546],\n",
       " ['GCh3', -2.4788124002359986],\n",
       " ['GCh4', 1.4538459909979515],\n",
       " ['GCh5', -0.5675809742849997],\n",
       " ['GCh6', -1.4544809509657428],\n",
       " ['GCh7', -2.586091903103371],\n",
       " ['GCh8', 2.7552893677831762],\n",
       " ['GCh9', -0.09627698116785222],\n",
       " ['GCh10', -0.5146010626181302],\n",
       " ['GCh11', -0.14139276253773875],\n",
       " ['GCh12', -1.5765814683319388],\n",
       " ['GCh13', 0.4752635938563632],\n",
       " ['GCh14', -0.6115867768141596],\n",
       " ['GCh15', 0.5617298843543395],\n",
       " ['GCh16', -0.4015654506197801],\n",
       " ['GCh17', 0.9441928859753679],\n",
       " ['GCh18', -0.0],\n",
       " ['GCh19', -0.24040429258324214],\n",
       " ['GCh20', -0.1654065998256175],\n",
       " ['GCh21', 1.6009571797235238],\n",
       " ['GCh22', 1.2720734797664184],\n",
       " ['GCh23', 0.5912439243415846],\n",
       " ['GCh24', 2.292592745979073],\n",
       " ['GCh25', 1.1037739450679669],\n",
       " ['GCh26', 0.3716481046702778],\n",
       " ['GCh27', 0.8475756686576041],\n",
       " ['GCh28', 1.5111723541437256],\n",
       " ['GCh29', -0.39090301975768804],\n",
       " ['GCh30', -0.8175974884837351],\n",
       " ['GCh31', -0.7997796368851009],\n",
       " ['GCh32', -0.37975081307905156],\n",
       " ['TCh1', 0.08989350377020813],\n",
       " ['TCh2', 0.2700005855855967],\n",
       " ['TCh3', 0.021160691140558255],\n",
       " ['TCh4', 0.057244339604559394],\n",
       " ['TCh5', 0.1828884494733582],\n",
       " ['TCh6', -0.08031462698596856],\n",
       " ['TCh7', -0.08940075415733231],\n",
       " ['TCh8', 0.12246611966620613],\n",
       " ['TCh9', 0.015739103503948575],\n",
       " ['TCh10', 0.19908582146597914],\n",
       " ['TCh11', 0.04413364502673124],\n",
       " ['TCh12', -0.23317882389511563],\n",
       " ['TCh13', 0.03287360600507997],\n",
       " ['TCh14', 0.21309409148817976],\n",
       " ['TCh15', -0.22569016762068195],\n",
       " ['TCh16', -0.18185308193359134],\n",
       " ['TCh17', 0.42306242086634066],\n",
       " ['TCh18', -0.0],\n",
       " ['TCh19', -0.213149478461151],\n",
       " ['TCh20', 0.07432676809496608],\n",
       " ['TCh21', -0.10205178794301961],\n",
       " ['TCh22', 0.11501855498223201],\n",
       " ['TCh23', -0.284499025793128],\n",
       " ['TCh24', -0.37420531755474695],\n",
       " ['TCh25', -0.2390727252030445],\n",
       " ['TCh26', -0.1380612056484301],\n",
       " ['TCh27', 0.29029001174576874],\n",
       " ['TCh28', 0.2479137930626777],\n",
       " ['TCh29', 0.15407074020263475],\n",
       " ['TCh30', 0.04230281590883479],\n",
       " ['TCh31', -0.19534646405955602],\n",
       " ['TCh32', 0.0839297688273265]]"
      ]
     },
     "execution_count": 87,
     "metadata": {},
     "output_type": "execute_result"
    }
   ],
   "source": [
    "a"
   ]
  },
  {
   "cell_type": "code",
   "execution_count": 88,
   "metadata": {},
   "outputs": [
    {
     "data": {
      "text/plain": [
       "[['ACh1', -0.01383814204007065],\n",
       " ['ACh2', 0.002603314181211938],\n",
       " ['ACh3', 0.003746047764530696],\n",
       " ['ACh4', -0.3376832882822713],\n",
       " ['ACh5', 0.12219909591429515],\n",
       " ['ACh6', 0.08620510601802998],\n",
       " ['ACh7', -0.11821920718997025],\n",
       " ['ACh8', 0.12710701122823256],\n",
       " ['ACh9', -0.03774379089160825],\n",
       " ['ACh10', 0.05094991901216096],\n",
       " ['ACh11', 0.3486570461654195],\n",
       " ['ACh12', -0.5234703276977793],\n",
       " ['ACh13', -0.10558950401081145],\n",
       " ['ACh14', -0.10666841499122909],\n",
       " ['ACh15', 0.007411339102750102],\n",
       " ['ACh16', -0.1509070850474958],\n",
       " ['ACh17', 0.008335730228750267],\n",
       " ['ACh18', 3.033123438261251e-15],\n",
       " ['ACh19', 0.28066768815195436],\n",
       " ['ACh20', -0.009461390485496227],\n",
       " ['ACh21', -0.3323019675747345],\n",
       " ['ACh22', -0.023081351862344855],\n",
       " ['ACh23', -0.07381714430322585],\n",
       " ['ACh24', 0.02523185366322886],\n",
       " ['ACh25', -0.05983288949297838],\n",
       " ['ACh26', -0.21763102368896703],\n",
       " ['ACh27', -0.18253756049714398],\n",
       " ['ACh28', 0.11127890175390098],\n",
       " ['ACh29', -0.26442286891730915],\n",
       " ['ACh30', 0.33370084408209755],\n",
       " ['ACh31', 0.04085193366894619],\n",
       " ['ACh32', -0.3063932098919074],\n",
       " ['BCh1', -0.07581607690157696],\n",
       " ['BCh2', -0.6110393554947552],\n",
       " ['BCh3', -1.0928859244826301],\n",
       " ['BCh4', 0.21729698169835326],\n",
       " ['BCh5', 0.3090044612320021],\n",
       " ['BCh6', -1.1694446862463537],\n",
       " ['BCh7', 0.14913511280510475],\n",
       " ['BCh8', -0.013551296790786291],\n",
       " ['BCh9', 0.455397629101218],\n",
       " ['BCh10', -0.44188037980783007],\n",
       " ['BCh11', 0.5212551953519743],\n",
       " ['BCh12', -0.16740608741257929],\n",
       " ['BCh13', 0.4847057693840805],\n",
       " ['BCh14', -0.46911742967568126],\n",
       " ['BCh15', 0.6578699862746696],\n",
       " ['BCh16', -0.34963454686091416],\n",
       " ['BCh17', -0.09640361214771846],\n",
       " ['BCh18', 0.0],\n",
       " ['BCh19', -0.32168250770520507],\n",
       " ['BCh20', 0.042613268766705875],\n",
       " ['BCh21', -0.17002785356337097],\n",
       " ['BCh22', 0.0415821980408029],\n",
       " ['BCh23', 0.6300825547775527],\n",
       " ['BCh24', 0.30022743147393743],\n",
       " ['BCh25', 1.4004376266225045],\n",
       " ['BCh26', -0.17190155462705115],\n",
       " ['BCh27', -0.5710248165913311],\n",
       " ['BCh28', -0.14473040756793482],\n",
       " ['BCh29', 1.0108785922984826],\n",
       " ['BCh30', -0.35753658900222807],\n",
       " ['BCh31', 0.16743846714883875],\n",
       " ['BCh32', -0.11936894922812587],\n",
       " ['DCh1', 0.19525776422923577],\n",
       " ['DCh2', -0.25746992408184866],\n",
       " ['DCh3', -0.042223876508706855],\n",
       " ['DCh4', -0.12181416362015285],\n",
       " ['DCh5', -0.19840193199947867],\n",
       " ['DCh6', 0.20260265508936162],\n",
       " ['DCh7', 0.14745193113654367],\n",
       " ['DCh8', -0.09774925920744464],\n",
       " ['DCh9', -0.003184080905647695],\n",
       " ['DCh10', -0.0728771915396592],\n",
       " ['DCh11', -0.1506080872508374],\n",
       " ['DCh12', 0.3205009739715872],\n",
       " ['DCh13', -0.13075868907949992],\n",
       " ['DCh14', 0.08464477474472676],\n",
       " ['DCh15', -0.0739274374671321],\n",
       " ['DCh16', 0.2902679163317408],\n",
       " ['DCh17', -0.16123861922196728],\n",
       " ['DCh18', 0.0],\n",
       " ['DCh19', -0.17768045752203698],\n",
       " ['DCh20', -0.05222900961444635],\n",
       " ['DCh21', -0.10256975340260992],\n",
       " ['DCh22', -0.187765119170454],\n",
       " ['DCh23', -0.010329971436882092],\n",
       " ['DCh24', 0.014468860061147283],\n",
       " ['DCh25', -0.0159685634643518],\n",
       " ['DCh26', 0.06445175129926402],\n",
       " ['DCh27', -0.08542869300026061],\n",
       " ['DCh28', -0.0929295184794136],\n",
       " ['DCh29', -0.17812901664927333],\n",
       " ['DCh30', -0.03464046541861901],\n",
       " ['DCh31', 0.005309672834078292],\n",
       " ['DCh32', 0.2891444795507637],\n",
       " ['TCh1', 0.10316614531163734],\n",
       " ['TCh2', 0.6466832716259289],\n",
       " ['TCh3', 0.19281906525821357],\n",
       " ['TCh4', 0.057239028344375886],\n",
       " ['TCh5', 0.24065832037331839],\n",
       " ['TCh6', -0.15429569626998582],\n",
       " ['TCh7', -0.26278520916926423],\n",
       " ['TCh8', -0.1588507312495677],\n",
       " ['TCh9', -0.16359308668940922],\n",
       " ['TCh10', 0.31842274263521864],\n",
       " ['TCh11', 0.020486088848737472],\n",
       " ['TCh12', -0.7332362854056457],\n",
       " ['TCh13', 0.05370546331379757],\n",
       " ['TCh14', 0.23549655312665366],\n",
       " ['TCh15', -0.15753293201423593],\n",
       " ['TCh16', -0.40950831601782367],\n",
       " ['TCh17', 0.37078616718841423],\n",
       " ['TCh18', 0.0],\n",
       " ['TCh19', -0.40200772531583084],\n",
       " ['TCh20', 0.12983872118888087],\n",
       " ['TCh21', 0.10691168813654511],\n",
       " ['TCh22', 0.18998710203218705],\n",
       " ['TCh23', -0.1888263095830996],\n",
       " ['TCh24', -0.4653215368278703],\n",
       " ['TCh25', -0.5253797188981572],\n",
       " ['TCh26', -0.25285748535349933],\n",
       " ['TCh27', 0.34384559744654974],\n",
       " ['TCh28', 0.12217602179398722],\n",
       " ['TCh29', 0.31765659184908474],\n",
       " ['TCh30', -0.024763112575075057],\n",
       " ['TCh31', -0.3413224156137761],\n",
       " ['TCh32', 0.16838360732555385]]"
      ]
     },
     "execution_count": 88,
     "metadata": {},
     "output_type": "execute_result"
    }
   ],
   "source": [
    "b"
   ]
  },
  {
   "cell_type": "code",
   "execution_count": null,
   "metadata": {},
   "outputs": [],
   "source": []
  },
  {
   "cell_type": "code",
   "execution_count": null,
   "metadata": {},
   "outputs": [],
   "source": []
  },
  {
   "cell_type": "code",
   "execution_count": null,
   "metadata": {},
   "outputs": [],
   "source": []
  },
  {
   "cell_type": "code",
   "execution_count": null,
   "metadata": {},
   "outputs": [],
   "source": []
  },
  {
   "cell_type": "code",
   "execution_count": null,
   "metadata": {},
   "outputs": [],
   "source": []
  },
  {
   "cell_type": "code",
   "execution_count": null,
   "metadata": {},
   "outputs": [],
   "source": []
  },
  {
   "cell_type": "code",
   "execution_count": null,
   "metadata": {},
   "outputs": [],
   "source": []
  },
  {
   "cell_type": "code",
   "execution_count": null,
   "metadata": {},
   "outputs": [],
   "source": []
  },
  {
   "cell_type": "code",
   "execution_count": 96,
   "metadata": {},
   "outputs": [],
   "source": [
    "c= []\n",
    "\n",
    "for channel, coef in zip(eeg_data_3.columns[:-1], abs(lda.coef_[0])):\n",
    "    c.append([channel, coef])\n",
    "    \n",
    "d= []\n",
    "\n",
    "for channel, coef in zip(m_n.columns[:-1], abs(lda.coef_[0])):\n",
    "    d.append([channel, coef])\n",
    "    "
   ]
  },
  {
   "cell_type": "code",
   "execution_count": 95,
   "metadata": {},
   "outputs": [
    {
     "data": {
      "text/plain": [
       "104     [GCh9, 0.16359308668940922]\n",
       "103      [GCh8, 0.1588507312495677]\n",
       "102     [GCh7, 0.26278520916926423]\n",
       "101     [GCh6, 0.15429569626998582]\n",
       "100     [GCh5, 0.24065832037331839]\n",
       "                   ...             \n",
       "12     [ACh13, 0.10558950401081145]\n",
       "11      [ACh12, 0.5234703276977793]\n",
       "10      [ACh11, 0.3486570461654195]\n",
       "9      [ACh10, 0.05094991901216096]\n",
       "0       [ACh1, 0.01383814204007065]\n",
       "Length: 128, dtype: object"
      ]
     },
     "execution_count": 95,
     "metadata": {},
     "output_type": "execute_result"
    }
   ],
   "source": [
    "pd.Series(c).sort_values(axis=0,ascending=False)"
   ]
  },
  {
   "cell_type": "code",
   "execution_count": 97,
   "metadata": {},
   "outputs": [
    {
     "data": {
      "text/plain": [
       "104     [TCh9, 0.16359308668940922]\n",
       "103      [TCh8, 0.1588507312495677]\n",
       "102     [TCh7, 0.26278520916926423]\n",
       "101     [TCh6, 0.15429569626998582]\n",
       "100     [TCh5, 0.24065832037331839]\n",
       "                   ...             \n",
       "12     [ACh13, 0.10558950401081145]\n",
       "11      [ACh12, 0.5234703276977793]\n",
       "10      [ACh11, 0.3486570461654195]\n",
       "9      [ACh10, 0.05094991901216096]\n",
       "0       [ACh1, 0.01383814204007065]\n",
       "Length: 128, dtype: object"
      ]
     },
     "execution_count": 97,
     "metadata": {},
     "output_type": "execute_result"
    }
   ],
   "source": [
    "pd.Series(d).sort_values(axis=0,ascending=False)"
   ]
  },
  {
   "cell_type": "code",
   "execution_count": 101,
   "metadata": {},
   "outputs": [],
   "source": [
    "m_n = ex_ds_train['close_rest_m_n']\n",
    "m_n_X = np.array(m_n.iloc[:,0:-1])\n",
    "m_n_Y = np.array(m_n['target'])\n",
    "lda = LinearDiscriminantAnalysis(n_components=1)\n",
    "lda.fit(m_n_X,m_n_Y)\n",
    "\n",
    "b= []\n",
    "\n",
    "for channel, coef in zip(m_n.columns[:-1], lda.coef_[0]):\n",
    "    b.append([channel, coef])\n",
    "    "
   ]
  },
  {
   "cell_type": "code",
   "execution_count": 104,
   "metadata": {},
   "outputs": [
    {
     "data": {
      "text/plain": [
       "104     [TCh9, -0.16359308668940922]\n",
       "103      [TCh8, -0.1588507312495677]\n",
       "102     [TCh7, -0.26278520916926423]\n",
       "101     [TCh6, -0.15429569626998582]\n",
       "100      [TCh5, 0.24065832037331839]\n",
       "                   ...              \n",
       "12     [ACh13, -0.10558950401081145]\n",
       "11      [ACh12, -0.5234703276977793]\n",
       "10       [ACh11, 0.3486570461654195]\n",
       "9       [ACh10, 0.05094991901216096]\n",
       "0       [ACh1, -0.01383814204007065]\n",
       "Length: 128, dtype: object"
      ]
     },
     "execution_count": 104,
     "metadata": {},
     "output_type": "execute_result"
    }
   ],
   "source": [
    "pd.Series(b).sort_values(axis=0,ascending=False)"
   ]
  },
  {
   "cell_type": "code",
   "execution_count": null,
   "metadata": {},
   "outputs": [],
   "source": []
  }
 ],
 "metadata": {
  "kernelspec": {
   "display_name": "Python 3",
   "language": "python",
   "name": "python3"
  },
  "language_info": {
   "codemirror_mode": {
    "name": "ipython",
    "version": 3
   },
   "file_extension": ".py",
   "mimetype": "text/x-python",
   "name": "python",
   "nbconvert_exporter": "python",
   "pygments_lexer": "ipython3",
   "version": "3.8.3"
  }
 },
 "nbformat": 4,
 "nbformat_minor": 4
}
