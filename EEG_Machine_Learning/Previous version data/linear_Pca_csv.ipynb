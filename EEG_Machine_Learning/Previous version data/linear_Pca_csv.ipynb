{
 "cells": [
  {
   "cell_type": "code",
   "execution_count": 1,
   "metadata": {},
   "outputs": [],
   "source": [
    "import os\n",
    "import matplotlib as mpl\n",
    "import matplotlib.pylab as plt\n",
    "import itertools\n",
    "import csv , codecs\n",
    "import glob\n",
    "from PIL import Image\n",
    "import numpy as np\n",
    "import pandas as pd\n",
    "import openpyxl\n",
    "from openpyxl import Workbook\n",
    "from openpyxl import load_workbook\n",
    "from sklearn.utils import shuffle\n",
    "from sklearn.model_selection import StratifiedKFold\n",
    "def warn(*args, **kwargs): pass\n",
    "import warnings\n",
    "warnings.warn = warn\n",
    "from sklearn.ensemble import RandomForestClassifier\n",
    "from sklearn.discriminant_analysis import LinearDiscriminantAnalysis\n",
    "from sklearn.decomposition import PCA\n",
    "from sklearn.decomposition import KernelPCA\n",
    "from sklearn. decomposition import KernelPCA\n",
    "from sklearn. model_selection import train_test_split\n",
    "from sklearn. preprocessing import StandardScaler"
   ]
  },
  {
   "cell_type": "code",
   "execution_count": 2,
   "metadata": {},
   "outputs": [],
   "source": [
    "data_dir = \"./EEG_data/\""
   ]
  },
  {
   "cell_type": "markdown",
   "metadata": {},
   "source": [
    "## CSV 파일 생성 함수"
   ]
  },
  {
   "cell_type": "code",
   "execution_count": 3,
   "metadata": {},
   "outputs": [],
   "source": [
    "def dataset_csv_3():\n",
    "    normalize_power = str(input(\"Relative, Abs :\"))\n",
    "    excel_dir = \"./EEG_data\" + '/' + normalize_power\n",
    "    excel_list = sorted(glob.glob(excel_dir+'/[!~]*.xlsx'))\n",
    "    \n",
    "    subject = int(input(\"subject :\"))\n",
    "    book = Workbook()\n",
    "    sheet = book.active\n",
    "    sheet.cell(row=1, column=161).value = 'target'\n",
    " \n",
    "    # x축 생성   \n",
    "    for i in range(1,33):\n",
    "        sheet.cell(row=1, column=i).value = 'ACh' + str(i)\n",
    "        sheet.cell(row=1, column=i+32).value = 'BCh' + str(i)\n",
    "        sheet.cell(row=1, column=i+64).value = 'DCh' + str(i)\n",
    "        sheet.cell(row=1, column=i+96).value = 'GCh' + str(i)\n",
    "        sheet.cell(row=1, column=i+128).value = 'TCh' + str(i)\n",
    "        \n",
    "    # 파일을 순차적으로 열어서 셀 영역을 복사\n",
    "    for j in range(0,5):\n",
    "        wb = openpyxl.load_workbook(excel_list[j], data_only=True)\n",
    "        wb_sheet = wb.sheetnames\n",
    "        for k in range(0,12):\n",
    "            source = wb[wb_sheet[k]]\n",
    "            for l in range(2, 22):\n",
    "                for m in range(2, 34):\n",
    "                    sheet.cell(row=20*k+l,column=32*j+m-1).value = source.cell(row=l,column=m).value\n",
    "        \n",
    "\n",
    "    with open('./dataset_eeg_3.csv', 'w', newline=\"\") as f:\n",
    "        c = csv.writer(f)\n",
    "        for r in sheet.rows:\n",
    "            c.writerow([cell.value for cell in r])\n",
    "            \n",
    "    df = pd.read_csv('./dataset_eeg_3.csv')\n",
    "    df[df =='                      NaN'] =np.nan\n",
    "    df = df.fillna(0.0).astype('float64')\n",
    "    pd.options.mode.chained_assignment = None\n",
    "#1-back mouse, nose, o2\n",
    "    df[\"target\"][0*subject:1*subject] = \"0\" #0:20\n",
    "    df[\"target\"][1*subject:2*subject] = \"1\" #21:40\n",
    "    df[\"target\"][2*subject:3*subject] = \"2\" #41:60\n",
    "#2-back mouse, nose, o2\n",
    "    df[\"target\"][3*subject:4*subject] = \"0\" #60:80\n",
    "    df[\"target\"][4*subject:5*subject] = \"1\" #80:100\n",
    "    df[\"target\"][5*subject:6*subject] = \"2\" #100:120\n",
    "#rest close eye mouse, nose, o2\n",
    "    df[\"target\"][6*subject:7*subject] = \"0\" #120:140\n",
    "    df[\"target\"][7*subject:8*subject] = \"1\" #140:160\n",
    "    df[\"target\"][8*subject:9*subject] = \"2\" #160:180\n",
    "#rest open eye mouse, nose, o2\n",
    "    df[\"target\"][9*subject:10*subject] = \"0\" #180:200\n",
    "    df[\"target\"][10*subject:11*subject] = \"1\" #200:220\n",
    "    df[\"target\"][11*subject:12*subject] = \"2\" #220:240\n",
    "    df.astype('float64')\n",
    "    df.to_csv('./dataset_eeg_3.csv')\n",
    "    \n",
    "    return df\n",
    "            \n"
   ]
  },
  {
   "cell_type": "code",
   "execution_count": 4,
   "metadata": {},
   "outputs": [
    {
     "name": "stdin",
     "output_type": "stream",
     "text": [
      "Relative, Abs : Relative\n",
      "subject : 20\n"
     ]
    },
    {
     "name": "stderr",
     "output_type": "stream",
     "text": [
      "C:\\Users\\whbom\\Anaconda3\\lib\\site-packages\\pandas\\core\\ops\\array_ops.py:253: FutureWarning: elementwise comparison failed; returning scalar instead, but in the future will perform elementwise comparison\n",
      "  res_values = method(rvalues)\n"
     ]
    }
   ],
   "source": [
    "eeg_data_3 = dataset_csv_3()"
   ]
  },
  {
   "cell_type": "code",
   "execution_count": 5,
   "metadata": {},
   "outputs": [],
   "source": [
    "state={}\n",
    "\n",
    "state[\"1back_mouse\"]=eeg_data_3.iloc[0:20]\n",
    "state[\"1back_nose\"]=eeg_data_3.iloc[20:40]\n",
    "state[\"1back_O2\"]=eeg_data_3.iloc[40:60]\n",
    "\n",
    "state[\"2back_mouse\"]=eeg_data_3.iloc[60:80]\n",
    "state[\"2back_nose\"]=eeg_data_3.iloc[80:100]\n",
    "state[\"2back_O2\"]=eeg_data_3.iloc[100:120]\n",
    "\n",
    "state[\"close_rest_mouse\"]=eeg_data_3.iloc[120:140]\n",
    "state[\"close_rest_nose\"]=eeg_data_3.iloc[140:160]\n",
    "state[\"close_rest_O2\"]=eeg_data_3.iloc[160:180]\n",
    "\n",
    "state[\"open_rest_mouse\"]=eeg_data_3.iloc[180:200]\n",
    "state[\"open_rest_nose\"]=eeg_data_3.iloc[200:220]\n",
    "state[\"open_rest_O2\"]=eeg_data_3.iloc[220:240]\n"
   ]
  },
  {
   "cell_type": "code",
   "execution_count": 6,
   "metadata": {},
   "outputs": [],
   "source": [
    "ds_train = {}\n",
    "ds_test = {}\n",
    "\n",
    "\n",
    "ds_train={\"1back_mouse\":state[\"1back_mouse\"], \n",
    "       \"1back_nose\":state[\"1back_nose\"],\n",
    "       \"1back_O2\":state[\"1back_O2\"],\n",
    "       \"1back_m_n\":state[\"1back_mouse\"].append(state[\"1back_nose\"]),\n",
    "       \"1back\":state[\"1back_mouse\"].append(state[\"1back_nose\"]).append(state[\"1back_O2\"]),\n",
    "       \n",
    "                                               \n",
    "       \"2back_mouse\":state[\"2back_mouse\"],\n",
    "       \"2back_nose\":state[\"2back_nose\"],\n",
    "       \"2back_O2\":state[\"2back_O2\"],\n",
    "       \"2back_m_n\":state[\"2back_mouse\"].append(state[\"2back_nose\"]),\n",
    "       \"2back\":state[\"2back_mouse\"].append(state[\"2back_nose\"]).append(state[\"2back_O2\"]),\n",
    "       \n",
    "       \"close_rest_mouse\":state[\"close_rest_mouse\"], \n",
    "       \"close_rest_nose\":state[\"close_rest_nose\"],\n",
    "       \"close_rest_O2\":state[\"close_rest_O2\"],\n",
    "       \"close_rest_m_n\":state[\"close_rest_mouse\"].append(state[\"close_rest_nose\"]),\n",
    "       \"close_rest\":state[\"close_rest_mouse\"].append(state[\"close_rest_nose\"]).append(state[\"close_rest_O2\"]),\n",
    "       \n",
    "       \"open_rest_mouse\":state[\"open_rest_mouse\"],\n",
    "       \"open_rest_nose\":state[\"open_rest_nose\"],\n",
    "       \"open_rest_O2\":state[\"open_rest_O2\"],\n",
    "       \"open_rest_m_n\":state[\"open_rest_mouse\"].append(state[\"open_rest_nose\"]),\n",
    "       \"open_rest\":state[\"open_rest_mouse\"].append(state[\"open_rest_nose\"]).append(state[\"open_rest_O2\"]),\n",
    "       \n",
    "       \n",
    "       \"total_mouse\" : state[\"1back_mouse\"].append(state[\"2back_mouse\"]).append(state[\"close_rest_mouse\"]).append(state[\"open_rest_mouse\"]),\n",
    "       \"total_nose\" : state[\"1back_nose\"].append(state[\"2back_nose\"]).append(state[\"close_rest_nose\"]).append(state[\"open_rest_nose\"]),\n",
    "       \"total_O2\" : state[\"1back_O2\"].append(state[\"2back_O2\"]).append(state[\"close_rest_O2\"]).append(state[\"open_rest_O2\"]),\n",
    "       \"total_m_n\": state[\"1back_mouse\"].append(state[\"1back_nose\"]).append(state[\"2back_mouse\"]).append(state[\"2back_nose\"]).append(state[\"close_rest_mouse\"]).append(state[\"close_rest_nose\"]).append(state[\"open_rest_mouse\"]).append(state[\"open_rest_nose\"]),\n",
    "       \"total\": state[\"1back_mouse\"].append(state[\"1back_nose\"]).append(state[\"1back_O2\"]).append(state[\"2back_mouse\"]).append(state[\"2back_nose\"]).append(state[\"2back_O2\"]).append(state[\"close_rest_mouse\"]).append(state[\"close_rest_nose\"]).append(state[\"close_rest_O2\"]).append(state[\"open_rest_mouse\"]).append(state[\"open_rest_nose\"]).append(state[\"open_rest_O2\"])\n",
    "       \n",
    "       \n",
    "      }\n",
    "\n",
    "ds_test = {\"1back_mouse\":state[\"1back_mouse\"], \n",
    "       \"1back_nose\":state[\"1back_nose\"],\n",
    "       \"1back_O2\":state[\"1back_O2\"],\n",
    "       \"1back_m_n\":state[\"1back_mouse\"].append(state[\"1back_nose\"]),\n",
    "       \"1back\":state[\"1back_mouse\"].append(state[\"1back_nose\"]).append(state[\"1back_O2\"]),\n",
    "       \n",
    "                                               \n",
    "       \"2back_mouse\":state[\"2back_mouse\"],\n",
    "       \"2back_nose\":state[\"2back_nose\"],\n",
    "       \"2back_O2\":state[\"2back_O2\"],\n",
    "       \"2back_m_n\":state[\"2back_mouse\"].append(state[\"2back_nose\"]),\n",
    "       \"2back\":state[\"2back_mouse\"].append(state[\"2back_nose\"]).append(state[\"2back_O2\"]),\n",
    "       \n",
    "       \"close_rest_mouse\":state[\"close_rest_mouse\"], \n",
    "       \"close_rest_nose\":state[\"close_rest_nose\"],\n",
    "       \"close_rest_O2\":state[\"close_rest_O2\"],\n",
    "       \"close_rest_m_n\":state[\"close_rest_mouse\"].append(state[\"close_rest_nose\"]),\n",
    "       \"close_rest\":state[\"close_rest_mouse\"].append(state[\"close_rest_nose\"]).append(state[\"close_rest_O2\"]),\n",
    "       \n",
    "       \"open_rest_mouse\":state[\"open_rest_mouse\"],\n",
    "       \"open_rest_nose\":state[\"open_rest_nose\"],\n",
    "       \"open_rest_O2\":state[\"open_rest_O2\"],\n",
    "       \"open_rest_m_n\":state[\"open_rest_mouse\"].append(state[\"open_rest_nose\"]),\n",
    "       \"open_rest\":state[\"open_rest_mouse\"].append(state[\"open_rest_nose\"]).append(state[\"open_rest_O2\"]),\n",
    "        \n",
    "        \n",
    "               \n",
    "       \"total_mouse\" : state[\"1back_mouse\"].append(state[\"2back_mouse\"]).append(state[\"close_rest_mouse\"]).append(state[\"open_rest_mouse\"]),\n",
    "        \"total_nose\" : state[\"1back_nose\"].append(state[\"2back_nose\"]).append(state[\"close_rest_nose\"]).append(state[\"open_rest_nose\"]),\n",
    "       \"total_O2\" : state[\"1back_O2\"].append(state[\"2back_O2\"]).append(state[\"close_rest_O2\"]).append(state[\"open_rest_O2\"]),\n",
    "       \"total_m_n\": state[\"1back_mouse\"].append(state[\"1back_nose\"]).append(state[\"2back_mouse\"]).append(state[\"2back_nose\"]).append(state[\"close_rest_mouse\"]).append(state[\"close_rest_nose\"]).append(state[\"open_rest_mouse\"]).append(state[\"open_rest_nose\"]),\n",
    "        \"total\": state[\"1back_mouse\"].append(state[\"1back_nose\"]).append(state[\"1back_O2\"]).append(state[\"2back_mouse\"]).append(state[\"2back_nose\"]).append(state[\"2back_O2\"]).append(state[\"close_rest_mouse\"]).append(state[\"close_rest_nose\"]).append(state[\"close_rest_O2\"]).append(state[\"open_rest_mouse\"]).append(state[\"open_rest_nose\"]).append(state[\"open_rest_O2\"])\n",
    "\n",
    "       }\n",
    "\n",
    "\n"
   ]
  },
  {
   "cell_type": "code",
   "execution_count": 7,
   "metadata": {
    "collapsed": true,
    "jupyter": {
     "outputs_hidden": true,
     "source_hidden": true
    }
   },
   "outputs": [
    {
     "ename": "NameError",
     "evalue": "name 'X' is not defined",
     "output_type": "error",
     "traceback": [
      "\u001b[1;31m---------------------------------------------------------------------------\u001b[0m",
      "\u001b[1;31mNameError\u001b[0m                                 Traceback (most recent call last)",
      "\u001b[1;32m<ipython-input-7-bc5f1a0adac8>\u001b[0m in \u001b[0;36m<module>\u001b[1;34m\u001b[0m\n\u001b[1;32m----> 1\u001b[1;33m \u001b[0mX\u001b[0m\u001b[1;33m.\u001b[0m\u001b[0mshape\u001b[0m\u001b[1;33m\u001b[0m\u001b[1;33m\u001b[0m\u001b[0m\n\u001b[0m",
      "\u001b[1;31mNameError\u001b[0m: name 'X' is not defined"
     ]
    }
   ],
   "source": [
    "X.shape"
   ]
  },
  {
   "cell_type": "code",
   "execution_count": null,
   "metadata": {
    "jupyter": {
     "source_hidden": true
    }
   },
   "outputs": [],
   "source": [
    "Y.shape"
   ]
  },
  {
   "cell_type": "code",
   "execution_count": null,
   "metadata": {
    "jupyter": {
     "source_hidden": true
    }
   },
   "outputs": [],
   "source": [
    "X_train, X_test, y_train, y_test = train_test_split(X,Y)"
   ]
  },
  {
   "cell_type": "code",
   "execution_count": null,
   "metadata": {
    "jupyter": {
     "source_hidden": true
    }
   },
   "outputs": [],
   "source": [
    "sc = StandardScaler()\n",
    "X_train = sc.fit_transform(X_train)\n",
    "X_test = sc.transform(X_test)"
   ]
  },
  {
   "cell_type": "code",
   "execution_count": null,
   "metadata": {
    "jupyter": {
     "source_hidden": true
    }
   },
   "outputs": [],
   "source": [
    "X_train.shape"
   ]
  },
  {
   "cell_type": "code",
   "execution_count": null,
   "metadata": {
    "jupyter": {
     "source_hidden": true
    }
   },
   "outputs": [],
   "source": [
    "X_test.shape"
   ]
  },
  {
   "cell_type": "code",
   "execution_count": null,
   "metadata": {
    "jupyter": {
     "source_hidden": true
    }
   },
   "outputs": [],
   "source": []
  },
  {
   "cell_type": "code",
   "execution_count": null,
   "metadata": {
    "jupyter": {
     "source_hidden": true
    }
   },
   "outputs": [],
   "source": [
    "skf = StratifiedKFold(n_splits=10, shuffle=True) \n",
    "skf.get_n_splits(X,Y)\n",
    "\n"
   ]
  },
  {
   "cell_type": "code",
   "execution_count": null,
   "metadata": {
    "jupyter": {
     "source_hidden": true
    }
   },
   "outputs": [],
   "source": [
    "for train_index, test_index in skf.split(X,Y):\n",
    "    \n",
    "    print(Y.shape)"
   ]
  },
  {
   "cell_type": "code",
   "execution_count": null,
   "metadata": {
    "jupyter": {
     "source_hidden": true
    }
   },
   "outputs": [],
   "source": [
    "for train_index, test_index in skf.split(X,Y):\n",
    "\n",
    "    \n",
    "    kernel_linear_pca = KernelPCA(n_components=0.8, kernel=\"linear\")\n",
    "    print(X)\n",
    "    \n",
    "    if(mode == 'kernel_linear') : \n",
    "        kernel_linear_pca.fit(X,Y)\n",
    "        X_final = kernel_linear_pca.transform(X)"
   ]
  },
  {
   "cell_type": "code",
   "execution_count": 7,
   "metadata": {},
   "outputs": [],
   "source": [
    "def ST_PCA_RF_M_N_O2 (tasks, k_parameter, num_iter):\n",
    "\n",
    "\n",
    "        for task_train,task_test in tasks:\n",
    "\n",
    "            print('-------------------')\n",
    "            print('training:{}/test:{}/mode:{}'.format(task_train,task_test,'linear')\n",
    "            train_3 = ds_train[task_train]\n",
    "            test_3  = ds_test[task_test]\n",
    "\n",
    "            X = np.array(train_3.iloc[:,0:-1])\n",
    "            Y = np.array(train_3['target'])\n",
    "\n",
    "            rnd_clf = RandomForestClassifier(n_estimators=1000,max_depth= None, n_jobs=-1,class_weight=\"balanced\" )\n",
    "#             rnd_clf = RandomForestClassifier(n_estimators=1000,max_features= 160,n_jobs=-1 )\n",
    "\n",
    "            all_scores = []\n",
    "            Mouse = 0\n",
    "            Nose = 0\n",
    "            for idx in range(num_iter):\n",
    "                skf = StratifiedKFold(n_splits=k_parameter, shuffle=True)\n",
    "                skf.get_n_splits(X,Y)\n",
    "                \n",
    "\n",
    "                for train_index, test_index in skf.split(X,Y):\n",
    "\n",
    "                    pca = PCA(n_components=0.8)\n",
    "                    \n",
    "                    pca.fit(X,Y)\n",
    "                    X_final = pca.transform(X)\n",
    "#                         X_final = X\n",
    "                    \n",
    "\n",
    "                    rnd_clf.fit(X_final[train_index], Y[train_index])\n",
    "                    val_mae = rnd_clf.score(X_final[test_index],Y[test_index])\n",
    "                    all_scores.append(val_mae)\n",
    "\n",
    "                    test = np.array(test_3.iloc[:,0:-1])\n",
    "                  \n",
    "                    test = pca.transform(test)\n",
    "\n",
    "                    aaa = rnd_clf.predict(test)\n",
    "\n",
    "                    Mouse = Mouse+np.count_nonzero(aaa=='0')\n",
    "                    Nose = Nose+ np.count_nonzero(aaa=='1')\n",
    "\n",
    "            print('model_score:{}'.format(np.mean(all_scores)))\n",
    "            print('mouse:{}({:.2}), nose:{}({:.2}) / total:{}'.format(Mouse,Mouse/(Mouse+Nose),Nose,Nose/(Mouse+Nose),(Mouse+Nose)))"
   ]
  },
  {
   "cell_type": "code",
   "execution_count": 9,
   "metadata": {},
   "outputs": [],
   "source": [
    "def Linear_KPCA_RF_M_N_O2 (tasks, k_parameter, num_iter):\n",
    "\n",
    "        for task_train,task_test in tasks:\n",
    "\n",
    "            print('-------------------')\n",
    "            print('training:{}/test:{}/mode:{}'.format(task_train,task_test,'kernel_linear'))\n",
    "            train_3 = ds_train[task_train]\n",
    "            test_3  = ds_test[task_test]\n",
    "\n",
    "            X = np.array(train_3.iloc[:,0:-1])\n",
    "            Y = np.array(train_3['target'])\n",
    "            \n",
    "\n",
    "            rnd_clf = RandomForestClassifier(n_estimators=1000, n_jobs=-1 )\n",
    "#             rnd_clf = RandomForestClassifier(n_estimators=1000,max_features= 160,n_jobs=-1 )\n",
    "\n",
    "            all_scores = []\n",
    "            Mouse = 0\n",
    "            Nose = 0\n",
    "            for idx in range(num_iter):\n",
    "                skf = StratifiedKFold(n_splits=k_parameter, shuffle=True)\n",
    "                skf.get_n_splits(X,Y)\n",
    "                \n",
    "                for train_index, test_index in skf.split(X,Y):\n",
    "                    \n",
    "                    X_final = X\n",
    "                    kernel_linear_pca = KernelPCA(n_components=7, kernel=\"linear\")\n",
    "                    kernel_linear_pca.fit(X,Y)\n",
    "                    X_final = kernel_linear_pca.transform(X)\n",
    "#                         X_final = X\n",
    "                    \n",
    "\n",
    "                    rnd_clf.fit(X_final[train_index], Y[train_index])\n",
    "                    val_mae = rnd_clf.score(X_final[test_index],Y[test_index])\n",
    "                    all_scores.append(val_mae)\n",
    "\n",
    "                \n",
    "                \n",
    "                    test = np.array(test_3.iloc[:,0:-1])\n",
    "\n",
    "                    test = kernel_linear_pca.transform(test)\n",
    "\n",
    "                    aaa = rnd_clf.predict(test)\n",
    "\n",
    "                    Mouse = Mouse+np.count_nonzero(aaa=='0')\n",
    "                    Nose = Nose+ np.count_nonzero(aaa=='1')\n",
    "\n",
    "            print('model_score:{}'.format(np.mean(all_scores)))\n",
    "            print('mouse:{}({:.2}), nose:{}({:.2}) / total:{}'.format(Mouse,Mouse/(Mouse+Nose),Nose,Nose/(Mouse+Nose),(Mouse+Nose)))\n",
    "            "
   ]
  },
  {
   "cell_type": "code",
   "execution_count": 15,
   "metadata": {
    "collapsed": true,
    "jupyter": {
     "outputs_hidden": true,
     "source_hidden": true
    }
   },
   "outputs": [
    {
     "name": "stdout",
     "output_type": "stream",
     "text": [
      "-------------------\n",
      "training:open_rest_m_n/test:open_rest_mouse/mode:kernel_linear\n",
      "model_score:0.3625\n",
      "mouse:1865(0.93), nose:135(0.068) / total:2000\n",
      "-------------------\n",
      "training:open_rest_m_n/test:close_rest_mouse/mode:kernel_linear\n",
      "model_score:0.345\n",
      "mouse:834(0.42), nose:1166(0.58) / total:2000\n",
      "-------------------\n",
      "training:open_rest_m_n/test:1back_mouse/mode:kernel_linear\n",
      "model_score:0.385\n",
      "mouse:1509(0.75), nose:491(0.25) / total:2000\n",
      "-------------------\n",
      "training:open_rest_m_n/test:2back_mouse/mode:kernel_linear\n",
      "model_score:0.3725\n",
      "mouse:1174(0.59), nose:826(0.41) / total:2000\n",
      "-------------------\n",
      "training:open_rest_m_n/test:open_rest_nose/mode:kernel_linear\n",
      "model_score:0.3325\n",
      "mouse:126(0.063), nose:1874(0.94) / total:2000\n",
      "-------------------\n",
      "training:open_rest_m_n/test:close_rest_nose/mode:kernel_linear\n",
      "model_score:0.3575\n",
      "mouse:748(0.37), nose:1252(0.63) / total:2000\n",
      "-------------------\n",
      "training:open_rest_m_n/test:1back_nose/mode:kernel_linear\n",
      "model_score:0.3675\n",
      "mouse:1311(0.66), nose:689(0.34) / total:2000\n",
      "-------------------\n",
      "training:open_rest_m_n/test:2back_nose/mode:kernel_linear\n",
      "model_score:0.3625\n",
      "mouse:1261(0.63), nose:739(0.37) / total:2000\n"
     ]
    }
   ],
   "source": [
    "Linear_KPCA_RF_M_N_O2(tasks5,k_parameter = 10,num_iter = 10)"
   ]
  },
  {
   "cell_type": "markdown",
   "metadata": {},
   "source": [
    "## Task"
   ]
  },
  {
   "cell_type": "code",
   "execution_count": 10,
   "metadata": {
    "collapsed": true,
    "jupyter": {
     "outputs_hidden": true
    }
   },
   "outputs": [
    {
     "name": "stdout",
     "output_type": "stream",
     "text": [
      "Standard_PCA-RF\n",
      "-------------------\n",
      "training:open_rest_m_n/test:open_rest_mouse/mode:linear\n",
      "model_score:0.175\n",
      "mouse:182(0.91), nose:18(0.09) / total:200\n",
      "-------------------\n",
      "training:open_rest_m_n/test:close_rest_mouse/mode:linear\n",
      "model_score:0.2\n",
      "mouse:105(0.53), nose:95(0.47) / total:200\n",
      "-------------------\n",
      "training:open_rest_m_n/test:1back_mouse/mode:linear\n",
      "model_score:0.225\n",
      "mouse:116(0.58), nose:84(0.42) / total:200\n",
      "-------------------\n",
      "training:open_rest_m_n/test:2back_mouse/mode:linear\n",
      "model_score:0.3\n",
      "mouse:104(0.52), nose:96(0.48) / total:200\n",
      "-------------------\n",
      "training:open_rest_m_n/test:open_rest_nose/mode:linear\n",
      "model_score:0.2\n",
      "mouse:14(0.07), nose:186(0.93) / total:200\n",
      "-------------------\n",
      "training:open_rest_m_n/test:close_rest_nose/mode:linear\n",
      "model_score:0.225\n",
      "mouse:80(0.4), nose:120(0.6) / total:200\n",
      "-------------------\n",
      "training:open_rest_m_n/test:1back_nose/mode:linear\n",
      "model_score:0.275\n",
      "mouse:99(0.49), nose:101(0.51) / total:200\n",
      "-------------------\n",
      "training:open_rest_m_n/test:2back_nose/mode:linear\n",
      "model_score:0.225\n",
      "mouse:90(0.45), nose:110(0.55) / total:200\n",
      "------------------------------------------\n",
      "------------------------------------------\n",
      "------------------------------------------\n",
      "Lineaer_KPCA-RF\n",
      "-------------------\n",
      "training:open_rest_m_n/test:open_rest_mouse/mode:kernel_linear\n",
      "model_score:0.355\n",
      "mouse:1863(0.93), nose:137(0.069) / total:2000\n",
      "-------------------\n",
      "training:open_rest_m_n/test:close_rest_mouse/mode:kernel_linear\n",
      "model_score:0.335\n",
      "mouse:830(0.41), nose:1170(0.58) / total:2000\n",
      "-------------------\n",
      "training:open_rest_m_n/test:1back_mouse/mode:kernel_linear\n",
      "model_score:0.375\n",
      "mouse:1503(0.75), nose:497(0.25) / total:2000\n",
      "-------------------\n",
      "training:open_rest_m_n/test:2back_mouse/mode:kernel_linear\n"
     ]
    },
    {
     "ename": "KeyboardInterrupt",
     "evalue": "",
     "output_type": "error",
     "traceback": [
      "\u001b[1;31m---------------------------------------------------------------------------\u001b[0m",
      "\u001b[1;31mKeyboardInterrupt\u001b[0m                         Traceback (most recent call last)",
      "\u001b[1;32m<ipython-input-10-0b237eea6011>\u001b[0m in \u001b[0;36m<module>\u001b[1;34m\u001b[0m\n\u001b[0;32m     17\u001b[0m \u001b[0mprint\u001b[0m\u001b[1;33m(\u001b[0m\u001b[1;34m\"------------------------------------------\"\u001b[0m\u001b[1;33m)\u001b[0m\u001b[1;33m\u001b[0m\u001b[1;33m\u001b[0m\u001b[0m\n\u001b[0;32m     18\u001b[0m \u001b[0mprint\u001b[0m\u001b[1;33m(\u001b[0m\u001b[1;34m\"Lineaer_KPCA-RF\"\u001b[0m\u001b[1;33m)\u001b[0m\u001b[1;33m\u001b[0m\u001b[1;33m\u001b[0m\u001b[0m\n\u001b[1;32m---> 19\u001b[1;33m \u001b[0mLinear_KPCA_RF_M_N_O2\u001b[0m\u001b[1;33m(\u001b[0m\u001b[0mtasks5\u001b[0m\u001b[1;33m,\u001b[0m\u001b[0mk_parameter\u001b[0m \u001b[1;33m=\u001b[0m \u001b[1;36m10\u001b[0m\u001b[1;33m,\u001b[0m\u001b[0mnum_iter\u001b[0m \u001b[1;33m=\u001b[0m \u001b[1;36m10\u001b[0m\u001b[1;33m)\u001b[0m\u001b[1;33m\u001b[0m\u001b[1;33m\u001b[0m\u001b[0m\n\u001b[0m",
      "\u001b[1;32m<ipython-input-9-f2b8e1a22d3a>\u001b[0m in \u001b[0;36mLinear_KPCA_RF_M_N_O2\u001b[1;34m(tasks, k_parameter, num_iter)\u001b[0m\n\u001b[0;32m     34\u001b[0m \u001b[1;33m\u001b[0m\u001b[0m\n\u001b[0;32m     35\u001b[0m \u001b[1;33m\u001b[0m\u001b[0m\n\u001b[1;32m---> 36\u001b[1;33m                     \u001b[0mrnd_clf\u001b[0m\u001b[1;33m.\u001b[0m\u001b[0mfit\u001b[0m\u001b[1;33m(\u001b[0m\u001b[0mX_final\u001b[0m\u001b[1;33m[\u001b[0m\u001b[0mtrain_index\u001b[0m\u001b[1;33m]\u001b[0m\u001b[1;33m,\u001b[0m \u001b[0mY\u001b[0m\u001b[1;33m[\u001b[0m\u001b[0mtrain_index\u001b[0m\u001b[1;33m]\u001b[0m\u001b[1;33m)\u001b[0m\u001b[1;33m\u001b[0m\u001b[1;33m\u001b[0m\u001b[0m\n\u001b[0m\u001b[0;32m     37\u001b[0m                     \u001b[0mval_mae\u001b[0m \u001b[1;33m=\u001b[0m \u001b[0mrnd_clf\u001b[0m\u001b[1;33m.\u001b[0m\u001b[0mscore\u001b[0m\u001b[1;33m(\u001b[0m\u001b[0mX_final\u001b[0m\u001b[1;33m[\u001b[0m\u001b[0mtest_index\u001b[0m\u001b[1;33m]\u001b[0m\u001b[1;33m,\u001b[0m\u001b[0mY\u001b[0m\u001b[1;33m[\u001b[0m\u001b[0mtest_index\u001b[0m\u001b[1;33m]\u001b[0m\u001b[1;33m)\u001b[0m\u001b[1;33m\u001b[0m\u001b[1;33m\u001b[0m\u001b[0m\n\u001b[0;32m     38\u001b[0m                     \u001b[0mall_scores\u001b[0m\u001b[1;33m.\u001b[0m\u001b[0mappend\u001b[0m\u001b[1;33m(\u001b[0m\u001b[0mval_mae\u001b[0m\u001b[1;33m)\u001b[0m\u001b[1;33m\u001b[0m\u001b[1;33m\u001b[0m\u001b[0m\n",
      "\u001b[1;32m~\\Anaconda3\\lib\\site-packages\\sklearn\\ensemble\\_forest.py\u001b[0m in \u001b[0;36mfit\u001b[1;34m(self, X, y, sample_weight)\u001b[0m\n\u001b[0;32m    381\u001b[0m                     \u001b[0mverbose\u001b[0m\u001b[1;33m=\u001b[0m\u001b[0mself\u001b[0m\u001b[1;33m.\u001b[0m\u001b[0mverbose\u001b[0m\u001b[1;33m,\u001b[0m \u001b[0mclass_weight\u001b[0m\u001b[1;33m=\u001b[0m\u001b[0mself\u001b[0m\u001b[1;33m.\u001b[0m\u001b[0mclass_weight\u001b[0m\u001b[1;33m,\u001b[0m\u001b[1;33m\u001b[0m\u001b[1;33m\u001b[0m\u001b[0m\n\u001b[0;32m    382\u001b[0m                     n_samples_bootstrap=n_samples_bootstrap)\n\u001b[1;32m--> 383\u001b[1;33m                 for i, t in enumerate(trees))\n\u001b[0m\u001b[0;32m    384\u001b[0m \u001b[1;33m\u001b[0m\u001b[0m\n\u001b[0;32m    385\u001b[0m             \u001b[1;31m# Collect newly grown trees\u001b[0m\u001b[1;33m\u001b[0m\u001b[1;33m\u001b[0m\u001b[1;33m\u001b[0m\u001b[0m\n",
      "\u001b[1;32m~\\Anaconda3\\lib\\site-packages\\joblib\\parallel.py\u001b[0m in \u001b[0;36m__call__\u001b[1;34m(self, iterable)\u001b[0m\n\u001b[0;32m   1015\u001b[0m \u001b[1;33m\u001b[0m\u001b[0m\n\u001b[0;32m   1016\u001b[0m             \u001b[1;32mwith\u001b[0m \u001b[0mself\u001b[0m\u001b[1;33m.\u001b[0m\u001b[0m_backend\u001b[0m\u001b[1;33m.\u001b[0m\u001b[0mretrieval_context\u001b[0m\u001b[1;33m(\u001b[0m\u001b[1;33m)\u001b[0m\u001b[1;33m:\u001b[0m\u001b[1;33m\u001b[0m\u001b[1;33m\u001b[0m\u001b[0m\n\u001b[1;32m-> 1017\u001b[1;33m                 \u001b[0mself\u001b[0m\u001b[1;33m.\u001b[0m\u001b[0mretrieve\u001b[0m\u001b[1;33m(\u001b[0m\u001b[1;33m)\u001b[0m\u001b[1;33m\u001b[0m\u001b[1;33m\u001b[0m\u001b[0m\n\u001b[0m\u001b[0;32m   1018\u001b[0m             \u001b[1;31m# Make sure that we get a last message telling us we are done\u001b[0m\u001b[1;33m\u001b[0m\u001b[1;33m\u001b[0m\u001b[1;33m\u001b[0m\u001b[0m\n\u001b[0;32m   1019\u001b[0m             \u001b[0melapsed_time\u001b[0m \u001b[1;33m=\u001b[0m \u001b[0mtime\u001b[0m\u001b[1;33m.\u001b[0m\u001b[0mtime\u001b[0m\u001b[1;33m(\u001b[0m\u001b[1;33m)\u001b[0m \u001b[1;33m-\u001b[0m \u001b[0mself\u001b[0m\u001b[1;33m.\u001b[0m\u001b[0m_start_time\u001b[0m\u001b[1;33m\u001b[0m\u001b[1;33m\u001b[0m\u001b[0m\n",
      "\u001b[1;32m~\\Anaconda3\\lib\\site-packages\\joblib\\parallel.py\u001b[0m in \u001b[0;36mretrieve\u001b[1;34m(self)\u001b[0m\n\u001b[0;32m    907\u001b[0m             \u001b[1;32mtry\u001b[0m\u001b[1;33m:\u001b[0m\u001b[1;33m\u001b[0m\u001b[1;33m\u001b[0m\u001b[0m\n\u001b[0;32m    908\u001b[0m                 \u001b[1;32mif\u001b[0m \u001b[0mgetattr\u001b[0m\u001b[1;33m(\u001b[0m\u001b[0mself\u001b[0m\u001b[1;33m.\u001b[0m\u001b[0m_backend\u001b[0m\u001b[1;33m,\u001b[0m \u001b[1;34m'supports_timeout'\u001b[0m\u001b[1;33m,\u001b[0m \u001b[1;32mFalse\u001b[0m\u001b[1;33m)\u001b[0m\u001b[1;33m:\u001b[0m\u001b[1;33m\u001b[0m\u001b[1;33m\u001b[0m\u001b[0m\n\u001b[1;32m--> 909\u001b[1;33m                     \u001b[0mself\u001b[0m\u001b[1;33m.\u001b[0m\u001b[0m_output\u001b[0m\u001b[1;33m.\u001b[0m\u001b[0mextend\u001b[0m\u001b[1;33m(\u001b[0m\u001b[0mjob\u001b[0m\u001b[1;33m.\u001b[0m\u001b[0mget\u001b[0m\u001b[1;33m(\u001b[0m\u001b[0mtimeout\u001b[0m\u001b[1;33m=\u001b[0m\u001b[0mself\u001b[0m\u001b[1;33m.\u001b[0m\u001b[0mtimeout\u001b[0m\u001b[1;33m)\u001b[0m\u001b[1;33m)\u001b[0m\u001b[1;33m\u001b[0m\u001b[1;33m\u001b[0m\u001b[0m\n\u001b[0m\u001b[0;32m    910\u001b[0m                 \u001b[1;32melse\u001b[0m\u001b[1;33m:\u001b[0m\u001b[1;33m\u001b[0m\u001b[1;33m\u001b[0m\u001b[0m\n\u001b[0;32m    911\u001b[0m                     \u001b[0mself\u001b[0m\u001b[1;33m.\u001b[0m\u001b[0m_output\u001b[0m\u001b[1;33m.\u001b[0m\u001b[0mextend\u001b[0m\u001b[1;33m(\u001b[0m\u001b[0mjob\u001b[0m\u001b[1;33m.\u001b[0m\u001b[0mget\u001b[0m\u001b[1;33m(\u001b[0m\u001b[1;33m)\u001b[0m\u001b[1;33m)\u001b[0m\u001b[1;33m\u001b[0m\u001b[1;33m\u001b[0m\u001b[0m\n",
      "\u001b[1;32m~\\Anaconda3\\lib\\multiprocessing\\pool.py\u001b[0m in \u001b[0;36mget\u001b[1;34m(self, timeout)\u001b[0m\n\u001b[0;32m    649\u001b[0m \u001b[1;33m\u001b[0m\u001b[0m\n\u001b[0;32m    650\u001b[0m     \u001b[1;32mdef\u001b[0m \u001b[0mget\u001b[0m\u001b[1;33m(\u001b[0m\u001b[0mself\u001b[0m\u001b[1;33m,\u001b[0m \u001b[0mtimeout\u001b[0m\u001b[1;33m=\u001b[0m\u001b[1;32mNone\u001b[0m\u001b[1;33m)\u001b[0m\u001b[1;33m:\u001b[0m\u001b[1;33m\u001b[0m\u001b[1;33m\u001b[0m\u001b[0m\n\u001b[1;32m--> 651\u001b[1;33m         \u001b[0mself\u001b[0m\u001b[1;33m.\u001b[0m\u001b[0mwait\u001b[0m\u001b[1;33m(\u001b[0m\u001b[0mtimeout\u001b[0m\u001b[1;33m)\u001b[0m\u001b[1;33m\u001b[0m\u001b[1;33m\u001b[0m\u001b[0m\n\u001b[0m\u001b[0;32m    652\u001b[0m         \u001b[1;32mif\u001b[0m \u001b[1;32mnot\u001b[0m \u001b[0mself\u001b[0m\u001b[1;33m.\u001b[0m\u001b[0mready\u001b[0m\u001b[1;33m(\u001b[0m\u001b[1;33m)\u001b[0m\u001b[1;33m:\u001b[0m\u001b[1;33m\u001b[0m\u001b[1;33m\u001b[0m\u001b[0m\n\u001b[0;32m    653\u001b[0m             \u001b[1;32mraise\u001b[0m \u001b[0mTimeoutError\u001b[0m\u001b[1;33m\u001b[0m\u001b[1;33m\u001b[0m\u001b[0m\n",
      "\u001b[1;32m~\\Anaconda3\\lib\\multiprocessing\\pool.py\u001b[0m in \u001b[0;36mwait\u001b[1;34m(self, timeout)\u001b[0m\n\u001b[0;32m    646\u001b[0m \u001b[1;33m\u001b[0m\u001b[0m\n\u001b[0;32m    647\u001b[0m     \u001b[1;32mdef\u001b[0m \u001b[0mwait\u001b[0m\u001b[1;33m(\u001b[0m\u001b[0mself\u001b[0m\u001b[1;33m,\u001b[0m \u001b[0mtimeout\u001b[0m\u001b[1;33m=\u001b[0m\u001b[1;32mNone\u001b[0m\u001b[1;33m)\u001b[0m\u001b[1;33m:\u001b[0m\u001b[1;33m\u001b[0m\u001b[1;33m\u001b[0m\u001b[0m\n\u001b[1;32m--> 648\u001b[1;33m         \u001b[0mself\u001b[0m\u001b[1;33m.\u001b[0m\u001b[0m_event\u001b[0m\u001b[1;33m.\u001b[0m\u001b[0mwait\u001b[0m\u001b[1;33m(\u001b[0m\u001b[0mtimeout\u001b[0m\u001b[1;33m)\u001b[0m\u001b[1;33m\u001b[0m\u001b[1;33m\u001b[0m\u001b[0m\n\u001b[0m\u001b[0;32m    649\u001b[0m \u001b[1;33m\u001b[0m\u001b[0m\n\u001b[0;32m    650\u001b[0m     \u001b[1;32mdef\u001b[0m \u001b[0mget\u001b[0m\u001b[1;33m(\u001b[0m\u001b[0mself\u001b[0m\u001b[1;33m,\u001b[0m \u001b[0mtimeout\u001b[0m\u001b[1;33m=\u001b[0m\u001b[1;32mNone\u001b[0m\u001b[1;33m)\u001b[0m\u001b[1;33m:\u001b[0m\u001b[1;33m\u001b[0m\u001b[1;33m\u001b[0m\u001b[0m\n",
      "\u001b[1;32m~\\Anaconda3\\lib\\threading.py\u001b[0m in \u001b[0;36mwait\u001b[1;34m(self, timeout)\u001b[0m\n\u001b[0;32m    550\u001b[0m             \u001b[0msignaled\u001b[0m \u001b[1;33m=\u001b[0m \u001b[0mself\u001b[0m\u001b[1;33m.\u001b[0m\u001b[0m_flag\u001b[0m\u001b[1;33m\u001b[0m\u001b[1;33m\u001b[0m\u001b[0m\n\u001b[0;32m    551\u001b[0m             \u001b[1;32mif\u001b[0m \u001b[1;32mnot\u001b[0m \u001b[0msignaled\u001b[0m\u001b[1;33m:\u001b[0m\u001b[1;33m\u001b[0m\u001b[1;33m\u001b[0m\u001b[0m\n\u001b[1;32m--> 552\u001b[1;33m                 \u001b[0msignaled\u001b[0m \u001b[1;33m=\u001b[0m \u001b[0mself\u001b[0m\u001b[1;33m.\u001b[0m\u001b[0m_cond\u001b[0m\u001b[1;33m.\u001b[0m\u001b[0mwait\u001b[0m\u001b[1;33m(\u001b[0m\u001b[0mtimeout\u001b[0m\u001b[1;33m)\u001b[0m\u001b[1;33m\u001b[0m\u001b[1;33m\u001b[0m\u001b[0m\n\u001b[0m\u001b[0;32m    553\u001b[0m             \u001b[1;32mreturn\u001b[0m \u001b[0msignaled\u001b[0m\u001b[1;33m\u001b[0m\u001b[1;33m\u001b[0m\u001b[0m\n\u001b[0;32m    554\u001b[0m \u001b[1;33m\u001b[0m\u001b[0m\n",
      "\u001b[1;32m~\\Anaconda3\\lib\\threading.py\u001b[0m in \u001b[0;36mwait\u001b[1;34m(self, timeout)\u001b[0m\n\u001b[0;32m    294\u001b[0m         \u001b[1;32mtry\u001b[0m\u001b[1;33m:\u001b[0m    \u001b[1;31m# restore state no matter what (e.g., KeyboardInterrupt)\u001b[0m\u001b[1;33m\u001b[0m\u001b[1;33m\u001b[0m\u001b[0m\n\u001b[0;32m    295\u001b[0m             \u001b[1;32mif\u001b[0m \u001b[0mtimeout\u001b[0m \u001b[1;32mis\u001b[0m \u001b[1;32mNone\u001b[0m\u001b[1;33m:\u001b[0m\u001b[1;33m\u001b[0m\u001b[1;33m\u001b[0m\u001b[0m\n\u001b[1;32m--> 296\u001b[1;33m                 \u001b[0mwaiter\u001b[0m\u001b[1;33m.\u001b[0m\u001b[0macquire\u001b[0m\u001b[1;33m(\u001b[0m\u001b[1;33m)\u001b[0m\u001b[1;33m\u001b[0m\u001b[1;33m\u001b[0m\u001b[0m\n\u001b[0m\u001b[0;32m    297\u001b[0m                 \u001b[0mgotit\u001b[0m \u001b[1;33m=\u001b[0m \u001b[1;32mTrue\u001b[0m\u001b[1;33m\u001b[0m\u001b[1;33m\u001b[0m\u001b[0m\n\u001b[0;32m    298\u001b[0m             \u001b[1;32melse\u001b[0m\u001b[1;33m:\u001b[0m\u001b[1;33m\u001b[0m\u001b[1;33m\u001b[0m\u001b[0m\n",
      "\u001b[1;31mKeyboardInterrupt\u001b[0m: "
     ]
    }
   ],
   "source": [
    "tasks5 = [\n",
    "    ('open_rest_m_n', 'open_rest_mouse'),\n",
    "    ('open_rest_m_n','close_rest_mouse'),\n",
    "    ('open_rest_m_n','1back_mouse'),\n",
    "    ('open_rest_m_n','2back_mouse'),\n",
    "    \n",
    "    \n",
    "    ('open_rest_m_n','open_rest_nose'),\n",
    "    ('open_rest_m_n','close_rest_nose'),\n",
    "    ('open_rest_m_n','1back_nose'),\n",
    "    ('open_rest_m_n','2back_nose'),\n",
    "]\n",
    "print(\"Standard_PCA-RF\")\n",
    "ST_PCA_RF_M_N_O2(tasks5,k_parameter = 10,num_iter = 1)\n",
    "print(\"------------------------------------------\")\n",
    "print(\"------------------------------------------\")\n",
    "print(\"------------------------------------------\")\n",
    "print(\"Lineaer_KPCA-RF\")\n",
    "Linear_KPCA_RF_M_N_O2(tasks5,k_parameter = 10,num_iter = 10)\n"
   ]
  },
  {
   "cell_type": "markdown",
   "metadata": {},
   "source": [
    "## csv 전환"
   ]
  },
  {
   "cell_type": "code",
   "execution_count": 21,
   "metadata": {},
   "outputs": [],
   "source": [
    "def save_record (tasks, k_parameter, num_iter):\n",
    "    result = []\n",
    "\n",
    "#     for mode in ['no_lda','lda']:\n",
    "    for mode in ['linear']:\n",
    "        for task_train,task_test in tasks:\n",
    "\n",
    "            print('-------------------')\n",
    "            print('training:{}/test:{}/mode:{}'.format(task_train,task_test,mode))\n",
    "            train_3 = ds_train[task_train]\n",
    "            test_3  = ds_test[task_test]\n",
    "\n",
    "            X = np.array(train_3.iloc[:,0:-1])\n",
    "            Y = np.array(train_3['target'])\n",
    "\n",
    "            rnd_clf = RandomForestClassifier(n_estimators=1000,max_depth= None, n_jobs=-1,class_weight=\"balanced\" )\n",
    "\n",
    "            all_scores = []\n",
    "            Mouse = 0\n",
    "            Nose = 0\n",
    "            for idx in range(num_iter):\n",
    "                skf = StratifiedKFold(n_splits=k_parameter, shuffle=True)\n",
    "                skf.get_n_splits(X,Y)\n",
    "\n",
    "                for train_index, test_index in skf.split(X,Y):\n",
    "\n",
    "                    X_final = X\n",
    "                    pca = PCA(n_components=0.8)\n",
    "                    if(mode == 'linear') : \n",
    "                        pca.fit(X,Y)\n",
    "#                         X_final = X\n",
    "                        X_final = pca.transform(X)\n",
    "                    \n",
    "\n",
    "                    rnd_clf.fit(X_final[train_index], Y[train_index])\n",
    "                    val_mae = rnd_clf.score(X_final[test_index],Y[test_index])\n",
    "                    all_scores.append(val_mae)\n",
    "\n",
    "                    test = np.array(test_3.iloc[:,0:-1])\n",
    "                    if mode == 'linear':\n",
    "#                         pass\n",
    "                        test = pca.transform(test)\n",
    "\n",
    "                    aaa = rnd_clf.predict(test)\n",
    "\n",
    "                    Mouse = Mouse+np.count_nonzero(aaa=='0')\n",
    "                    Nose = Nose+ np.count_nonzero(aaa=='1')\n",
    "\n",
    "            print('model_score:{}'.format(np.mean(all_scores)))\n",
    "            print('mouse:{}({:.2}), nose:{}({:.2}) / total:{}'.format(Mouse,Mouse/(Mouse+Nose),Nose,Nose/(Mouse+Nose),(Mouse+Nose))) \n",
    "            \n",
    "            \n",
    "            \n",
    "            \n",
    "            result.append([ task_train, task_test,np.mean(all_scores) ,'{}'.format(Mouse),'{:.2}'.format(Mouse/(Mouse+Nose)),'{}'.format(Nose),'{:.2}'.format(Nose/(Mouse+Nose)),'{}'.format(Mouse+Nose) ])\n",
    "            df_standard = pd.DataFrame(data=result, columns=['training','test','model_score', 'mouse_num','mouse_percent','nose_num','nose_percent','total'  ])\n",
    "       \n",
    "    \n",
    "    for mode in ['kernel_linear']:\n",
    "        for task_train,task_test in tasks:\n",
    "\n",
    "            print('-------------------')\n",
    "            print('training:{}/test:{}/mode:{}'.format(task_train,task_test,mode))\n",
    "            train_3 = ds_train[task_train]\n",
    "            test_3  = ds_test[task_test]\n",
    "\n",
    "            X = np.array(train_3.iloc[:,0:-1])\n",
    "            Y = np.array(train_3['target'])\n",
    "            \n",
    "\n",
    "            rnd_clf = RandomForestClassifier(n_estimators=1000, n_jobs=-1 )\n",
    "#             rnd_clf = RandomForestClassifier(n_estimators=1000,max_features= 160,n_jobs=-1 )\n",
    "\n",
    "            all_scores = []\n",
    "            Mouse = 0\n",
    "            Nose = 0\n",
    "            for idx in range(num_iter):\n",
    "                skf = StratifiedKFold(n_splits=k_parameter, shuffle=True)\n",
    "                skf.get_n_splits(X,Y)\n",
    "                \n",
    "                for train_index, test_index in skf.split(X,Y):\n",
    "                    \n",
    "                    X_final = X\n",
    "                    kernel_linear_pca = KernelPCA(n_components=7, kernel=\"linear\")\n",
    "                    if(mode == 'kernel_linear'): \n",
    "                        kernel_linear_pca.fit(X,Y)\n",
    "                        X_final = kernel_linear_pca.transform(X)\n",
    "#                         X_final = X\n",
    "                    \n",
    "\n",
    "                    rnd_clf.fit(X_final[train_index], Y[train_index])\n",
    "                    val_mae = rnd_clf.score(X_final[test_index],Y[test_index])\n",
    "                    all_scores.append(val_mae)\n",
    "\n",
    "                \n",
    "                \n",
    "                    test = np.array(test_3.iloc[:,0:-1])\n",
    "                    if mode == 'kernel_linear':\n",
    "#                         pass\n",
    "                        test = kernel_linear_pca.transform(test)\n",
    "\n",
    "                    aaa = rnd_clf.predict(test)\n",
    "\n",
    "                    Mouse = Mouse+np.count_nonzero(aaa=='0')\n",
    "                    Nose = Nose+ np.count_nonzero(aaa=='1')\n",
    "\n",
    "            print('model_score:{}'.format(np.mean(all_scores)))\n",
    "            print('mouse:{}({:.2}), nose:{}({:.2}) / total:{}'.format(Mouse,Mouse/(Mouse+Nose),Nose,Nose/(Mouse+Nose),(Mouse+Nose)))\n",
    "            \n",
    "    df_standard.append([ task_train, task_test,np.mean(all_scores) ,'{}'.format(Mouse),'{:.2}'.format(Mouse/(Mouse+Nose)),'{}'.format(Nose),'{:.2}'.format(Nose/(Mouse+Nose)),'{}'.format(Mouse+Nose),pca_kernel ])\n",
    "   \n",
    "    return df_standard\n",
    "    \n",
    "    \n",
    "            \n",
    "            \n",
    "\n",
    "\n",
    "            "
   ]
  },
  {
   "cell_type": "code",
   "execution_count": 22,
   "metadata": {},
   "outputs": [],
   "source": [
    "task = [\n",
    "    ('close_rest_m_n','open_rest_mouse'),\n",
    "    ('close_rest_m_n','close_rest_mouse'),\n",
    "     ('close_rest_m_n','1back_mouse'),\n",
    "     ('close_rest_m_n','2back_mouse'),\n",
    "    \n",
    "    ('close_rest_m_n','open_rest_nose'),\n",
    "    ('close_rest_m_n','close_rest_nose'),\n",
    "     ('close_rest_m_n','1back_nose'),\n",
    "     ('close_rest_m_n','2back_nose'),\n",
    "    \n",
    "    ('close_rest_m_n','open_rest_O2'),    \n",
    "    ('close_rest_m_n','close_rest_O2'),\n",
    "     ('close_rest_m_n','1back_O2'),\n",
    "     ('close_rest_m_n','2back_O2'),\n",
    "    \n",
    "    \n",
    "    \n",
    "    \n",
    "    \n",
    "    ('open_rest_m_n', 'open_rest_mouse'),\n",
    "    ('open_rest_m_n','close_rest_mouse'),\n",
    "    ('open_rest_m_n','1back_mouse'),\n",
    "    ('open_rest_m_n','2back_mouse'),\n",
    "    \n",
    "    \n",
    "    ('open_rest_m_n','open_rest_nose'),\n",
    "    ('open_rest_m_n','close_rest_nose'),\n",
    "    ('open_rest_m_n','1back_nose'),\n",
    "    ('open_rest_m_n','2back_nose'),\n",
    "    \n",
    "    ('open_rest_m_n', 'open_rest_O2'),\n",
    "    ('open_rest_m_n','close_rest_O2'),\n",
    "    ('open_rest_m_n','1back_O2'),\n",
    "    ('open_rest_m_n','2back_O2'),\n",
    "    \n",
    "    ('1back_m_n', 'open_rest_mouse'),\n",
    "    ('1back_m_n','close_rest_mouse'),\n",
    "    ('1back_m_n','1back_mouse'),\n",
    "    ('1back_m_n','2back_mouse'),\n",
    "    \n",
    "    \n",
    "    ('1back_m_n','open_rest_nose'),\n",
    "    ('1back_m_n','close_rest_nose'),\n",
    "    ('1back_m_n','1back_nose'),\n",
    "    ('1back_m_n','2back_nose'),\n",
    "    \n",
    "    ('1back_m_n', 'open_rest_O2'),\n",
    "    ('1back_m_n','close_rest_O2'),\n",
    "    ('1back_m_n','1back_O2'),\n",
    "    ('1back_m_n','2back_O2'),\n",
    "    \n",
    "    ('2back_m_n', 'open_rest_mouse'),\n",
    "    ('2back_m_n','close_rest_mouse'),\n",
    "    ('2back_m_n','1back_mouse'),\n",
    "    ('2back_m_n','2back_mouse'),\n",
    "    \n",
    "    \n",
    "    ('2back_m_n','open_rest_nose'),\n",
    "    ('2back_m_n','close_rest_nose'),\n",
    "    ('2back_m_n','1back_nose'),\n",
    "    ('2back_m_n','2back_nose'),\n",
    "    \n",
    "    ('2back_m_n', 'open_rest_O2'),\n",
    "    ('2back_m_n','close_rest_O2'),\n",
    "    ('2back_m_n','1back_O2'),\n",
    "    ('2back_m_n','2back_O2'),\n",
    "\n",
    "    ('total_m_n', 'open_rest_mouse'),\n",
    "    ('total_m_n','close_rest_mouse'),\n",
    "    ('total_m_n','1back_mouse'),\n",
    "    ('total_m_n','2back_mouse'),\n",
    "    \n",
    "    \n",
    "    ('total_m_n','open_rest_nose'),\n",
    "    ('total_m_n','close_rest_nose'),\n",
    "    ('total_m_n','1back_nose'),\n",
    "    ('total_m_n','2back_nose'),\n",
    "    \n",
    "    ('total_m_n', 'open_rest_O2'),\n",
    "    ('total_m_n','close_rest_O2'),\n",
    "    ('total_m_n','1back_O2'),\n",
    "    ('total_m_n','2back_O2'),\n",
    "    \n",
    "    \n",
    "\n",
    " ]\n",
    "\n",
    "\n"
   ]
  },
  {
   "cell_type": "code",
   "execution_count": null,
   "metadata": {},
   "outputs": [
    {
     "name": "stdout",
     "output_type": "stream",
     "text": [
      "Linear-RF\n",
      "-------------------\n",
      "training:close_rest_m_n/test:open_rest_mouse/mode:linear\n"
     ]
    }
   ],
   "source": [
    "print(\"Linear-RF\")\n",
    "save_linear = save_record(task,k_parameter = 10,num_iter = 10)\n",
    "save_linear.to_csv('linear_result.csv',mode='w')\n"
   ]
  },
  {
   "cell_type": "code",
   "execution_count": null,
   "metadata": {},
   "outputs": [],
   "source": [
    "save_linear"
   ]
  },
  {
   "cell_type": "code",
   "execution_count": null,
   "metadata": {},
   "outputs": [],
   "source": []
  }
 ],
 "metadata": {
  "kernelspec": {
   "display_name": "Python 3",
   "language": "python",
   "name": "python3"
  },
  "language_info": {
   "codemirror_mode": {
    "name": "ipython",
    "version": 3
   },
   "file_extension": ".py",
   "mimetype": "text/x-python",
   "name": "python",
   "nbconvert_exporter": "python",
   "pygments_lexer": "ipython3",
   "version": "3.7.6"
  }
 },
 "nbformat": 4,
 "nbformat_minor": 4
}
