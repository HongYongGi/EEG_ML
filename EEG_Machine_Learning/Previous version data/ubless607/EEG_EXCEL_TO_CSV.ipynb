{
 "cells": [
  {
   "cell_type": "code",
   "execution_count": 13,
   "metadata": {},
   "outputs": [],
   "source": [
    "import os\n",
    "import matplotlib as mpl\n",
    "import matplotlib.pylab as plt\n",
    "import itertools\n",
    "import csv, codecs\n",
    "import glob\n",
    "import numpy as np\n",
    "import pandas as pd\n",
    "import argparse\n",
    "import openpyxl\n",
    "from openpyxl import Workbook"
   ]
  },
  {
   "cell_type": "code",
   "execution_count": 14,
   "metadata": {},
   "outputs": [],
   "source": [
    "data_dir = \"./EEG_data/\""
   ]
  },
  {
   "cell_type": "code",
   "execution_count": 15,
   "metadata": {
    "scrolled": true
   },
   "outputs": [],
   "source": [
    "def EEG_data_csv(data_dir):\n",
    "    \n",
    "    # Kinds of Power 입력\n",
    "    file_list = os.listdir(data_dir)\n",
    "    file_list.sort()\n",
    "    print(\"Kinds of Power\" ,file_list)\n",
    "       \n",
    "    global kinds_of_power\n",
    "    kinds_of_power =str(input( \"Kinds of Power : \"))\n",
    "    \n",
    "    excel_dir = \"./EEG_data\" + '/' + kinds_of_power\n",
    "    excel_list = sorted(glob.glob(excel_dir+'/[!~]*.xlsx'))\n",
    "    \n",
    "    # EEG_csv_data 디렉토리 생성\n",
    "    csv_dir = \"./EEG_csv_data\"\n",
    "    if not os.path.isdir(csv_dir):\n",
    "        os.mkdir(csv_dir)\n",
    "    \n",
    "    Abs_dir =\"./EEG_csv_data/Abs\"\n",
    "    Relative_dir = \"./EEG_csv_data/Relative\"\n",
    "    \n",
    "    if not os.path.isdir(Abs_dir):\n",
    "        os.mkdir(Abs_dir)\n",
    "    if not os.path.isdir(Relative_dir):\n",
    "        os.mkdir(Relative_dir)\n",
    "\n",
    "    book = Workbook()\n",
    "    sheet = book.active\n",
    "    \n",
    "    # x축,y축 생성\n",
    "    for j in range(0,12):\n",
    "        for i in range(1,21):\n",
    "            if i < 10 :\n",
    "                sheet['A'+str(20*j+i+1)] = 'S0'+str(i)\n",
    "            if i == 10 :\n",
    "                sheet['A'+str(20*j+i+1)] = 'S'+str(10)\n",
    "            if i > 10 :\n",
    "                sheet['A'+str(20*j+i+1)] = 'S'+str(i)\n",
    "\n",
    "    for i in range(1,33):\n",
    "        sheet.cell(row=1, column=i+1).value = 'ACh' + str(i)\n",
    "        sheet.cell(row=1, column=i+33).value = 'BCh' + str(i)\n",
    "        sheet.cell(row=1, column=i+65).value = 'DCh' + str(i)\n",
    "        sheet.cell(row=1, column=i+97).value = 'GCh' + str(i)\n",
    "        sheet.cell(row=1, column=i+129).value = 'TCh' + str(i)\n",
    "        \n",
    "    #파일을 순차적으로 열어서 셀 영역을 복사\n",
    "    for j in range(0,5):\n",
    "        wb = openpyxl.load_workbook(excel_list[j], data_only=True)\n",
    "        wb_sheet = wb.sheetnames\n",
    "        for k in range(0,12):\n",
    "            source = wb[wb_sheet[k]]\n",
    "            for l in range(2, 22):\n",
    "                for m in range(2, 34):\n",
    "                    sheet.cell(row=20*k+l,column=m+32*j).value = source.cell(row=l,column=m).value  \n",
    "\n",
    "    # csv 파일로 저장\n",
    "    if kinds_of_power == \"Abs\":\n",
    "        with open(Abs_dir + str('/') +'Abs_Merged.csv', 'w', newline=\"\") as f:\n",
    "            c = csv.writer(f)\n",
    "            for r in sheet.rows:\n",
    "                c.writerow([cell.value for cell in r])\n",
    "    elif kinds_of_power == \"Relative\":\n",
    "        with open(Relative_dir + str('/') +'Relative_Merged.csv', 'w', newline=\"\") as f:\n",
    "            c = csv.writer(f)\n",
    "            for r in sheet.rows:\n",
    "                c.writerow([cell.value for cell in r])"
   ]
  },
  {
   "cell_type": "code",
   "execution_count": 16,
   "metadata": {
    "scrolled": false
   },
   "outputs": [
    {
     "name": "stdout",
     "output_type": "stream",
     "text": [
      "Kinds of Power ['Abs', 'Relative']\n",
      "Kinds of Power : Abs\n"
     ]
    }
   ],
   "source": [
    "method = EEG_data_csv(data_dir)"
   ]
  },
  {
   "cell_type": "code",
   "execution_count": null,
   "metadata": {},
   "outputs": [],
   "source": []
  },
  {
   "cell_type": "code",
   "execution_count": null,
   "metadata": {},
   "outputs": [],
   "source": []
  },
  {
   "cell_type": "code",
   "execution_count": null,
   "metadata": {},
   "outputs": [],
   "source": []
  },
  {
   "cell_type": "code",
   "execution_count": null,
   "metadata": {},
   "outputs": [],
   "source": []
  }
 ],
 "metadata": {
  "kernelspec": {
   "display_name": "Python 3",
   "language": "python",
   "name": "python3"
  },
  "language_info": {
   "codemirror_mode": {
    "name": "ipython",
    "version": 3
   },
   "file_extension": ".py",
   "mimetype": "text/x-python",
   "name": "python",
   "nbconvert_exporter": "python",
   "pygments_lexer": "ipython3",
   "version": "3.7.4"
  }
 },
 "nbformat": 4,
 "nbformat_minor": 2
}
