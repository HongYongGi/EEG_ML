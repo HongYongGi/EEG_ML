{
 "cells": [
  {
   "cell_type": "markdown",
   "metadata": {},
   "source": [
    "# EEG (Electroencephalogram)\n",
    "![https://www.mayoclinic.org/tests-procedures/eeg/about/pac-20393875](https://i.imgur.com/o3PR8E6.png)\n",
    "* EEG는 뇌의 전기적인 활동을 머리 표면에 부착한 전극에 의해 비침습적으로 측정한 전기신호이다.   \n",
    "* EEG는 진동하는 주파수의 범위에 따라 인위적으로 델타 -δ파(0.2 ~ 3.99 Hz), 세타 -θ파(4 ~ 7.99 Hz), 알파 -α파(8 ~ 12.99 Hz), 베타 -β파(13 ~ 29.99 Hz), 감마- g파(30~50 Hz)로 구분하여 부른다."
   ]
  },
  {
   "cell_type": "markdown",
   "metadata": {},
   "source": [
    "* 델타파는 깊은 수면 상태에서 발생되는 뇌파이다.\n",
    "* 세타타는 얕은 수면 상태에서 발생되는 뇌파이며, 지각과 꿈의 경계상태로도 불린다.\n",
    "* 알파파는 뇌의 이완 상태를 나타낸다. 근육이 이완되고 마음이 편안하면서도 의식이 집중되고 있는 상태를 말한다.\n",
    "* 베타파는 의식이 깨어있을 때의 뇌파이다. 일상 생활 중에 대부분 사람들의 뇌파는 베타파로 눈을 뜨고, 걷고, 흥분하고, 외부 세계에 초점을 맞추는 도중에 나타난다.\n",
    "* 감마파는 높은 수준의 인지 처리 작업과 관련이 깊다. 학습 스타일, 새로운 정보를 받아들이는 능력, 감각과 인식에 관련이 있다. 시상에서 시작하여 후두엽에서 순식간에 전두엽으로 넘어온다."
   ]
  },
  {
   "cell_type": "code",
   "execution_count": null,
   "metadata": {},
   "outputs": [],
   "source": []
  }
 ],
 "metadata": {
  "kernelspec": {
   "display_name": "Python 3",
   "language": "python",
   "name": "python3"
  },
  "language_info": {
   "codemirror_mode": {
    "name": "ipython",
    "version": 3
   },
   "file_extension": ".py",
   "mimetype": "text/x-python",
   "name": "python",
   "nbconvert_exporter": "python",
   "pygments_lexer": "ipython3",
   "version": "3.7.4"
  }
 },
 "nbformat": 4,
 "nbformat_minor": 2
}
