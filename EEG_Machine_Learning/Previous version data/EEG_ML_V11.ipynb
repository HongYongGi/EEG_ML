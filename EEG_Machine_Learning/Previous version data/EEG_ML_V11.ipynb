{
 "cells": [
  {
   "cell_type": "code",
   "execution_count": 1,
   "metadata": {},
   "outputs": [],
   "source": [
    "import os\n",
    "import matplotlib as mpl\n",
    "import matplotlib.pylab as plt\n",
    "import itertools\n",
    "import csv , codecs\n",
    "import glob\n",
    "from PIL import Image\n",
    "import numpy as np\n",
    "import pandas as pd\n",
    "import openpyxl\n",
    "from openpyxl import Workbook\n",
    "from openpyxl import load_workbook\n",
    "from sklearn.pipeline import Pipeline\n",
    "from sklearn.svm import SVC\n",
    "from sklearn import datasets\n",
    "from sklearn.model_selection import train_test_split\n",
    "from sklearn.utils import shuffle\n",
    "from sklearn.model_selection import KFold\n",
    "from sklearn.model_selection import StratifiedKFold\n",
    "from sklearn.pipeline import Pipeline\n",
    "from sklearn.preprocessing import StandardScaler\n",
    "from sklearn.preprocessing import MinMaxScaler\n",
    "from sklearn.model_selection import cross_val_score\n",
    "from sklearn.model_selection import GridSearchCV\n",
    "def warn(*args, **kwargs): pass\n",
    "import warnings\n",
    "warnings.warn = warn\n",
    "from sklearn import decomposition\n",
    "from sklearn.metrics import classification_report\n",
    "from sklearn.metrics import accuracy_score, log_loss\n",
    "from sklearn.ensemble import RandomForestClassifier\n",
    "from sklearn.discriminant_analysis import LinearDiscriminantAnalysis\n"
   ]
  },
  {
   "cell_type": "code",
   "execution_count": 2,
   "metadata": {},
   "outputs": [],
   "source": [
    "data_dir = \"./EEG_data/\""
   ]
  },
  {
   "cell_type": "markdown",
   "metadata": {},
   "source": [
    "## CSV 파일 생성 함수"
   ]
  },
  {
   "cell_type": "code",
   "execution_count": 3,
   "metadata": {},
   "outputs": [],
   "source": [
    "def EEG_data_csv(data_dir):\n",
    "    \n",
    "    # Kinds of Power 입력\n",
    "    file_list = os.listdir(data_dir)\n",
    "    file_list.sort()\n",
    "       \n",
    "    global kinds_of_power\n",
    "    kinds_of_power = \"Relative\"\n",
    "    \n",
    "    excel_dir = \"./EEG_data\" + '/' + kinds_of_power\n",
    "    excel_list = sorted(glob.glob(excel_dir+'/[!~]*.xlsx'))\n",
    "    \n",
    "    # EEG_csv_data 디렉토리 생성\n",
    "    csv_dir = \"./EEG_csv_data\"\n",
    "    if not os.path.isdir(csv_dir):\n",
    "        os.mkdir(csv_dir)\n",
    "    \n",
    "    Abs_dir =\"./EEG_csv_data/Abs\"\n",
    "    Relative_dir = \"./EEG_csv_data/Relative\"\n",
    "    \n",
    "    if not os.path.isdir(Abs_dir):\n",
    "        os.mkdir(Abs_dir)\n",
    "    if not os.path.isdir(Relative_dir):\n",
    "        os.mkdir(Relative_dir)\n",
    "    \n",
    "    book = Workbook()\n",
    "    sheet = book.active\n",
    "    \n",
    "    # x축,y축 생성\n",
    "    for i in range (1,21) :\n",
    "        if i < 10 :\n",
    "            sheet['A'+str(i+1)] = 'S0'+str(i)\n",
    "        if i == 10 :\n",
    "            sheet['A'+str(i+1)] = 'S'+str(10)\n",
    "        if i > 10 :\n",
    "            sheet['A'+str(i+1)] = 'S'+str(i)\n",
    "            \n",
    "    for j in range (0,12):\n",
    "        for i in range(1,33):\n",
    "            sheet.cell(row=1, column=160*j+i+1).value = 'ACh' + str(i)\n",
    "            sheet.cell(row=1, column=160*j+i+33).value = 'BCh' + str(i)\n",
    "            sheet.cell(row=1, column=160*j+i+65).value = 'DCh' + str(i)\n",
    "            sheet.cell(row=1, column=160*j+i+97).value = 'GCh' + str(i)\n",
    "            sheet.cell(row=1, column=160*j+i+129).value = 'TCh' + str(i)\n",
    "\n",
    "    # 파일을 순차적으로 열어서 셀 영역을 복사\n",
    "    # j: 엑셀 파일의 수, k: 각 엑셀 파일 당 시트의 수, n: task의 수, l: subject의 수, m: ch1-ch32\n",
    "\n",
    "    for j in range(0,5):\n",
    "        wb = openpyxl.load_workbook(excel_list[j], data_only=True)\n",
    "        wb_sheet = wb.sheetnames\n",
    "        for k in range(0,12):\n",
    "            source = wb[wb_sheet[k]]\n",
    "            for l in range(2, 22):\n",
    "                for m in range(2, 34):\n",
    "                    sheet.cell(row=l,column=160*k+m+32*j).value = source.cell(row=l,column=m).value\n",
    "\n",
    "    # EEG_csv_data 디렉토리에 csv 파일로 저장\n",
    "    if kinds_of_power == \"Abs\":\n",
    "        with open(Abs_dir + str('/') +'Abs_Merged.csv', 'w', newline=\"\") as f:\n",
    "            c = csv.writer(f)\n",
    "            for r in sheet.rows:\n",
    "                c.writerow([cell.value for cell in r])\n",
    "    elif kinds_of_power == \"Relative\":\n",
    "        with open(Relative_dir + str('/') +'Relative_Merged.csv', 'w', newline=\"\") as f:\n",
    "            c = csv.writer(f)\n",
    "            for r in sheet.rows:\n",
    "                c.writerow([cell.value for cell in r])"
   ]
  },
  {
   "cell_type": "markdown",
   "metadata": {},
   "source": [
    "## CSV 파일에서 Pandas dataframe으로 가져오는 함수"
   ]
  },
  {
   "cell_type": "code",
   "execution_count": 4,
   "metadata": {},
   "outputs": [],
   "source": [
    "EEG_data_csv(data_dir)"
   ]
  },
  {
   "cell_type": "markdown",
   "metadata": {},
   "source": [
    "\n",
    "### task 0 1 2 : 1-back,  2-back,  rest\n",
    "\n",
    "### eye 0  1    : close eye,     open eye\n",
    "\n",
    "### respiratory 0 1 2 : mouse, nose, O2 \n",
    "\n"
   ]
  },
  {
   "cell_type": "code",
   "execution_count": 5,
   "metadata": {},
   "outputs": [],
   "source": [
    "def dataset_csv_3():\n",
    "    normalize_power = str(input(\"Relative, Abs :\"))\n",
    "    excel_dir = \"./EEG_data\" + '/' + normalize_power\n",
    "    excel_list = sorted(glob.glob(excel_dir+'/[!~]*.xlsx'))\n",
    "    \n",
    "    subject = int(input(\"subject :\"))\n",
    "    book = Workbook()\n",
    "    sheet = book.active\n",
    "    sheet.cell(row=1, column=161).value = 'target'\n",
    " \n",
    "    # x축 생성   \n",
    "    for i in range(1,33):\n",
    "        sheet.cell(row=1, column=i).value = 'ACh' + str(i)\n",
    "        sheet.cell(row=1, column=i+32).value = 'BCh' + str(i)\n",
    "        sheet.cell(row=1, column=i+64).value = 'DCh' + str(i)\n",
    "        sheet.cell(row=1, column=i+96).value = 'GCh' + str(i)\n",
    "        sheet.cell(row=1, column=i+128).value = 'TCh' + str(i)\n",
    "        \n",
    "    # 파일을 순차적으로 열어서 셀 영역을 복사\n",
    "    for j in range(0,5):\n",
    "        wb = openpyxl.load_workbook(excel_list[j], data_only=True)\n",
    "        wb_sheet = wb.sheetnames\n",
    "        for k in range(0,12):\n",
    "            source = wb[wb_sheet[k]]\n",
    "            for l in range(2, 22):\n",
    "                for m in range(2, 34):\n",
    "                    sheet.cell(row=20*k+l,column=32*j+m-1).value = source.cell(row=l,column=m).value\n",
    "        \n",
    "\n",
    "    with open('./dataset_eeg_3.csv', 'w', newline=\"\") as f:\n",
    "        c = csv.writer(f)\n",
    "        for r in sheet.rows:\n",
    "            c.writerow([cell.value for cell in r])\n",
    "            \n",
    "    df = pd.read_csv('./dataset_eeg_3.csv')\n",
    "    df[df =='                      NaN'] =np.nan\n",
    "    df = df.fillna(0.0).astype('float64')\n",
    "    pd.options.mode.chained_assignment = None\n",
    "\n",
    "    df[\"target\"][0*subject:1*subject] = \"0\"\n",
    "    df[\"target\"][1*subject:2*subject] = \"1\"\n",
    "    df[\"target\"][2*subject:3*subject] = \"2\"\n",
    "\n",
    "    df[\"target\"][3*subject:4*subject] = \"0\"\n",
    "    df[\"target\"][4*subject:5*subject] = \"1\"\n",
    "    df[\"target\"][5*subject:6*subject] = \"2\"\n",
    "\n",
    "    df[\"target\"][6*subject:7*subject] = \"0\"\n",
    "    df[\"target\"][7*subject:8*subject] = \"1\"\n",
    "    df[\"target\"][8*subject:9*subject] = \"2\"\n",
    "\n",
    "    df[\"target\"][9*subject:10*subject] = \"0\"\n",
    "    df[\"target\"][10*subject:11*subject] = \"1\"\n",
    "    df[\"target\"][11*subject:12*subject] = \"2\"\n",
    "    df.astype('float64')\n",
    "    df.to_csv('./dataset_eeg_3.csv')\n",
    "    \n",
    "    return df\n",
    "            \n"
   ]
  },
  {
   "cell_type": "code",
   "execution_count": 6,
   "metadata": {},
   "outputs": [
    {
     "name": "stdin",
     "output_type": "stream",
     "text": [
      "Relative, Abs : Relative\n",
      "subject : 20\n"
     ]
    },
    {
     "name": "stderr",
     "output_type": "stream",
     "text": [
      "C:\\Users\\hyg44\\AppData\\Local\\Continuum\\anaconda3\\lib\\site-packages\\pandas\\core\\ops.py:1649: FutureWarning: elementwise comparison failed; returning scalar instead, but in the future will perform elementwise comparison\n",
      "  result = method(y)\n"
     ]
    }
   ],
   "source": [
    "eeg_data_3 = dataset_csv_3()"
   ]
  },
  {
   "cell_type": "markdown",
   "metadata": {},
   "source": [
    " "
   ]
  },
  {
   "cell_type": "code",
   "execution_count": 7,
   "metadata": {},
   "outputs": [],
   "source": [
    "\n",
    "\n",
    "ds_train = {}\n",
    "ds_test = {}\n",
    "\n",
    "\n",
    "# train : open_eye + 1-back\n",
    "ds_train['open_eye_1back']= eeg_data_3.iloc[0:40]\n",
    "ds_test['open_eye_1back'] = eeg_data_3.iloc[40:60]\n",
    "\n",
    "# train : open_eye + 2-back\n",
    "ds_train['open_eye_2back']= eeg_data_3.iloc[60:100]\n",
    "ds_test['open_eye_2back']= eeg_data_3.iloc[100:120]\n",
    "\n",
    "# train : open_eye + rest \n",
    "ds_train['open_eye_rest']= eeg_data_3.iloc[180:220]\n",
    "ds_test['open_eye_rest']= eeg_data_3.iloc[220:240]\n",
    "\n",
    "# train : close_eye + rest\n",
    "ds_train['close_eye_rest']=eeg_data_3.iloc[120:160]\n",
    "ds_test['close_eye_rest']=eeg_data_3.iloc[160:180]\n",
    "\n",
    "# train : total\n",
    "ds_train['total']=eeg_data_3.iloc[0:40].append( eeg_data_3.iloc[60:100]).append(eeg_data_3.iloc[120:160]).append(eeg_data_3.iloc[180:220])\n",
    "ds_test['total']= eeg_data_3.iloc[40:60].append( eeg_data_3.iloc[100:120]).append(eeg_data_3.iloc[160:180]).append(eeg_data_3.iloc[220:240])\n",
    "\n"
   ]
  },
  {
   "cell_type": "code",
   "execution_count": 8,
   "metadata": {},
   "outputs": [],
   "source": [
    "def M_N_O2 (tasks, k_parameter, num_iter):\n",
    "\n",
    "    for mode in ['no_lda','lda']:\n",
    "        for task_train,task_test in tasks:\n",
    "\n",
    "            print('-------------------')\n",
    "            print('training:{}/test:{}/mode:{}'.format(task_train,task_test,mode))\n",
    "            train_3 = ds_train[task_train]\n",
    "            test_3  = ds_test[task_test]\n",
    "\n",
    "            X = np.array(train_3.iloc[:,0:-1])\n",
    "            Y = np.array(train_3['target'])\n",
    "\n",
    "            rnd_clf = RandomForestClassifier(n_estimators=1000, n_jobs=-1)\n",
    "\n",
    "            all_scores = []\n",
    "            Mouse = 0\n",
    "            Nose = 0\n",
    "            for idx in range(num_iter):\n",
    "                skf = StratifiedKFold(n_splits=k_parameter, shuffle=True)\n",
    "                skf.get_n_splits(X,Y)\n",
    "\n",
    "                for train_index, test_index in skf.split(X,Y):\n",
    "\n",
    "                    X_final = X\n",
    "                    lda = LinearDiscriminantAnalysis(n_components=1)\n",
    "                    if(mode == 'lda') : \n",
    "                        lda.fit(X,Y)\n",
    "                        X_final = lda.transform(X)\n",
    "\n",
    "                    rnd_clf.fit(X_final[train_index], Y[train_index])\n",
    "                    val_mae = rnd_clf.score(X_final[test_index],Y[test_index])\n",
    "                    all_scores.append(val_mae)\n",
    "\n",
    "                    test = np.array(test_3.iloc[:,0:-1])\n",
    "                    if mode == 'lda':\n",
    "                        test = lda.transform(test)\n",
    "\n",
    "                    aaa = rnd_clf.predict(test)\n",
    "\n",
    "                    Mouse = Mouse+np.count_nonzero(aaa=='0')\n",
    "                    Nose = Nose+ np.count_nonzero(aaa=='1')\n",
    "\n",
    "            print('model_score:{}'.format(np.mean(all_scores)))\n",
    "            print('mouse:{}({:.2}), nose:{}({:.2}) / total:{}'.format(Mouse,Mouse/(Mouse+Nose),Nose,Nose/(Mouse+Nose),(Mouse+Nose)))\n"
   ]
  },
  {
   "cell_type": "markdown",
   "metadata": {},
   "source": [
    " "
   ]
  },
  {
   "cell_type": "code",
   "execution_count": 9,
   "metadata": {},
   "outputs": [],
   "source": [
    "\n",
    "tasks5 = [\n",
    "     ('close_eye_rest','close_eye_rest'),\n",
    "     ('close_eye_rest','open_eye_rest'),\n",
    "     ('close_eye_rest','open_eye_1back'),\n",
    "     ('close_eye_rest','open_eye_2back'),\n",
    "     ('close_eye_rest','total')\n",
    " ]\n",
    "\n",
    "\n",
    "#tasks6 = [\n",
    "#     ('close_eye_rest','open_eye_rest'),\n",
    "#     ('close_eye_rest','open_eye_1back'),\n",
    "#     ('close_eye_rest','open_eye_2back'),\n",
    "# ]"
   ]
  },
  {
   "cell_type": "markdown",
   "metadata": {},
   "source": [
    "  "
   ]
  },
  {
   "cell_type": "code",
   "execution_count": null,
   "metadata": {},
   "outputs": [
    {
     "name": "stdout",
     "output_type": "stream",
     "text": [
      "-------------------\n",
      "training:close_eye_rest/test:close_eye_rest/mode:no_lda\n",
      "model_score:0.15\n",
      "mouse:85(0.42), nose:115(0.57) / total:200\n",
      "-------------------\n",
      "training:close_eye_rest/test:open_eye_rest/mode:no_lda\n",
      "model_score:0.15\n",
      "mouse:63(0.32), nose:137(0.69) / total:200\n",
      "-------------------\n",
      "training:close_eye_rest/test:open_eye_1back/mode:no_lda\n",
      "model_score:0.15\n",
      "mouse:37(0.18), nose:163(0.81) / total:200\n",
      "-------------------\n",
      "training:close_eye_rest/test:open_eye_2back/mode:no_lda\n",
      "model_score:0.25\n",
      "mouse:53(0.27), nose:147(0.73) / total:200\n",
      "-------------------\n",
      "training:close_eye_rest/test:total/mode:no_lda\n",
      "model_score:0.175\n",
      "mouse:248(0.31), nose:552(0.69) / total:800\n",
      "-------------------\n",
      "training:close_eye_rest/test:close_eye_rest/mode:lda\n"
     ]
    }
   ],
   "source": [
    "M_N_O2(tasks5,k_parameter = 10,num_iter = 1)"
   ]
  },
  {
   "cell_type": "code",
   "execution_count": null,
   "metadata": {},
   "outputs": [],
   "source": []
  }
 ],
 "metadata": {
  "kernelspec": {
   "display_name": "Python 3",
   "language": "python",
   "name": "python3"
  },
  "language_info": {
   "codemirror_mode": {
    "name": "ipython",
    "version": 3
   },
   "file_extension": ".py",
   "mimetype": "text/x-python",
   "name": "python",
   "nbconvert_exporter": "python",
   "pygments_lexer": "ipython3",
   "version": "3.8.3"
  }
 },
 "nbformat": 4,
 "nbformat_minor": 4
}
