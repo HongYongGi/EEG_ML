{
 "cells": [
  {
   "cell_type": "code",
   "execution_count": 1,
   "metadata": {},
   "outputs": [],
   "source": [
    "import numpy as np\n",
    "import matplotlib.pyplot as plt\n",
    "from itertools import cycle\n",
    "import pandas as pd\n",
    "\n",
    "from sklearn import svm, datasets\n",
    "from sklearn.metrics import roc_curve, auc\n",
    "from sklearn.model_selection import train_test_split, cross_val_predict\n",
    "from sklearn.preprocessing import label_binarize\n",
    "from sklearn.multiclass import OneVsRestClassifier\n",
    "from scipy import interp\n",
    "from sklearn.metrics import roc_auc_score, plot_roc_curve"
   ]
  },
  {
   "cell_type": "code",
   "execution_count": 2,
   "metadata": {},
   "outputs": [],
   "source": [
    "import os\n",
    "import matplotlib as mpl\n",
    "import matplotlib.pylab as plt\n",
    "import itertools\n",
    "import csv , codecs\n",
    "import glob\n",
    "from PIL import Image\n",
    "import numpy as np\n",
    "import pandas as pd\n",
    "import openpyxl\n",
    "from openpyxl import Workbook\n",
    "from openpyxl import load_workbook\n",
    "from sklearn.utils import shuffle\n",
    "from sklearn.model_selection import StratifiedKFold\n",
    "from sklearn.model_selection import StratifiedShuffleSplit\n",
    "from sklearn.model_selection import KFold\n",
    "from sklearn.model_selection import train_test_split\n",
    "def warn(*args, **kwargs): pass\n",
    "import warnings\n",
    "warnings.warn = warn\n",
    "from sklearn.ensemble import RandomForestClassifier\n",
    "from sklearn.discriminant_analysis import LinearDiscriminantAnalysis\n",
    "from sklearn.decomposition import PCA\n",
    "from sklearn.decomposition import KernelPCA\n",
    "from sklearn.model_selection import GridSearchCV\n",
    "from sklearn.svm import SVC\n",
    "from sklearn.pipeline import Pipeline\n",
    "from sklearn.base import clone\n",
    "from sklearn.model_selection import validation_curve\n",
    "\n",
    "\n"
   ]
  },
  {
   "cell_type": "markdown",
   "metadata": {
    "jupyter": {
     "source_hidden": true
    }
   },
   "source": [
    "def dataset_csv_3():\n",
    "    normalize_power = str(input(\"Relative, Abs :\"))\n",
    "    excel_dir = \"./EEG_data\" + '/' + normalize_power\n",
    "    excel_list = sorted(glob.glob(excel_dir+'/[!~]*.xlsx'))\n",
    "    \n",
    "    subject = int(input(\"subject :\"))\n",
    "    book = Workbook()\n",
    "    sheet = book.active\n",
    "    sheet.cell(row=1, column=161).value = 'target'\n",
    "    sheet.cell(row=1, column=162).value = 'task'\n",
    " \n",
    "    # x축 생성   \n",
    "    for i in range(1,33):\n",
    "        sheet.cell(row=1, column=i).value = 'ACh' + str(i)\n",
    "        sheet.cell(row=1, column=i+32).value = 'BCh' + str(i)\n",
    "        sheet.cell(row=1, column=i+64).value = 'DCh' + str(i)\n",
    "        sheet.cell(row=1, column=i+96).value = 'GCh' + str(i)\n",
    "        sheet.cell(row=1, column=i+128).value = 'TCh' + str(i)\n",
    "        \n",
    "    # 파일을 순차적으로 열어서 셀 영역을 복사\n",
    "    for j in range(0,5):\n",
    "        wb = openpyxl.load_workbook(excel_list[j], data_only=True)\n",
    "        wb_sheet = wb.sheetnames\n",
    "        for k in range(0,12):\n",
    "            source = wb[wb_sheet[k]]\n",
    "            for l in range(2, 22):\n",
    "                for m in range(2, 34):\n",
    "                    sheet.cell(row=20*k+l,column=32*j+m-1).value = source.cell(row=l,column=m).value\n",
    "        \n",
    "\n",
    "    with open('./dataset_eeg_3.csv', 'w', newline=\"\") as f:\n",
    "        c = csv.writer(f)\n",
    "        for r in sheet.rows:\n",
    "            c.writerow([cell.value for cell in r])\n",
    "            \n",
    "    df = pd.read_csv('./dataset_eeg_3.csv')\n",
    "    df[df =='                      NaN'] =np.nan\n",
    "    df = df.fillna(0.0).astype('float64')\n",
    "    pd.options.mode.chained_assignment = None\n",
    "#1-back mouse, nose, o2\n",
    "    df[\"target\"][0*subject:1*subject] = \"0\" #0:20\n",
    "    df[\"target\"][1*subject:2*subject] = \"1\" #21:40\n",
    "    df[\"target\"][2*subject:3*subject] = \"2\" #41:60\n",
    "#2-back mouse, nose, o2\n",
    "    df[\"target\"][3*subject:4*subject] = \"0\" #60:80\n",
    "    df[\"target\"][4*subject:5*subject] = \"1\" #80:100\n",
    "    df[\"target\"][5*subject:6*subject] = \"2\" #100:120\n",
    "#rest close eye mouse, nose, o2\n",
    "    df[\"target\"][6*subject:7*subject] = \"0\" #120:140\n",
    "    df[\"target\"][7*subject:8*subject] = \"1\" #140:160\n",
    "    df[\"target\"][8*subject:9*subject] = \"2\" #160:180\n",
    "#rest open eye mouse, nose, o2\n",
    "    df[\"target\"][9*subject:10*subject] = \"0\" #180:200\n",
    "    df[\"target\"][10*subject:11*subject] = \"1\" #200:220\n",
    "    df[\"target\"][11*subject:12*subject] = \"2\" #220:240\n",
    "\n",
    "    #1-back mouse, nose, o2\n",
    "    df[\"task\"][0*subject:1*subject] = \"1back_m\" #0:20\n",
    "    df[\"task\"][1*subject:2*subject] = \"1back_n\" #21:40\n",
    "    df[\"task\"][2*subject:3*subject] = \"1back_O2\" #41:60\n",
    "    #2-back mouse, nose, o2\n",
    "    df[\"task\"][3*subject:4*subject] = \"2back_m\" #60:80\n",
    "    df[\"task\"][4*subject:5*subject] = \"2back_n\" #80:100\n",
    "    df[\"task\"][5*subject:6*subject] = \"2back_O2\" #100:120\n",
    "    #rest close eye mouse, nose, o2\n",
    "    df[\"task\"][6*subject:7*subject] = \"rest_close_m\" #120:140\n",
    "    df[\"task\"][7*subject:8*subject] = \"rest_close_n\" #140:160\n",
    "    df[\"task\"][8*subject:9*subject] = \"rest_close_O2\" #160:180\n",
    "    #rest open eye mouse, nose, o2\n",
    "    df[\"task\"][9*subject:10*subject] = \"rest_open_m\" #180:200\n",
    "    df[\"task\"][10*subject:11*subject] = \"rest_open_n\" #200:220\n",
    "    df[\"task\"][11*subject:12*subject] = \"rest_open_O2\" #220:240\n",
    "    \n",
    "    \n",
    "    df.to_csv('./dataset_eeg_3.csv')\n",
    "    \n",
    "    return df\n",
    "            \n"
   ]
  },
  {
   "cell_type": "code",
   "execution_count": 3,
   "metadata": {},
   "outputs": [
    {
     "name": "stdout",
     "output_type": "stream",
     "text": [
      " C 드라이브의 볼륨: Windows\n",
      " 볼륨 일련 번호: C6BE-7C48\n",
      "\n",
      " C:\\Users\\whbom\\projectspace\\EEG\\ML_EEG 디렉터리\n",
      "\n",
      "2020-08-12  오후 04:36    <DIR>          .\n",
      "2020-08-12  오후 04:36    <DIR>          ..\n",
      "2020-08-12  오후 02:54    <DIR>          .ipynb_checkpoints\n",
      "2020-06-25  오후 09:52               701 10fold_cross_validation_result.csv\n",
      "2020-08-12  오후 02:56            36,191 10foldvalidation.ipynb\n",
      "2020-04-28  오후 05:03            85,553 corrVI_present.ipynb\n",
      "2020-08-12  오후 02:56           662,602 dataset_eeg_3.csv\n",
      "2020-08-07  오전 08:48           660,057 dataset_eeg_3_O2zero.csv\n",
      "2020-03-25  오후 01:33    <DIR>          EEG_csv_data\n",
      "2020-08-04  오전 01:48    <DIR>          EEG_data\n",
      "2020-04-28  오후 05:03            33,030 EEG_ML_RESULT.ipynb\n",
      "2020-08-12  오후 04:36            55,194 eeg_roc.ipynb\n",
      "2020-08-12  오후 04:09            89,606 EEG_ROC.png\n",
      "2020-06-25  오후 09:52    <DIR>          image\n",
      "2020-04-27  오전 04:08               555 K_fold_presentation.ipynb\n",
      "2020-06-25  오후 09:52             6,113 kernel_PCA.ipynb\n",
      "2020-08-05  오전 04:39            61,567 LDARF_RESULT.ipynb\n",
      "2020-04-28  오후 05:03            47,817 linear_Pca_csv.ipynb\n",
      "2020-04-28  오후 05:03            17,610 poster_result.ipynb\n",
      "2020-06-25  오후 09:55    <DIR>          preprocessing_FFT\n",
      "2020-04-28  오후 05:03    <DIR>          Previous version data\n",
      "2020-04-28  오후 05:03             1,453 result.csv\n",
      "2020-07-22  오후 05:39            51,558 result_save_csv.ipynb\n",
      "2020-08-03  오후 11:32            99,849 SVM.ipynb\n",
      "2020-04-28  오후 05:03             7,198 train_variance_importance2.csv\n",
      "2020-04-28  오후 05:03           160,201 variance_selection.ipynb\n",
      "              18개 파일           2,076,855 바이트\n",
      "               8개 디렉터리  316,778,213,376 바이트 남음\n"
     ]
    }
   ],
   "source": [
    "ls"
   ]
  },
  {
   "cell_type": "code",
   "execution_count": 4,
   "metadata": {},
   "outputs": [],
   "source": [
    "eeg = pd.read_csv('./dataset_eeg_3_O2zero.csv',index_col=0)"
   ]
  },
  {
   "cell_type": "code",
   "execution_count": 5,
   "metadata": {},
   "outputs": [
    {
     "name": "stdout",
     "output_type": "stream",
     "text": [
      "<class 'pandas.core.frame.DataFrame'>\n",
      "Int64Index: 240 entries, 0 to 239\n",
      "Columns: 161 entries, ACh1 to target\n",
      "dtypes: float64(160), int64(1)\n",
      "memory usage: 303.8 KB\n"
     ]
    }
   ],
   "source": [
    "eeg.info()"
   ]
  },
  {
   "cell_type": "code",
   "execution_count": 6,
   "metadata": {},
   "outputs": [
    {
     "data": {
      "text/plain": [
       "0    160\n",
       "1     80\n",
       "Name: target, dtype: int64"
      ]
     },
     "execution_count": 6,
     "metadata": {},
     "output_type": "execute_result"
    }
   ],
   "source": [
    "eeg['target'].value_counts()"
   ]
  },
  {
   "cell_type": "code",
   "execution_count": 7,
   "metadata": {},
   "outputs": [
    {
     "data": {
      "text/plain": [
       "Index(['ACh1', 'ACh2', 'ACh3', 'ACh4', 'ACh5', 'ACh6', 'ACh7', 'ACh8', 'ACh9',\n",
       "       'ACh10',\n",
       "       ...\n",
       "       'TCh24', 'TCh25', 'TCh26', 'TCh27', 'TCh28', 'TCh29', 'TCh30', 'TCh31',\n",
       "       'TCh32', 'target'],\n",
       "      dtype='object', length=161)"
      ]
     },
     "execution_count": 7,
     "metadata": {},
     "output_type": "execute_result"
    }
   ],
   "source": [
    "eeg.keys()"
   ]
  },
  {
   "cell_type": "code",
   "execution_count": 9,
   "metadata": {},
   "outputs": [],
   "source": [
    "state={}\n",
    "\n",
    "state[\"1back_mouse\"]=eeg.iloc[0:20]\n",
    "state[\"1back_nose\"]=eeg.iloc[20:40]\n",
    "state[\"1back_O2\"]=eeg.iloc[40:60]\n",
    "\n",
    "state[\"2back_mouse\"]=eeg.iloc[60:80]\n",
    "state[\"2back_nose\"]=eeg.iloc[80:100]\n",
    "state[\"2back_O2\"]=eeg.iloc[100:120]\n",
    "\n",
    "state[\"close_rest_mouse\"]=eeg.iloc[120:140]\n",
    "state[\"close_rest_nose\"]=eeg.iloc[140:160]\n",
    "state[\"close_rest_O2\"]=eeg.iloc[160:180]\n",
    "\n",
    "state[\"open_rest_mouse\"]=eeg.iloc[180:200]\n",
    "state[\"open_rest_nose\"]=eeg.iloc[200:220]\n",
    "state[\"open_rest_O2\"]=eeg.iloc[220:240]"
   ]
  },
  {
   "cell_type": "code",
   "execution_count": 10,
   "metadata": {},
   "outputs": [],
   "source": [
    "ds_train = {}\n",
    "ds_test = {}\n",
    "\n",
    "\n",
    "ds_train={\"1back_mouse\":state[\"1back_mouse\"], \n",
    "       \"1back_nose\":state[\"1back_nose\"],\n",
    "       \"1back_O2\":state[\"1back_O2\"],\n",
    "       \"1back_m_n\":state[\"1back_mouse\"].append(state[\"1back_nose\"]),\n",
    "       \"1back\":state[\"1back_mouse\"].append(state[\"1back_nose\"]).append(state[\"1back_O2\"]),\n",
    "       \n",
    "                                               \n",
    "       \"2back_mouse\":state[\"2back_mouse\"],\n",
    "       \"2back_nose\":state[\"2back_nose\"],\n",
    "       \"2back_O2\":state[\"2back_O2\"],\n",
    "       \"2back_m_n\":state[\"2back_mouse\"].append(state[\"2back_nose\"]),\n",
    "       \"2back\":state[\"2back_mouse\"].append(state[\"2back_nose\"]).append(state[\"2back_O2\"]),\n",
    "       \n",
    "       \"close_rest_mouse\":state[\"close_rest_mouse\"], \n",
    "       \"close_rest_nose\":state[\"close_rest_nose\"],\n",
    "       \"close_rest_O2\":state[\"close_rest_O2\"],\n",
    "       \"close_rest_m_n\":state[\"close_rest_mouse\"].append(state[\"close_rest_nose\"]),\n",
    "       \"close_rest\":state[\"close_rest_mouse\"].append(state[\"close_rest_nose\"]).append(state[\"close_rest_O2\"]),\n",
    "       \n",
    "       \"open_rest_mouse\":state[\"open_rest_mouse\"],\n",
    "       \"open_rest_nose\":state[\"open_rest_nose\"],\n",
    "       \"open_rest_O2\":state[\"open_rest_O2\"],\n",
    "       \"open_rest_m_n\":state[\"open_rest_mouse\"].append(state[\"open_rest_nose\"]),\n",
    "       \"open_rest\":state[\"open_rest_mouse\"].append(state[\"open_rest_nose\"]).append(state[\"open_rest_O2\"]),\n",
    "       \n",
    "          ## open+close rest m_n\n",
    "          \"rest_m_n\":state[\"open_rest_mouse\"].append(state[\"open_rest_nose\"]).append(state[\"close_rest_mouse\"]).append(state[\"close_rest_nose\"]),\n",
    "       \n",
    "       \"total_mouse\" : state[\"1back_mouse\"].append(state[\"2back_mouse\"]).append(state[\"close_rest_mouse\"]).append(state[\"open_rest_mouse\"]),\n",
    "       \"total_nose\" : state[\"1back_nose\"].append(state[\"2back_nose\"]).append(state[\"close_rest_nose\"]).append(state[\"open_rest_nose\"]),\n",
    "       \"total_O2\" : state[\"1back_O2\"].append(state[\"2back_O2\"]).append(state[\"close_rest_O2\"]).append(state[\"open_rest_O2\"]),\n",
    "       \"total_m_n\": state[\"1back_mouse\"].append(state[\"1back_nose\"]).append(state[\"2back_mouse\"]).append(state[\"2back_nose\"]).append(state[\"close_rest_mouse\"]).append(state[\"close_rest_nose\"]).append(state[\"open_rest_mouse\"]).append(state[\"open_rest_nose\"]),\n",
    "       \"total\": state[\"1back_mouse\"].append(state[\"1back_nose\"]).append(state[\"1back_O2\"]).append(state[\"2back_mouse\"]).append(state[\"2back_nose\"]).append(state[\"2back_O2\"]).append(state[\"close_rest_mouse\"]).append(state[\"close_rest_nose\"]).append(state[\"close_rest_O2\"]).append(state[\"open_rest_mouse\"]).append(state[\"open_rest_nose\"]).append(state[\"open_rest_O2\"])\n",
    "       \n",
    "       \n",
    "      }\n",
    "\n",
    "ds_test = {\"1back_mouse\":state[\"1back_mouse\"], \n",
    "       \"1back_nose\":state[\"1back_nose\"],\n",
    "       \"1back_O2\":state[\"1back_O2\"],\n",
    "       \"1back_m_n\":state[\"1back_mouse\"].append(state[\"1back_nose\"]),\n",
    "       \"1back\":state[\"1back_mouse\"].append(state[\"1back_nose\"]).append(state[\"1back_O2\"]),\n",
    "       \n",
    "                                               \n",
    "       \"2back_mouse\":state[\"2back_mouse\"],\n",
    "       \"2back_nose\":state[\"2back_nose\"],\n",
    "       \"2back_O2\":state[\"2back_O2\"],\n",
    "       \"2back_m_n\":state[\"2back_mouse\"].append(state[\"2back_nose\"]),\n",
    "       \"2back\":state[\"2back_mouse\"].append(state[\"2back_nose\"]).append(state[\"2back_O2\"]),\n",
    "       \n",
    "       \"close_rest_mouse\":state[\"close_rest_mouse\"], \n",
    "       \"close_rest_nose\":state[\"close_rest_nose\"],\n",
    "       \"close_rest_O2\":state[\"close_rest_O2\"],\n",
    "       \"close_rest_m_n\":state[\"close_rest_mouse\"].append(state[\"close_rest_nose\"]),\n",
    "       \"close_rest\":state[\"close_rest_mouse\"].append(state[\"close_rest_nose\"]).append(state[\"close_rest_O2\"]),\n",
    "       \n",
    "       \"open_rest_mouse\":state[\"open_rest_mouse\"],\n",
    "       \"open_rest_nose\":state[\"open_rest_nose\"],\n",
    "       \"open_rest_O2\":state[\"open_rest_O2\"],\n",
    "       \"open_rest_m_n\":state[\"open_rest_mouse\"].append(state[\"open_rest_nose\"]),\n",
    "       \"open_rest\":state[\"open_rest_mouse\"].append(state[\"open_rest_nose\"]).append(state[\"open_rest_O2\"]),\n",
    "           \n",
    "                 ## open+close rest m_n\n",
    "          \"rest_m_n\":state[\"open_rest_mouse\"].append(state[\"open_rest_nose\"]).append(state[\"close_rest_mouse\"]).append(state[\"close_rest_nose\"]),        \n",
    "       \"total_mouse\" : state[\"1back_mouse\"].append(state[\"2back_mouse\"]).append(state[\"close_rest_mouse\"]).append(state[\"open_rest_mouse\"]),\n",
    "        \"total_nose\" : state[\"1back_nose\"].append(state[\"2back_nose\"]).append(state[\"close_rest_nose\"]).append(state[\"open_rest_nose\"]),\n",
    "       \"total_O2\" : state[\"1back_O2\"].append(state[\"2back_O2\"]).append(state[\"close_rest_O2\"]).append(state[\"open_rest_O2\"]),\n",
    "       \"total_m_n\": state[\"1back_mouse\"].append(state[\"1back_nose\"]).append(state[\"2back_mouse\"]).append(state[\"2back_nose\"]).append(state[\"close_rest_mouse\"]).append(state[\"close_rest_nose\"]).append(state[\"open_rest_mouse\"]).append(state[\"open_rest_nose\"]),\n",
    "        \"total\": state[\"1back_mouse\"].append(state[\"1back_nose\"]).append(state[\"1back_O2\"]).append(state[\"2back_mouse\"]).append(state[\"2back_nose\"]).append(state[\"2back_O2\"]).append(state[\"close_rest_mouse\"]).append(state[\"close_rest_nose\"]).append(state[\"close_rest_O2\"]).append(state[\"open_rest_mouse\"]).append(state[\"open_rest_nose\"]).append(state[\"open_rest_O2\"])\n",
    "\n",
    "       }\n",
    "\n",
    "\n"
   ]
  },
  {
   "cell_type": "markdown",
   "metadata": {},
   "source": [
    "# single label task"
   ]
  },
  {
   "cell_type": "code",
   "execution_count": 11,
   "metadata": {},
   "outputs": [
    {
     "data": {
      "image/png": "[encoded data removed]",
      "text/plain": [
       "<Figure size 432x288 with 1 Axes>"
      ]
     },
     "metadata": {
      "needs_background": "light"
     },
     "output_type": "display_data"
    }
   ],
   "source": [
    "test_class=['close_rest_O2','open_rest_O2','1back_O2','2back_O2']\n",
    "fpr={}\n",
    "tpr={}\n",
    "rou_auc= {}\n",
    "\n",
    "train_3 = ds_train['close_rest_m_n']\n",
    "test_3  = ds_test['close_rest_m_n']\n",
    "        \n",
    "X = np.array(train_3.iloc[:,0:-2])\n",
    "Y = np.array(train_3['target'])\n",
    "    \n",
    "\n",
    "rnd_clf = RandomForestClassifier(n_estimators=1000, n_jobs=-1)\n",
    "\n",
    "skf = StratifiedKFold(n_splits=10, shuffle=True)\n",
    "skf.get_n_splits(X,Y)\n",
    "\n",
    "for train_index, test_index in skf.split(X,Y):\n",
    "    X_final = X\n",
    "    lda = LinearDiscriminantAnalysis(n_components=1) \n",
    "    lda.fit(X,Y)\n",
    "    X_final = lda.transform(X)\n",
    "\n",
    "rnd_clf.fit(X_final[train_index], Y[train_index])\n",
    "\n",
    "#test = np.array(test_3.iloc[:,0:-2])\n",
    "#y_test = np.array(test_3['target'])\n",
    "\n",
    "#test_lda = lda.transform(test)\n",
    "#y = rnd_clf.predict(test_lda)                  \n",
    "            \n",
    "y_score = cross_val_predict(rnd_clf, X_final, Y, cv=3,\n",
    "                                    method=\"predict_proba\")\n",
    "#y_score = rnd_clf.predict_proba(y)\n",
    "\n",
    "y_score=y_score[:,1]\n",
    "\n",
    "fpr, tpr, threshold = roc_curve(Y,y_score)\n",
    "roc_auc=roc_auc_score(Y,y_score)\n",
    "\n",
    "plt.plot(fpr, tpr, color='aqua', label='{} (area = {})'''.format('close_rest_O2', roc_auc))\n",
    "plt.plot([0, 1], [0, 1], 'k--')\n",
    "plt.xlim([0.0, 1.0])\n",
    "plt.ylim([0.0, 1.05])\n",
    "plt.xlabel('False Positive Rate')\n",
    "plt.ylabel('True Positive Rate')\n",
    "plt.legend(loc=\"lower right\")\n",
    "plt.savefig('EEG_ROC.png', dpi=300)\n",
    "plt.show()"
   ]
  },
  {
   "cell_type": "code",
   "execution_count": 27,
   "metadata": {},
   "outputs": [
    {
     "data": {
      "text/plain": [
       "(36,)"
      ]
     },
     "execution_count": 27,
     "metadata": {},
     "output_type": "execute_result"
    }
   ],
   "source": [
    "Y[train_index].shape"
   ]
  },
  {
   "cell_type": "markdown",
   "metadata": {},
   "source": [
    "-------------------"
   ]
  },
  {
   "cell_type": "code",
   "execution_count": 29,
   "metadata": {},
   "outputs": [],
   "source": [
    "\n",
    "def eeg_roc(tasks, k_parameter, num_iter):\n",
    "\n",
    "    fpr=dict()\n",
    "    tpr=dict()\n",
    "    rou_auc= dict()\n",
    "    \n",
    "    rnd_clf = RandomForestClassifier(n_estimators=1000, n_jobs=-1)\n",
    "    skf = StratifiedKFold(n_splits=k_parameter, shuffle=True)\n",
    "    lda = LinearDiscriminantAnalysis(n_components=1)\n",
    "    \n",
    "    for i, rtask in enumerate(tasks1):\n",
    "        task_train,task_test=rtask\n",
    "        train_3 = ds_train[task_train]\n",
    "        test_3  = ds_test[task_test]\n",
    "        \n",
    "        X = np.array(train_3.iloc[:,0:-1])\n",
    "        Y = np.array(train_3['target'])\n",
    "        \n",
    "        for idx in range(num_iter):\n",
    "            skf.get_n_splits(X,Y)\n",
    "\n",
    "            for train_index, test_index in skf.split(X,Y):\n",
    "                X_final = X \n",
    "                lda.fit(X,Y)\n",
    "                X_final = lda.transform(X)\n",
    "                \n",
    "        rnd_clf.fit(X_final[train_index], Y[train_index])\n",
    "                \n",
    "        y_score = cross_val_predict(rnd_clf, X_final, Y, cv=3, method=\"predict_proba\")\n",
    "        y_score=y_score[:,1]\n",
    "                \n",
    "        fpr, tpr, _ = roc_curve(Y,y_score)\n",
    "        roc_auc=roc_auc_score(Y,y_score)\n",
    "                   \n",
    "        plt.plot(fpr, tpr, color=np.random.rand(3,), label='{} (area = {})'''.format(task_test, roc_auc))\n",
    "\n",
    "    plt.plot([0, 1], [0, 1], 'k--')\n",
    "    plt.xlim([0.0, 1.0])\n",
    "    plt.ylim([0.0, 1.05])\n",
    "    plt.xlabel('False Positive Rate')\n",
    "    plt.ylabel('True Positive Rate')\n",
    "    plt.legend(loc=\"lower right\")\n",
    "    plt.savefig('EEG_ROC.png', dpi=300)\n",
    "    plt.show()\n",
    "    \n",
    "    return plt"
   ]
  },
  {
   "cell_type": "code",
   "execution_count": 30,
   "metadata": {},
   "outputs": [
    {
     "data": {
      "image/png": "[encoded data removed]",
      "text/plain": [
       "<Figure size 432x288 with 1 Axes>"
      ]
     },
     "metadata": {
      "needs_background": "light"
     },
     "output_type": "display_data"
    },
    {
     "data": {
      "text/plain": [
       "<module 'matplotlib.pylab' from 'C:\\\\Users\\\\whbom\\\\Anaconda3\\\\lib\\\\site-packages\\\\matplotlib\\\\pylab.py'>"
      ]
     },
     "execution_count": 30,
     "metadata": {},
     "output_type": "execute_result"
    }
   ],
   "source": [
    "tasks1 = [\n",
    "    ('close_rest_m_n','close_rest_m_n')\n",
    " ]\n",
    "\n",
    "eeg_roc(tasks1,k_parameter = 10,num_iter = 1)"
   ]
  },
  {
   "cell_type": "markdown",
   "metadata": {},
   "source": [
    "--------"
   ]
  },
  {
   "cell_type": "markdown",
   "metadata": {},
   "source": [
    "# confusion matrix"
   ]
  },
  {
   "cell_type": "code",
   "execution_count": 178,
   "metadata": {},
   "outputs": [
    {
     "name": "stdout",
     "output_type": "stream",
     "text": [
      "time : 0.3333122730255127\n"
     ]
    },
    {
     "data": {
      "text/plain": [
       "array([[12,  8],\n",
       "       [ 0,  0]], dtype=int64)"
      ]
     },
     "execution_count": 178,
     "metadata": {},
     "output_type": "execute_result"
    }
   ],
   "source": [
    "from time import time\n",
    "from sklearn.metrics import confusion_matrix\n",
    "start = time()\n",
    "\n",
    "test = np.array(test_3.iloc[:,0:-2])\n",
    "y = np.array(test_3['target'])\n",
    "y_test= np.zeros(y.shape)\n",
    "\n",
    "test_lda = lda.transform(test)\n",
    "\n",
    "y_score = rnd_clf.predict_proba(test_lda)\n",
    "y_score=y_score[:,1]\n",
    "\n",
    "print(\"time :\", time() - start)  # 현재시각 - 시작시간 = 실행 시간\n",
    "conf_mx = confusion_matrix(y_test,y_score)\n",
    "conf_mx"
   ]
  },
  {
   "cell_type": "code",
   "execution_count": 179,
   "metadata": {},
   "outputs": [],
   "source": [
    "def plot_confusion_matrix(matrix):\n",
    "    \"\"\"If you prefer color and a colorbar\"\"\"\n",
    "    fig = plt.figure(figsize=(8,8))\n",
    "    ax = fig.add_subplot(111)\n",
    "    cax = ax.matshow(matrix)\n",
    "    fig.colorbar(cax)"
   ]
  },
  {
   "cell_type": "code",
   "execution_count": 180,
   "metadata": {},
   "outputs": [
    {
     "data": {
      "image/png": "[encoded data removed]",
      "text/plain": [
       "<Figure size 576x576 with 2 Axes>"
      ]
     },
     "metadata": {
      "needs_background": "light"
     },
     "output_type": "display_data"
    }
   ],
   "source": [
    "#plt.matshow(conf_mx, cmap=plt.cm.gray)\n",
    "plot_confusion_matrix(conf_mx)\n",
    "#save_fig(\"confusion_matrix_plot\", tight_layout=False)\n",
    "plt.show()"
   ]
  },
  {
   "cell_type": "markdown",
   "metadata": {},
   "source": [
    "--------------\n"
   ]
  },
  {
   "cell_type": "code",
   "execution_count": null,
   "metadata": {},
   "outputs": [],
   "source": []
  }
 ],
 "metadata": {
  "kernelspec": {
   "display_name": "Python 3",
   "language": "python",
   "name": "python3"
  },
  "language_info": {
   "codemirror_mode": {
    "name": "ipython",
    "version": 3
   },
   "file_extension": ".py",
   "mimetype": "text/x-python",
   "name": "python",
   "nbconvert_exporter": "python",
   "pygments_lexer": "ipython3",
   "version": "3.7.6"
  }
 },
 "nbformat": 4,
 "nbformat_minor": 4
}
