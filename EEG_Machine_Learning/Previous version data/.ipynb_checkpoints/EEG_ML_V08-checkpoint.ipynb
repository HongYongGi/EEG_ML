{
 "cells": [
  {
   "cell_type": "code",
   "execution_count": 1,
   "metadata": {},
   "outputs": [],
   "source": [
    "import os\n",
    "import matplotlib as mpl\n",
    "import matplotlib.pylab as plt\n",
    "import itertools\n",
    "import csv , codecs\n",
    "import glob\n",
    "from PIL import Image\n",
    "import numpy as np\n",
    "import pandas as pd\n",
    "import openpyxl\n",
    "from openpyxl import Workbook\n",
    "from openpyxl import load_workbook\n",
    "from sklearn.pipeline import Pipeline\n",
    "from sklearn.svm import SVC\n",
    "from sklearn import datasets\n",
    "from sklearn.model_selection import train_test_split\n",
    "from sklearn.utils import shuffle\n",
    "from sklearn.model_selection import KFold\n",
    "from sklearn.model_selection import StratifiedKFold\n",
    "from sklearn.pipeline import Pipeline\n",
    "from sklearn.preprocessing import StandardScaler\n",
    "from sklearn.preprocessing import MinMaxScaler\n",
    "from sklearn.model_selection import cross_val_score\n",
    "from sklearn.model_selection import GridSearchCV\n",
    "def warn(*args, **kwargs): pass\n",
    "import warnings\n",
    "warnings.warn = warn\n",
    "from sklearn import decomposition\n",
    "from sklearn.metrics import classification_report\n",
    "from sklearn.metrics import accuracy_score, log_loss\n",
    "\n"
   ]
  },
  {
   "cell_type": "code",
   "execution_count": 2,
   "metadata": {},
   "outputs": [],
   "source": [
    "data_dir = \"./EEG_data/\""
   ]
  },
  {
   "cell_type": "markdown",
   "metadata": {},
   "source": [
    "## CSV 파일 생성 함수"
   ]
  },
  {
   "cell_type": "code",
   "execution_count": 3,
   "metadata": {},
   "outputs": [],
   "source": [
    "def EEG_data_csv(data_dir):\n",
    "    \n",
    "    # Kinds of Power 입력\n",
    "    file_list = os.listdir(data_dir)\n",
    "    file_list.sort()\n",
    "       \n",
    "    global kinds_of_power\n",
    "    kinds_of_power = \"Relative\"\n",
    "    \n",
    "    excel_dir = \"./EEG_data\" + '/' + kinds_of_power\n",
    "    excel_list = sorted(glob.glob(excel_dir+'/[!~]*.xlsx'))\n",
    "    \n",
    "    # EEG_csv_data 디렉토리 생성\n",
    "    csv_dir = \"./EEG_csv_data\"\n",
    "    if not os.path.isdir(csv_dir):\n",
    "        os.mkdir(csv_dir)\n",
    "    \n",
    "    Abs_dir =\"./EEG_csv_data/Abs\"\n",
    "    Relative_dir = \"./EEG_csv_data/Relative\"\n",
    "    \n",
    "    if not os.path.isdir(Abs_dir):\n",
    "        os.mkdir(Abs_dir)\n",
    "    if not os.path.isdir(Relative_dir):\n",
    "        os.mkdir(Relative_dir)\n",
    "    \n",
    "    book = Workbook()\n",
    "    sheet = book.active\n",
    "    \n",
    "    # x축,y축 생성\n",
    "    for i in range (1,21) :\n",
    "        if i < 10 :\n",
    "            sheet['A'+str(i+1)] = 'S0'+str(i)\n",
    "        if i == 10 :\n",
    "            sheet['A'+str(i+1)] = 'S'+str(10)\n",
    "        if i > 10 :\n",
    "            sheet['A'+str(i+1)] = 'S'+str(i)\n",
    "            \n",
    "    for j in range (0,12):\n",
    "        for i in range(1,33):\n",
    "            sheet.cell(row=1, column=160*j+i+1).value = 'ACh' + str(i)\n",
    "            sheet.cell(row=1, column=160*j+i+33).value = 'BCh' + str(i)\n",
    "            sheet.cell(row=1, column=160*j+i+65).value = 'DCh' + str(i)\n",
    "            sheet.cell(row=1, column=160*j+i+97).value = 'GCh' + str(i)\n",
    "            sheet.cell(row=1, column=160*j+i+129).value = 'TCh' + str(i)\n",
    "\n",
    "    # 파일을 순차적으로 열어서 셀 영역을 복사\n",
    "    # j: 엑셀 파일의 수, k: 각 엑셀 파일 당 시트의 수, n: task의 수, l: subject의 수, m: ch1-ch32\n",
    "\n",
    "    for j in range(0,5):\n",
    "        wb = openpyxl.load_workbook(excel_list[j], data_only=True)\n",
    "        wb_sheet = wb.sheetnames\n",
    "        for k in range(0,12):\n",
    "            source = wb[wb_sheet[k]]\n",
    "            for l in range(2, 22):\n",
    "                for m in range(2, 34):\n",
    "                    sheet.cell(row=l,column=160*k+m+32*j).value = source.cell(row=l,column=m).value\n",
    "\n",
    "    # EEG_csv_data 디렉토리에 csv 파일로 저장\n",
    "    if kinds_of_power == \"Abs\":\n",
    "        with open(Abs_dir + str('/') +'Abs_Merged.csv', 'w', newline=\"\") as f:\n",
    "            c = csv.writer(f)\n",
    "            for r in sheet.rows:\n",
    "                c.writerow([cell.value for cell in r])\n",
    "    elif kinds_of_power == \"Relative\":\n",
    "        with open(Relative_dir + str('/') +'Relative_Merged.csv', 'w', newline=\"\") as f:\n",
    "            c = csv.writer(f)\n",
    "            for r in sheet.rows:\n",
    "                c.writerow([cell.value for cell in r])"
   ]
  },
  {
   "cell_type": "markdown",
   "metadata": {},
   "source": [
    "## CSV 파일에서 Pandas dataframe으로 가져오는 함수"
   ]
  },
  {
   "cell_type": "code",
   "execution_count": 4,
   "metadata": {},
   "outputs": [],
   "source": [
    "def data_setting(task, eye , respiratory):\n",
    "    # 성재가 만든 파일 불러오는 경로 입력 및 데이터 프레임으로 불러올것 \n",
    "    ##  Abs, Relative 설정은 여기서 변경하기기\n",
    "    csv_name = \"./EEG_csv_data/Abs/Abs_Merged.csv\"\n",
    "    data = pd.read_csv(csv_name) \n",
    "    data_column = data.columns\n",
    "    \n",
    "    \n",
    "    # 1 back\n",
    "    if task == 0 : \n",
    "        if respiratory == 0 :\n",
    "            data = data[data_column[1:161]]\n",
    "            # 1-back open eye mouse (alpha, beta, delta, gamma, theta   ch(32*5))\n",
    "            \n",
    "            \n",
    "            \n",
    "        elif respiratory == 1 :\n",
    "            data = data[data_column[161:321]]\n",
    "            # 1-back open eye nose (alpha, beta, delta, gamma, theta   ch(32*5))\n",
    "        elif respiratory == 2 :\n",
    "            data = data[data_column[321:481]]\n",
    "            # 1-back open eye mouse o2 (alpha, beta, delta, gamma, theta   ch(32*5))\n",
    "    # 2 back\n",
    "    elif task == 1 : \n",
    "        if respiratory == 0 :\n",
    "            data = data[data_column[481:641]]\n",
    "            # 2-back open eye mouse (alpha, beta, delta, gamma, theta   ch(32*5))\n",
    "        elif respiratory == 1 :\n",
    "            data= data[data_column[641:801]]\n",
    "            # 2-back open eye nose (alpha, beta, delta, gamma, theta   ch(32*5))\n",
    "        elif respiratory == 2 :\n",
    "            data = data[data_column[801:961]]\n",
    "            # 2-back open eye mouse o2 (alpha, beta, delta, gamma, theta   ch(32*5))\n",
    "    #resting\n",
    "    elif task == 2 :\n",
    "        ## eye ==0 close eye\n",
    "        if eye == 0 :\n",
    "            if respiratory == 0 :\n",
    "                data = data[data_column[961:1121]]\n",
    "                # resting open eye mouse (alpha, beta, delta, gamma, theta   ch(32*5))\n",
    "            elif respiratory == 1 :\n",
    "                data = data[data_column[1121:1281]]\n",
    "                # resting open eye nose (alpha, beta, delta, gamma, theta   ch(32*5))\n",
    "            elif respiratory == 2 :\n",
    "                data = data[data_column[1281:1441]]\n",
    "                # resting open eye mouse o2 (alpha, beta, delta, gamma, theta   ch(32*5))\n",
    "        ## eye ==1 open eye\n",
    "        if eye == 1 : \n",
    "            if respiratory == 0 :\n",
    "                data = data[data_column[1441:1601]]\n",
    "                # resting close eye mouse (alpha, beta, delta, gamma, theta   ch(32*5))\n",
    "            elif respiratory == 1 :\n",
    "                data = data[data_column[1601:1761]]\n",
    "                # resting close eye nose (alpha, beta, delta, gamma, theta   ch(32*5))\n",
    "            elif respiratory == 2 :\n",
    "                data = data[data_column[1761:1921]]\n",
    "                # resting close eye mouse o2 (alpha, beta, delta, gamma, theta   ch(32*5))\n",
    "\n",
    "    \n",
    "    \n",
    "    \n",
    "    \n",
    "    return data\n",
    "                \n",
    "                \n",
    "# column indexing task condition"
   ]
  },
  {
   "cell_type": "markdown",
   "metadata": {},
   "source": [
    "### task list"
   ]
  },
  {
   "cell_type": "code",
   "execution_count": 5,
   "metadata": {},
   "outputs": [
    {
     "data": {
      "text/plain": [
       "['B1_M',\n",
       " 'B1_N',\n",
       " 'B1_O2',\n",
       " 'B2_M',\n",
       " 'B2_N',\n",
       " 'B2_O2',\n",
       " 'Rest_EC_M',\n",
       " 'Rest_EC_N',\n",
       " 'Rest_EC_O2',\n",
       " 'Rest_EO_M',\n",
       " 'Rest_EO_N',\n",
       " 'Rest_EO_O2']"
      ]
     },
     "execution_count": 5,
     "metadata": {},
     "output_type": "execute_result"
    }
   ],
   "source": [
    "wb = openpyxl.load_workbook(data_dir+ str('/') +'Relative'+str('/')+'R_Alpha.xlsx')\n",
    "wb_sheet = wb.sheetnames\n",
    "wb_sheet"
   ]
  },
  {
   "cell_type": "markdown",
   "metadata": {},
   "source": [
    "### Kinds of Power 입력"
   ]
  },
  {
   "cell_type": "code",
   "execution_count": 6,
   "metadata": {},
   "outputs": [],
   "source": [
    "EEG_data_csv(data_dir)"
   ]
  },
  {
   "cell_type": "markdown",
   "metadata": {},
   "source": [
    "\n",
    "### task 0 1 2 : 1-back  2-back  rest\n",
    "\n",
    "### eye 0  1    : close eye     open eye\n",
    "\n",
    "### respiratory 0 1 2 : mouse nose o2 \n",
    "\n"
   ]
  },
  {
   "cell_type": "markdown",
   "metadata": {},
   "source": [
    "---"
   ]
  },
  {
   "cell_type": "markdown",
   "metadata": {},
   "source": [
    "### dataset 만드는 함수"
   ]
  },
  {
   "cell_type": "code",
   "execution_count": 7,
   "metadata": {},
   "outputs": [],
   "source": [
    "def dataset_csv():\n",
    "    \n",
    "    excel_dir = \"./EEG_data\" + '/' + \"Abs\"\n",
    "    excel_list = sorted(glob.glob(excel_dir+'/[!~]*.xlsx'))\n",
    "    \n",
    "    subject = int(input(\"subject :\"))\n",
    "    \n",
    "\n",
    "    book = Workbook()\n",
    "    sheet = book.active\n",
    "    sheet.cell(row=1, column=161).value = 'target'\n",
    " \n",
    "    # x축 생성   \n",
    "    for i in range(1,33):\n",
    "        sheet.cell(row=1, column=i).value = 'ACh' + str(i)\n",
    "        sheet.cell(row=1, column=i+32).value = 'BCh' + str(i)\n",
    "        sheet.cell(row=1, column=i+64).value = 'DCh' + str(i)\n",
    "        sheet.cell(row=1, column=i+96).value = 'GCh' + str(i)\n",
    "        sheet.cell(row=1, column=i+128).value = 'TCh' + str(i)\n",
    "        \n",
    "    # 파일을 순차적으로 열어서 셀 영역을 복사\n",
    "    for j in range(0,5):\n",
    "        wb = openpyxl.load_workbook(excel_list[j], data_only=True)\n",
    "        wb_sheet = wb.sheetnames\n",
    "        for k in range(0,12):\n",
    "            source = wb[wb_sheet[k]]\n",
    "            for l in range(2, 22):\n",
    "                for m in range(2, 34):\n",
    "                    sheet.cell(row=20*k+l,column=32*j+m-1).value = source.cell(row=l,column=m).value\n",
    "        \n",
    "\n",
    "    with open('./dataset_eeg.csv', 'w', newline=\"\") as f:\n",
    "        c = csv.writer(f)\n",
    "        for r in sheet.rows:\n",
    "            c.writerow([cell.value for cell in r])\n",
    "            \n",
    "    df = pd.read_csv('./dataset_eeg.csv')\n",
    "    df[df =='                      NaN'] =np.nan\n",
    "    df = df.fillna(0.0).astype('float64')\n",
    "    pd.options.mode.chained_assignment = None\n",
    "\n",
    "    df[\"target\"][0*subject:1*subject] = \"010\"\n",
    "    df[\"target\"][1*subject:2*subject] = \"011\"\n",
    "    df[\"target\"][2*subject:3*subject] = \"012\"\n",
    "\n",
    "    df[\"target\"][3*subject:4*subject] = \"110\"\n",
    "    df[\"target\"][4*subject:5*subject] = \"111\"\n",
    "    df[\"target\"][5*subject:6*subject] = \"112\"\n",
    "\n",
    "    df[\"target\"][6*subject:7*subject] = \"200\"\n",
    "    df[\"target\"][7*subject:8*subject] = \"201\"\n",
    "    df[\"target\"][8*subject:9*subject] = \"202\"\n",
    "\n",
    "    df[\"target\"][9*subject:10*subject] = \"210\"\n",
    "    df[\"target\"][10*subject:11*subject] = \"211\"\n",
    "    df[\"target\"][11*subject:12*subject] = \"212\"\n",
    "    df.astype('float64')\n",
    "    df.to_csv('./dataset_eeg.csv')\n",
    "    \n",
    "    return df\n",
    "            \n"
   ]
  },
  {
   "cell_type": "code",
   "execution_count": 8,
   "metadata": {},
   "outputs": [
    {
     "name": "stdin",
     "output_type": "stream",
     "text": [
      "subject : 20\n"
     ]
    },
    {
     "name": "stderr",
     "output_type": "stream",
     "text": [
      "C:\\Users\\hyg44\\AppData\\Local\\Continuum\\anaconda3\\lib\\site-packages\\pandas\\core\\ops.py:1649: FutureWarning: elementwise comparison failed; returning scalar instead, but in the future will perform elementwise comparison\n",
      "  result = method(y)\n"
     ]
    }
   ],
   "source": [
    "eeg_data = dataset_csv()"
   ]
  },
  {
   "cell_type": "code",
   "execution_count": 9,
   "metadata": {},
   "outputs": [
    {
     "name": "stdout",
     "output_type": "stream",
     "text": [
      "ACh1 0.006682312895434055\n",
      "ACh2 0.0067201058718746485\n",
      "ACh3 0.005918184914240986\n",
      "ACh4 0.0056721933677262755\n",
      "ACh5 0.006101145140590016\n",
      "ACh6 0.006237279955803551\n",
      "ACh7 0.006474364690829318\n",
      "ACh8 0.008696027390523896\n",
      "ACh9 0.010540705011178545\n",
      "ACh10 0.009243129974242604\n",
      "ACh11 0.005733080591584225\n",
      "ACh12 0.005581577609204521\n",
      "ACh13 0.007849750251248446\n",
      "ACh14 0.00655873833149393\n",
      "ACh15 0.006923197635197345\n",
      "ACh16 0.006493363333257855\n",
      "ACh17 0.005847260581123563\n",
      "ACh18 0.0\n",
      "ACh19 0.00610098873370753\n",
      "ACh20 0.008078312920771834\n",
      "ACh21 0.006201629692983263\n",
      "ACh22 0.0071189513897876745\n",
      "ACh23 0.006226637136091746\n",
      "ACh24 0.007275845187352107\n",
      "ACh25 0.005869491698203417\n",
      "ACh26 0.00633434992077043\n",
      "ACh27 0.006984666761307628\n",
      "ACh28 0.005267148301976687\n",
      "ACh29 0.0057122412375776215\n",
      "ACh30 0.00527778196850074\n",
      "ACh31 0.00789248404953331\n",
      "ACh32 0.00652698541780283\n",
      "BCh1 0.008226860557075567\n",
      "BCh2 0.012215095363878244\n",
      "BCh3 0.005986018761750528\n",
      "BCh4 0.0050572973029415135\n",
      "BCh5 0.007135850408678931\n",
      "BCh6 0.007637383337455028\n",
      "BCh7 0.005020570242583798\n",
      "BCh8 0.005359035825543579\n",
      "BCh9 0.005094567494225578\n",
      "BCh10 0.005874770982888031\n",
      "BCh11 0.005809270500413088\n",
      "BCh12 0.0052996505781398705\n",
      "BCh13 0.006061972385668667\n",
      "BCh14 0.005856590826580832\n",
      "BCh15 0.0050945313779512435\n",
      "BCh16 0.004797614551475094\n",
      "BCh17 0.004716589370096669\n",
      "BCh18 0.0\n",
      "BCh19 0.004442715650630167\n",
      "BCh20 0.0052394446632469515\n",
      "BCh21 0.0075855494945548125\n",
      "BCh22 0.00542497108880684\n",
      "BCh23 0.00533233946083775\n",
      "BCh24 0.006635571421580797\n",
      "BCh25 0.008052742571011386\n",
      "BCh26 0.008618514704045106\n",
      "BCh27 0.010646933768781106\n",
      "BCh28 0.004896500520472437\n",
      "BCh29 0.00439315174494789\n",
      "BCh30 0.004434301827009652\n",
      "BCh31 0.00507635770715887\n",
      "BCh32 0.004910666883271808\n",
      "DCh1 0.007068484086451347\n",
      "DCh2 0.007275970878634436\n",
      "DCh3 0.007706077292474103\n",
      "DCh4 0.007324771292520513\n",
      "DCh5 0.0066106200260402335\n",
      "DCh6 0.005952600584159707\n",
      "DCh7 0.0054874833979642835\n",
      "DCh8 0.00635036015482663\n",
      "DCh9 0.005745639718224946\n",
      "DCh10 0.005192779186624511\n",
      "DCh11 0.006589877152579702\n",
      "DCh12 0.0060294394736242814\n",
      "DCh13 0.006961611685323205\n",
      "DCh14 0.006154912457992746\n",
      "DCh15 0.006135494891973112\n",
      "DCh16 0.005814335575913083\n",
      "DCh17 0.006369885112452491\n",
      "DCh18 0.0\n",
      "DCh19 0.00580283728066136\n",
      "DCh20 0.005516887066399724\n",
      "DCh21 0.006163083832991257\n",
      "DCh22 0.006415889473919416\n",
      "DCh23 0.006020744564505804\n",
      "DCh24 0.004898998659772854\n",
      "DCh25 0.006521225094885609\n",
      "DCh26 0.007256456210738742\n",
      "DCh27 0.0085890835629479\n",
      "DCh28 0.006296161788023625\n",
      "DCh29 0.005461636753485412\n",
      "DCh30 0.00572239051235955\n",
      "DCh31 0.006336379441855557\n",
      "DCh32 0.006419678543248881\n",
      "GCh1 0.011887126867637047\n",
      "GCh2 0.015829780587104512\n",
      "GCh3 0.007077113738089996\n",
      "GCh4 0.006398362749369632\n",
      "GCh5 0.00824433747307924\n",
      "GCh6 0.007787244325397828\n",
      "GCh7 0.007752708646127157\n",
      "GCh8 0.006189900301586691\n",
      "GCh9 0.0063162066872168585\n",
      "GCh10 0.006207218277830716\n",
      "GCh11 0.006955404823396365\n",
      "GCh12 0.005812633701491477\n",
      "GCh13 0.007382266332976648\n",
      "GCh14 0.005939489420935941\n",
      "GCh15 0.0057401266050790874\n",
      "GCh16 0.005436512544593344\n",
      "GCh17 0.006048418417189796\n",
      "GCh18 0.0\n",
      "GCh19 0.004634043060112869\n",
      "GCh20 0.005789337889919577\n",
      "GCh21 0.011565525806371189\n",
      "GCh22 0.006521554624234808\n",
      "GCh23 0.006854587720546746\n",
      "GCh24 0.006329921233283581\n",
      "GCh25 0.008738564294752246\n",
      "GCh26 0.012922888181923047\n",
      "GCh27 0.015110578682389023\n",
      "GCh28 0.00833486563625554\n",
      "GCh29 0.005891033826017352\n",
      "GCh30 0.0061531417611856674\n",
      "GCh31 0.004867661682562074\n",
      "GCh32 0.005227741804880831\n",
      "TCh1 0.006335906032122754\n",
      "TCh2 0.007077669738047993\n",
      "TCh3 0.006423375770390906\n",
      "TCh4 0.005790459736015026\n",
      "TCh5 0.004952682451849306\n",
      "TCh6 0.005971783707769225\n",
      "TCh7 0.0051894979229221315\n",
      "TCh8 0.006116813168539199\n",
      "TCh9 0.005393205696225184\n",
      "TCh10 0.0051130339097815464\n",
      "TCh11 0.006160927777077107\n",
      "TCh12 0.005096352576416566\n",
      "TCh13 0.004907143410224684\n",
      "TCh14 0.005015985614334272\n",
      "TCh15 0.004891632754209459\n",
      "TCh16 0.005157298783530079\n",
      "TCh17 0.005339409479526457\n",
      "TCh18 0.0\n",
      "TCh19 0.005158488282359991\n",
      "TCh20 0.00559687373347571\n",
      "TCh21 0.005180523872981286\n",
      "TCh22 0.005211232785317685\n",
      "TCh23 0.004263137761392293\n",
      "TCh24 0.004494436992631203\n",
      "TCh25 0.006001561133788641\n",
      "TCh26 0.0060257138100161135\n",
      "TCh27 0.0071212163742362476\n",
      "TCh28 0.0062626708637592374\n",
      "TCh29 0.005107368139599286\n",
      "TCh30 0.00424518018807076\n",
      "TCh31 0.004574985585267587\n",
      "TCh32 0.004611975155387705\n"
     ]
    }
   ],
   "source": [
    "from sklearn.ensemble import RandomForestClassifier\n",
    "X = eeg_data.iloc[:,0:-1]\n",
    "X1=np.array(X)\n",
    "Y = eeg_data['target']\n",
    "Y1= np.array(Y)\n",
    "\n",
    "\n",
    "X_train, X_test, y_train, y_test = train_test_split(X1, Y1, random_state=42)\n",
    "\n",
    "rnd_clf = RandomForestClassifier(n_estimators=1000, n_jobs=-1)\n",
    "rnd_clf.fit(X_train, y_train)\n",
    "for name, score in zip(X.columns.tolist(), rnd_clf.feature_importances_):\n",
    "    print(name, score)"
   ]
  },
  {
   "cell_type": "markdown",
   "metadata": {},
   "source": [
    "---"
   ]
  },
  {
   "cell_type": "markdown",
   "metadata": {},
   "source": [
    "무작위로 선택된 수천 명의 사람에게 복잡한 질문을 하고 대답을 모으면 많은 경우 전문가의 답보다 이렇게 모은 답이 낫습니다. \n",
    "\n",
    "이를 **대중의 지혜(wisdom of crowd)** 라고 합니다.\n",
    "\n",
    "\n",
    "\n",
    "이와 비슷하게 일련의 예측기로부터 예측을 수집하면 가장 좋은 모델 하나보다 더 좋은 예측을 얻을 수 있습니다. \n",
    "\n",
    "일련의 예측기를 **앙상블(ensemble)** 이라고 부릅니다. \n",
    "\n",
    "\n",
    "Decision tree의 ensemble을 **Random Forest**라고 합니다. "
   ]
  },
  {
   "cell_type": "markdown",
   "metadata": {},
   "source": [
    "---"
   ]
  },
  {
   "cell_type": "markdown",
   "metadata": {},
   "source": [
    "\n",
    "\n",
    "###    1. 160개의 feature 중에서 Randomforest classification을 통해 Feature importance로 상위 몇 개의 feature를 선택합니다.\n",
    "\n",
    "\n",
    "###    2. 선택한 상위 feature 들을 Linear Discriminant Analysis(LDA)를 적용하여 차원 축소를 진행합니다.\n",
    "\n",
    "\n",
    "###    3. 줄어든 Dimension 상에서 RandomForest와 같은 Enseble Classification을 진행합니다. "
   ]
  },
  {
   "cell_type": "markdown",
   "metadata": {},
   "source": [
    "\n",
    "* Linear Discriminant Analysis (LDA)은 훈련과정에서 클래스 사이를 가장 잘 구분하는 축을 학습합니다. 이 축은 데이터가 투영되는 hyperplane을 정의하는데 사용할 수 있습니다.\n",
    "이 알고리즘의 장점은 projection을 통해 가능한 한 클래스를 멀리 떨어지게 유지하므로 SVM과 같은 다른 classification 알고리즘을 적용하기 전에 차원을 축소시키는데 좋습니다"
   ]
  },
  {
   "cell_type": "markdown",
   "metadata": {},
   "source": [
    " "
   ]
  },
  {
   "cell_type": "markdown",
   "metadata": {},
   "source": [
    "# Random forest classification을 사용하여 feature importance를 알아냅니다.\n"
   ]
  },
  {
   "cell_type": "code",
   "execution_count": 10,
   "metadata": {},
   "outputs": [
    {
     "data": {
      "text/plain": [
       "RandomForestClassifier(bootstrap=True, class_weight=None, criterion='gini',\n",
       "                       max_depth=None, max_features='auto', max_leaf_nodes=None,\n",
       "                       min_impurity_decrease=0.0, min_impurity_split=None,\n",
       "                       min_samples_leaf=1, min_samples_split=2,\n",
       "                       min_weight_fraction_leaf=0.0, n_estimators=1000,\n",
       "                       n_jobs=-1, oob_score=False, random_state=None, verbose=0,\n",
       "                       warm_start=False)"
      ]
     },
     "execution_count": 10,
     "metadata": {},
     "output_type": "execute_result"
    }
   ],
   "source": [
    "from sklearn.ensemble import RandomForestClassifier\n",
    "\n",
    "# channel은 feature 이름과 feature importance를 같이 담고 있는 list\n",
    "channel = []\n",
    "# choice된 top feature list\n",
    "choice_feature =[]\n",
    "\n",
    "\n",
    "#######################################################################\n",
    "#   Random forest classification을 사용하여 feature importance를 얻어냄#      \n",
    "#######################################################################\n",
    "X = eeg_data.iloc[:,0:-1]\n",
    "Y = eeg_data['target']\n",
    "X1 = np.array(eeg_data.iloc[:,0:-1])\n",
    "Y1 = np.array(eeg_data['target'])\n",
    "X_train, X_test, y_train, y_test = train_test_split(X1, Y1, random_state=42)\n",
    "\n",
    "rnd_clf = RandomForestClassifier(n_estimators=100, n_jobs=-1)\n",
    "rnd_clf.fit(X_train, y_train)"
   ]
  },
  {
   "cell_type": "code",
   "execution_count": 11,
   "metadata": {},
   "outputs": [
    {
     "data": {
      "text/plain": [
       "0.05"
      ]
     },
     "execution_count": 11,
     "metadata": {},
     "output_type": "execute_result"
    }
   ],
   "source": [
    "# feature importance를 얻어내기 위해 사용한 Randomforest의 정확도\n",
    "rnd_clf.score(X_test,y_test)"
   ]
  },
  {
   "cell_type": "markdown",
   "metadata": {},
   "source": [
    "### 얻어낸 feature importance를 이용하여 feature importances가 높은 Channel을 선택합니다."
   ]
  },
  {
   "cell_type": "markdown",
   "metadata": {},
   "source": [
    "\n",
    "\n",
    "print(\"1~155, (feature importance, 'ACh18,BCh18,DCh18,GCh18,TCh18'=0 )\")\n",
    "aa= int(input(\"top feature of number : \" ))\n",
    "feature_list= list(zip(X.columns.tolist(),rnd_clf.feature_importances_))\n",
    "feature_dict= dict(zip(X.columns.tolist(),rnd_clf.feature_importances_))\n",
    "sorted_feature = sorted(feature_dict.values(), reverse=True)\n",
    "top_feature = sorted_feature[0:aa]\n",
    "\n",
    "\n",
    "for i in range(len(feature_list)):\n",
    "    for j in range(len(top_feature)):\n",
    "        if feature_list[i][1] == top_feature[j]:\n",
    "            channel.append(feature_list[i])\n",
    "        else:\n",
    "            continue\n",
    "            \n",
    "for i in range(len(channel)):\n",
    "    choice_feature.append(channel[i][0])\n",
    "    \n",
    "#print(choice_feature)\n",
    "choice_feature_df = eeg_data[choice_feature]\n",
    "choice_feature_df.shape"
   ]
  },
  {
   "cell_type": "markdown",
   "metadata": {},
   "source": [
    "\n",
    "# Channel(feature)을 feature importance 내림차순으로 정렬합니다."
   ]
  },
  {
   "cell_type": "code",
   "execution_count": 12,
   "metadata": {},
   "outputs": [
    {
     "data": {
      "text/plain": [
       "[('Ch1', 0.037712370879731345),\n",
       " ('Ch2', 0.04896555290686935),\n",
       " ('Ch3', 0.03204292764161824),\n",
       " ('Ch4', 0.028895687532930397),\n",
       " ('Ch5', 0.03355270054764322),\n",
       " ('Ch6', 0.03356361851852558),\n",
       " ('Ch7', 0.030021543593686584),\n",
       " ('Ch8', 0.03318261730012018),\n",
       " ('Ch9', 0.03259609816338169),\n",
       " ('Ch10', 0.031805716203718755),\n",
       " ('Ch11', 0.0302723435142885),\n",
       " ('Ch12', 0.030023556456770274),\n",
       " ('Ch13', 0.031903058573287436),\n",
       " ('Ch14', 0.03015257663657637),\n",
       " ('Ch15', 0.02836427256646291),\n",
       " ('Ch16', 0.02747654794004284),\n",
       " ('Ch17', 0.02907161976421533),\n",
       " ('Ch18', 0.0),\n",
       " ('Ch19', 0.026326567172413388),\n",
       " ('Ch20', 0.03099136013294052),\n",
       " ('Ch21', 0.035608030419974075),\n",
       " ('Ch22', 0.029646076709498776),\n",
       " ('Ch23', 0.02963365053419227),\n",
       " ('Ch24', 0.02963875637446483),\n",
       " ('Ch25', 0.03484911914642461),\n",
       " ('Ch26', 0.04293390459907409),\n",
       " ('Ch27', 0.04573318746487654),\n",
       " ('Ch28', 0.031668691215146635),\n",
       " ('Ch29', 0.027771579714018085),\n",
       " ('Ch30', 0.02729845071194689),\n",
       " ('Ch31', 0.03041781365230236),\n",
       " ('Ch32', 0.027880003412857922)]"
      ]
     },
     "execution_count": 12,
     "metadata": {},
     "output_type": "execute_result"
    }
   ],
   "source": [
    "important = rnd_clf.feature_importances_\n",
    "channel_important =important[0:32]+important[32:64]+important[64:96]+important[96:128]+important[128:160]\n",
    "\n",
    "channel_list = []\n",
    "for i in range(1,len(channel_important)+1):\n",
    "    channel_list.append(\"Ch\"+str(i))\n",
    "channel_list\n",
    "\n",
    "feature_list2= list(zip(channel_list,channel_important))\n",
    "feature_list2"
   ]
  },
  {
   "cell_type": "code",
   "execution_count": 13,
   "metadata": {},
   "outputs": [
    {
     "data": {
      "text/plain": [
       "[['Ch2', 0.04896555290686935],\n",
       " ['Ch27', 0.04573318746487654],\n",
       " ['Ch26', 0.04293390459907409],\n",
       " ['Ch1', 0.037712370879731345],\n",
       " ['Ch21', 0.035608030419974075],\n",
       " ['Ch25', 0.03484911914642461],\n",
       " ['Ch6', 0.03356361851852558],\n",
       " ['Ch5', 0.03355270054764322],\n",
       " ['Ch8', 0.03318261730012018],\n",
       " ['Ch9', 0.03259609816338169],\n",
       " ['Ch3', 0.03204292764161824],\n",
       " ['Ch13', 0.031903058573287436],\n",
       " ['Ch10', 0.031805716203718755],\n",
       " ['Ch28', 0.031668691215146635],\n",
       " ['Ch20', 0.03099136013294052],\n",
       " ['Ch31', 0.03041781365230236],\n",
       " ['Ch11', 0.0302723435142885],\n",
       " ['Ch14', 0.03015257663657637],\n",
       " ['Ch12', 0.030023556456770274],\n",
       " ['Ch7', 0.030021543593686584],\n",
       " ['Ch22', 0.029646076709498776],\n",
       " ['Ch24', 0.02963875637446483],\n",
       " ['Ch23', 0.02963365053419227],\n",
       " ['Ch17', 0.02907161976421533],\n",
       " ['Ch4', 0.028895687532930397],\n",
       " ['Ch15', 0.02836427256646291],\n",
       " ['Ch32', 0.027880003412857922],\n",
       " ['Ch29', 0.027771579714018085],\n",
       " ['Ch16', 0.02747654794004284],\n",
       " ['Ch30', 0.02729845071194689],\n",
       " ['Ch19', 0.026326567172413388],\n",
       " ['Ch18', 0.0]]"
      ]
     },
     "execution_count": 13,
     "metadata": {},
     "output_type": "execute_result"
    }
   ],
   "source": [
    "sorted_channel2 = []\n",
    "reverse_channel = []\n",
    "sorting_important=[]\n",
    "for i in range(len(feature_list2)):\n",
    "    reverse_channel.append(list(reversed(feature_list2[i])))\n",
    "\n",
    "    \n",
    "\n",
    "sorted_channel2 = sorted(reverse_channel,reverse=True)\n",
    "\n",
    "for i in range(len(feature_list2)):\n",
    "    sorting_important.append(list(reversed(sorted_channel2[i])))\n",
    "    \n",
    "sorting_important"
   ]
  },
  {
   "cell_type": "code",
   "execution_count": 68,
   "metadata": {},
   "outputs": [],
   "source": [
    "def channel_select ():\n",
    "    \n",
    "    print( \"channel importance\")\n",
    "    print(\"channel num :1 ~ 32\")\n",
    "    \n",
    "    #val = []\n",
    "    \n",
    "    for i in range(len(sorting_important)):\n",
    "        #val.append(sorting_important[i][1])\n",
    "        print( sorting_important[i])\n",
    "        \n",
    "    #print(sum(val))\n",
    "    channel = int(input(\"selecting feature number : \"))\n",
    "    select_channel=sorting_important[0:channel]\n",
    "    \n",
    "    columns_name = []\n",
    "    for i in range(len(select_channel)):\n",
    "        columns_name.append(\"A\"+select_channel[i][0])\n",
    "        columns_name.append(\"B\"+select_channel[i][0])\n",
    "        columns_name.append(\"D\"+select_channel[i][0])\n",
    "        columns_name.append(\"G\"+select_channel[i][0])\n",
    "        columns_name.append(\"T\"+select_channel[i][0])\n",
    "    columns_name = sorted(columns_name)\n",
    "    df = eeg_data[columns_name]\n",
    "    return df"
   ]
  },
  {
   "cell_type": "code",
   "execution_count": 69,
   "metadata": {},
   "outputs": [
    {
     "name": "stdout",
     "output_type": "stream",
     "text": [
      "channel importance\n",
      "channel num :1 ~ 32\n",
      "['Ch2', 0.04896555290686935]\n",
      "['Ch27', 0.04573318746487654]\n",
      "['Ch26', 0.04293390459907409]\n",
      "['Ch1', 0.037712370879731345]\n",
      "['Ch21', 0.035608030419974075]\n",
      "['Ch25', 0.03484911914642461]\n",
      "['Ch6', 0.03356361851852558]\n",
      "['Ch5', 0.03355270054764322]\n",
      "['Ch8', 0.03318261730012018]\n",
      "['Ch9', 0.03259609816338169]\n",
      "['Ch3', 0.03204292764161824]\n",
      "['Ch13', 0.031903058573287436]\n",
      "['Ch10', 0.031805716203718755]\n",
      "['Ch28', 0.031668691215146635]\n",
      "['Ch20', 0.03099136013294052]\n",
      "['Ch31', 0.03041781365230236]\n",
      "['Ch11', 0.0302723435142885]\n",
      "['Ch14', 0.03015257663657637]\n",
      "['Ch12', 0.030023556456770274]\n",
      "['Ch7', 0.030021543593686584]\n",
      "['Ch22', 0.029646076709498776]\n",
      "['Ch24', 0.02963875637446483]\n",
      "['Ch23', 0.02963365053419227]\n",
      "['Ch17', 0.02907161976421533]\n",
      "['Ch4', 0.028895687532930397]\n",
      "['Ch15', 0.02836427256646291]\n",
      "['Ch32', 0.027880003412857922]\n",
      "['Ch29', 0.027771579714018085]\n",
      "['Ch16', 0.02747654794004284]\n",
      "['Ch30', 0.02729845071194689]\n",
      "['Ch19', 0.026326567172413388]\n",
      "['Ch18', 0.0]\n"
     ]
    },
    {
     "name": "stdin",
     "output_type": "stream",
     "text": [
      "selecting feature number :  1\n"
     ]
    }
   ],
   "source": [
    "data = channel_select()"
   ]
  },
  {
   "cell_type": "code",
   "execution_count": 70,
   "metadata": {},
   "outputs": [],
   "source": [
    "X2 = np.array(data.iloc[:])"
   ]
  },
  {
   "cell_type": "code",
   "execution_count": 71,
   "metadata": {},
   "outputs": [],
   "source": [
    "Y2= np.array(Y)"
   ]
  },
  {
   "cell_type": "code",
   "execution_count": 72,
   "metadata": {},
   "outputs": [
    {
     "data": {
      "text/plain": [
       "(240, 5)"
      ]
     },
     "execution_count": 72,
     "metadata": {},
     "output_type": "execute_result"
    }
   ],
   "source": [
    "X2.shape"
   ]
  },
  {
   "cell_type": "code",
   "execution_count": 73,
   "metadata": {},
   "outputs": [
    {
     "data": {
      "text/plain": [
       "(240,)"
      ]
     },
     "execution_count": 73,
     "metadata": {},
     "output_type": "execute_result"
    }
   ],
   "source": [
    "Y2.shape"
   ]
  },
  {
   "cell_type": "markdown",
   "metadata": {},
   "source": [
    "### LDA 적용후 k-fold validation으로 RandomForest진행"
   ]
  },
  {
   "cell_type": "code",
   "execution_count": 74,
   "metadata": {},
   "outputs": [
    {
     "name": "stdout",
     "output_type": "stream",
     "text": [
      "[0.0, 0.08333333333333333, 0.25, 0.125, 0.041666666666666664, 0.08333333333333333, 0.08333333333333333, 0.041666666666666664, 0.041666666666666664, 0.08333333333333333]\n"
     ]
    }
   ],
   "source": [
    "from sklearn.discriminant_analysis import LinearDiscriminantAnalysis\n",
    "from sklearn.ensemble import RandomForestClassifier\n",
    "\n",
    "skf = StratifiedKFold(n_splits=10, shuffle=True)\n",
    "skf.get_n_splits(X2,Y2)\n",
    "all_scores = []\n",
    "\n",
    "rnd_clf = RandomForestClassifier(n_estimators=100)\n",
    "lda = LinearDiscriminantAnalysis(n_components=None)\n",
    "\n",
    "lda = LinearDiscriminantAnalysis(n_components=11)\n",
    "lda.fit(X2,Y2)\n",
    "\n",
    "X_reduced_lda = lda.transform(X2)\n",
    "\n",
    "\n",
    "for train_index, test_index in skf.split(X_reduced_lda,Y2):\n",
    "    rnd_clf.fit(X_reduced_lda[train_index], Y2[train_index])\n",
    "    val_mae = rnd_clf.score(X_reduced_lda[test_index],Y2[test_index])\n",
    "    all_scores.append(val_mae)\n",
    "    \n",
    "print(all_scores)"
   ]
  },
  {
   "cell_type": "code",
   "execution_count": 75,
   "metadata": {},
   "outputs": [
    {
     "name": "stdout",
     "output_type": "stream",
     "text": [
      "8.333333333333332 %\n"
     ]
    }
   ],
   "source": [
    "print(np.mean(all_scores)*100,\"%\")"
   ]
  },
  {
   "cell_type": "code",
   "execution_count": 82,
   "metadata": {},
   "outputs": [],
   "source": [
    "def draw_graph ():\n",
    "    result = []\n",
    "    feature_num = [] \n",
    "    for i in range(1,33):\n",
    "        select_channel=sorting_important[0:i]\n",
    "        columns_name = []\n",
    "        for j in range(len(select_channel)):\n",
    "            columns_name.append(\"A\"+select_channel[j][0])\n",
    "            columns_name.append(\"B\"+select_channel[j][0])\n",
    "            columns_name.append(\"D\"+select_channel[j][0])\n",
    "            columns_name.append(\"G\"+select_channel[j][0])\n",
    "            columns_name.append(\"T\"+select_channel[j][0])\n",
    "        columns_name = sorted(columns_name)\n",
    "        df = eeg_data[columns_name]\n",
    "        X2 = np.array(df.iloc[:])\n",
    "        Y2= np.array(Y)\n",
    "        skf = StratifiedKFold(n_splits=10, shuffle=True)\n",
    "        skf.get_n_splits(X2,Y2)\n",
    "        all_scores = []\n",
    "        rnd_clf = RandomForestClassifier(n_estimators=100)\n",
    "        lda = LinearDiscriminantAnalysis(n_components=11)\n",
    "        lda.fit(X2,Y2)\n",
    "        X_reduced_lda = lda.transform(X2)\n",
    "        for train_index, test_index in skf.split(X_reduced_lda,Y2):\n",
    "            rnd_clf.fit(X_reduced_lda[train_index], Y2[train_index])\n",
    "            val_mae = rnd_clf.score(X_reduced_lda[test_index],Y2[test_index])\n",
    "            all_scores.append(val_mae)\n",
    "        result.append(np.mean(all_scores)*100)\n",
    "    for k in range (5,165,5):\n",
    "        feature_num.append(k)\n",
    "        \n",
    "    plt.figure(figsize=(11,4))\n",
    "    plt.title(\"LDA k-fold validation RandomForest \", fontsize=14)\n",
    "    plt.xlabel(\"Top_feature_number\", fontsize=14)\n",
    "    plt.ylabel(\"Accuracy\", fontsize=14)\n",
    "    plt.xlim(0,165)\n",
    "    plt.ylim(0,100)\n",
    "    plt.plot(feature_num,result)\n",
    "    plt.grid(which='both')\n",
    "    plt.show()    \n",
    "    return list(zip(feature_num, result))"
   ]
  },
  {
   "cell_type": "code",
   "execution_count": 83,
   "metadata": {},
   "outputs": [
    {
     "data": {
      "image/png": "[encoded data removed]",
      "text/plain": [
       "<Figure size 792x288 with 1 Axes>"
      ]
     },
     "metadata": {
      "needs_background": "light"
     },
     "output_type": "display_data"
    },
    {
     "data": {
      "text/plain": [
       "[(5, 5.0),\n",
       " (10, 4.166666666666666),\n",
       " (15, 8.75),\n",
       " (20, 4.166666666666667),\n",
       " (25, 11.666666666666666),\n",
       " (30, 11.666666666666666),\n",
       " (35, 18.333333333333336),\n",
       " (40, 25.83333333333333),\n",
       " (45, 31.250000000000007),\n",
       " (50, 28.749999999999996),\n",
       " (55, 32.91666666666667),\n",
       " (60, 37.916666666666664),\n",
       " (65, 45.0),\n",
       " (70, 48.33333333333334),\n",
       " (75, 55.41666666666667),\n",
       " (80, 55.833333333333336),\n",
       " (85, 60.41666666666667),\n",
       " (90, 64.16666666666667),\n",
       " (95, 67.5),\n",
       " (100, 65.41666666666667),\n",
       " (105, 70.0),\n",
       " (110, 76.25),\n",
       " (115, 75.0),\n",
       " (120, 75.0),\n",
       " (125, 79.58333333333333),\n",
       " (130, 75.0),\n",
       " (135, 80.41666666666669),\n",
       " (140, 80.41666666666666),\n",
       " (145, 82.5),\n",
       " (150, 90.83333333333334),\n",
       " (155, 90.0),\n",
       " (160, 89.16666666666666)]"
      ]
     },
     "execution_count": 83,
     "metadata": {},
     "output_type": "execute_result"
    }
   ],
   "source": [
    "draw_graph()"
   ]
  },
  {
   "cell_type": "code",
   "execution_count": null,
   "metadata": {},
   "outputs": [],
   "source": []
  }
 ],
 "metadata": {
  "kernelspec": {
   "display_name": "Python 3",
   "language": "python",
   "name": "python3"
  },
  "language_info": {
   "codemirror_mode": {
    "name": "ipython",
    "version": 3
   },
   "file_extension": ".py",
   "mimetype": "text/x-python",
   "name": "python",
   "nbconvert_exporter": "python",
   "pygments_lexer": "ipython3",
   "version": "3.7.3"
  }
 },
 "nbformat": 4,
 "nbformat_minor": 4
}
