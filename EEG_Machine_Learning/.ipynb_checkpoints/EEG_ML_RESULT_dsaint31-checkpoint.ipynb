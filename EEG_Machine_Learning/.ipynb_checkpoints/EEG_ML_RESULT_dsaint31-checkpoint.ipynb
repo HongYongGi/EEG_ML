{
  "nbformat": 4,
  "nbformat_minor": 0,
  "metadata": {
    "kernelspec": {
      "display_name": "Python 3",
      "language": "python",
      "name": "python3"
    },
    "language_info": {
      "codemirror_mode": {
        "name": "ipython",
        "version": 3
      },
      "file_extension": ".py",
      "mimetype": "text/x-python",
      "name": "python",
      "nbconvert_exporter": "python",
      "pygments_lexer": "ipython3",
      "version": "3.8.3"
    },
    "colab": {
      "name": "EEG_ML_RESULT.ipynb",
      "provenance": []
    }
  },
  "cells": [
    {
      "cell_type": "code",
      "metadata": {
        "id": "XabkmxA14qUv"
      },
      "source": [
        "import os\n",
        "import matplotlib as mpl\n",
        "import matplotlib.pylab as plt\n",
        "import itertools\n",
        "import csv , codecs\n",
        "import glob\n",
        "from PIL import Image\n",
        "import numpy as np\n",
        "import pandas as pd\n",
        "import openpyxl\n",
        "from openpyxl import Workbook\n",
        "from openpyxl import load_workbook\n",
        "from sklearn.utils import shuffle\n",
        "from sklearn.model_selection import StratifiedKFold\n",
        "def warn(*args, **kwargs): pass\n",
        "import warnings\n",
        "warnings.warn = warn\n",
        "from sklearn.ensemble import RandomForestClassifier\n",
        "from sklearn.discriminant_analysis import LinearDiscriminantAnalysis\n",
        "from sklearn.decomposition import PCA\n",
        "\n"
      ],
      "execution_count": null,
      "outputs": []
    },
    {
      "cell_type": "code",
      "metadata": {
        "id": "ah_BHBrf4qVA"
      },
      "source": [
        "data_dir = \"./EEG_data/\""
      ],
      "execution_count": null,
      "outputs": []
    },
    {
      "cell_type": "markdown",
      "metadata": {
        "id": "2YvG2UkB4qVB"
      },
      "source": [
        "## CSV 파일 생성 함수"
      ]
    },
    {
      "cell_type": "markdown",
      "metadata": {
        "id": "_7LLYvrm4qVC"
      },
      "source": [
        "\n",
        "### task 0 1 2 : 1-back,  2-back,  rest\n",
        "\n",
        "### eye 0  1    : close eye,     open eye\n",
        "\n",
        "### respiratory 0 1 2 : mouse, nose, O2 \n",
        "\n"
      ]
    },
    {
      "cell_type": "code",
      "metadata": {
        "id": "Qm6POcfq4qVC"
      },
      "source": [
        "def dataset_csv_3():\n",
        "    normalize_power = str(input(\"Relative, Abs :\"))\n",
        "    excel_dir = \"./EEG_data\" + '/' + normalize_power\n",
        "    excel_list = sorted(glob.glob(excel_dir+'/[!~]*.xlsx'))\n",
        "    \n",
        "    subject = int(input(\"subject :\"))\n",
        "    book = Workbook()\n",
        "    sheet = book.active\n",
        "    sheet.cell(row=1, column=161).value = 'target'\n",
        " \n",
        "    # x축 생성   \n",
        "    for i in range(1,33):\n",
        "        sheet.cell(row=1, column=i).value = 'ACh' + str(i)\n",
        "        sheet.cell(row=1, column=i+32).value = 'BCh' + str(i)\n",
        "        sheet.cell(row=1, column=i+64).value = 'DCh' + str(i)\n",
        "        sheet.cell(row=1, column=i+96).value = 'GCh' + str(i)\n",
        "        sheet.cell(row=1, column=i+128).value = 'TCh' + str(i)\n",
        "        \n",
        "    # 파일을 순차적으로 열어서 셀 영역을 복사\n",
        "    for j in range(0,5):\n",
        "        wb = openpyxl.load_workbook(excel_list[j], data_only=True)\n",
        "        wb_sheet = wb.sheetnames\n",
        "        for k in range(0,12):\n",
        "            source = wb[wb_sheet[k]]\n",
        "            for l in range(2, 22):\n",
        "                for m in range(2, 34):\n",
        "                    sheet.cell(row=20*k+l,column=32*j+m-1).value = source.cell(row=l,column=m).value\n",
        "        \n",
        "\n",
        "    with open('./dataset_eeg_3.csv', 'w', newline=\"\") as f:\n",
        "        c = csv.writer(f)\n",
        "        for r in sheet.rows:\n",
        "            c.writerow([cell.value for cell in r])\n",
        "            \n",
        "    df = pd.read_csv('./dataset_eeg_3.csv')\n",
        "    df[df =='                      NaN'] =np.nan\n",
        "    df = df.fillna(0.0).astype('float64')\n",
        "    pd.options.mode.chained_assignment = None\n",
        "#1-back mouse, nose, o2\n",
        "    df[\"target\"][0*subject:1*subject] = \"0\" #0:20\n",
        "    df[\"target\"][1*subject:2*subject] = \"1\" #21:40\n",
        "    df[\"target\"][2*subject:3*subject] = \"2\" #41:60\n",
        "#2-back mouse, nose, o2\n",
        "    df[\"target\"][3*subject:4*subject] = \"0\" #60:80\n",
        "    df[\"target\"][4*subject:5*subject] = \"1\" #80:100\n",
        "    df[\"target\"][5*subject:6*subject] = \"2\" #100:120\n",
        "#rest close eye mouse, nose, o2\n",
        "    df[\"target\"][6*subject:7*subject] = \"0\" #120:140\n",
        "    df[\"target\"][7*subject:8*subject] = \"1\" #140:160\n",
        "    df[\"target\"][8*subject:9*subject] = \"2\" #160:180\n",
        "#rest open eye mouse, nose, o2\n",
        "    df[\"target\"][9*subject:10*subject] = \"0\" #180:200\n",
        "    df[\"target\"][10*subject:11*subject] = \"1\" #200:220\n",
        "    df[\"target\"][11*subject:12*subject] = \"2\" #220:240\n",
        "    df.astype('float64')\n",
        "    df.to_csv('./dataset_eeg_3.csv')\n",
        "    \n",
        "    return df\n",
        "            \n"
      ],
      "execution_count": null,
      "outputs": []
    },
    {
      "cell_type": "code",
      "metadata": {
        "id": "Q3IC7Bge4qVE",
        "outputId": "ef5645e5-c1e6-4aaf-8565-e94752f7e5d9"
      },
      "source": [
        "eeg_data_3 = dataset_csv_3()"
      ],
      "execution_count": null,
      "outputs": [
        {
          "output_type": "stream",
          "text": [
            "Relative, Abs : Relative\n",
            "subject : 20\n"
          ],
          "name": "stdin"
        },
        {
          "output_type": "stream",
          "text": [
            "C:\\Users\\hyg44\\Anaconda3\\lib\\site-packages\\pandas\\core\\ops\\__init__.py:1115: FutureWarning: elementwise comparison failed; returning scalar instead, but in the future will perform elementwise comparison\n",
            "  result = method(y)\n"
          ],
          "name": "stderr"
        }
      ]
    },
    {
      "cell_type": "markdown",
      "metadata": {
        "id": "oXxzsPMj4qVG"
      },
      "source": [
        " "
      ]
    },
    {
      "cell_type": "code",
      "metadata": {
        "id": "q1iw8XQw4qVG"
      },
      "source": [
        "state={}\n",
        "\n",
        "state[\"1back_mouse\"]=eeg_data_3.iloc[0:20]\n",
        "state[\"1back_nose\"]=eeg_data_3.iloc[20:40]\n",
        "state[\"1back_O2\"]=eeg_data_3.iloc[40:60]\n",
        "\n",
        "state[\"2back_mouse\"]=eeg_data_3.iloc[60:80]\n",
        "state[\"2back_nose\"]=eeg_data_3.iloc[80:100]\n",
        "state[\"2back_O2\"]=eeg_data_3.iloc[100:120]\n",
        "\n",
        "state[\"close_rest_mouse\"]=eeg_data_3.iloc[120:140]\n",
        "state[\"close_rest_nose\"]=eeg_data_3.iloc[140:160]\n",
        "state[\"close_rest_O2\"]=eeg_data_3.iloc[160:180]\n",
        "\n",
        "state[\"open_rest_mouse\"]=eeg_data_3.iloc[180:200]\n",
        "state[\"open_rest_nose\"]=eeg_data_3.iloc[200:220]\n",
        "state[\"open_rest_O2\"]=eeg_data_3.iloc[220:240]"
      ],
      "execution_count": null,
      "outputs": []
    },
    {
      "cell_type": "code",
      "metadata": {
        "id": "JQiLLamv4qVH"
      },
      "source": [
        "ds_train = {}\n",
        "ds_test = {}\n",
        "\n",
        "\n",
        "ds_train={\"1back_mouse\":state[\"1back_mouse\"], \n",
        "       \"1back_nose\":state[\"1back_nose\"],\n",
        "       \"1back_O2\":state[\"1back_O2\"],\n",
        "       \"1back_m_n\":state[\"1back_mouse\"].append(state[\"1back_nose\"]),\n",
        "       \"1back\":state[\"1back_mouse\"].append(state[\"1back_nose\"]).append(state[\"1back_O2\"]),\n",
        "       \n",
        "                                               \n",
        "       \"2back_mouse\":state[\"2back_mouse\"],\n",
        "       \"2back_nose\":state[\"2back_nose\"],\n",
        "       \"2back_O2\":state[\"2back_O2\"],\n",
        "       \"2back_m_n\":state[\"2back_mouse\"].append(state[\"2back_nose\"]),\n",
        "       \"2back\":state[\"2back_mouse\"].append(state[\"2back_nose\"]).append(state[\"2back_O2\"]),\n",
        "       \n",
        "       \"close_rest_mouse\":state[\"close_rest_mouse\"], \n",
        "       \"close_rest_nose\":state[\"close_rest_nose\"],\n",
        "       \"close_rest_O2\":state[\"close_rest_O2\"],\n",
        "       \"close_rest_m_n\":state[\"close_rest_mouse\"].append(state[\"close_rest_nose\"]),\n",
        "       \"close_rest\":state[\"close_rest_mouse\"].append(state[\"close_rest_nose\"]).append(state[\"close_rest_O2\"]),\n",
        "       \n",
        "       \"open_rest_mouse\":state[\"open_rest_mouse\"],\n",
        "       \"open_rest_nose\":state[\"open_rest_nose\"],\n",
        "       \"open_rest_O2\":state[\"open_rest_O2\"],\n",
        "       \"open_rest_m_n\":state[\"open_rest_mouse\"].append(state[\"open_rest_nose\"]),\n",
        "       \"open_rest\":state[\"open_rest_mouse\"].append(state[\"open_rest_nose\"]).append(state[\"open_rest_O2\"]),\n",
        "       \n",
        "       \n",
        "       \"total_mouse\" : state[\"1back_mouse\"].append(state[\"2back_mouse\"]).append(state[\"close_rest_mouse\"]).append(state[\"open_rest_mouse\"]),\n",
        "       \"total_nose\" : state[\"1back_nose\"].append(state[\"2back_nose\"]).append(state[\"close_rest_nose\"]).append(state[\"open_rest_nose\"]),\n",
        "       \"total_O2\" : state[\"1back_O2\"].append(state[\"2back_O2\"]).append(state[\"close_rest_O2\"]).append(state[\"open_rest_O2\"]),\n",
        "       \"total_m_n\": state[\"1back_mouse\"].append(state[\"1back_nose\"]).append(state[\"2back_mouse\"]).append(state[\"2back_nose\"]).append(state[\"close_rest_mouse\"]).append(state[\"close_rest_nose\"]).append(state[\"open_rest_mouse\"]).append(state[\"open_rest_nose\"]),\n",
        "       \"total\": state[\"1back_mouse\"].append(state[\"1back_nose\"]).append(state[\"1back_O2\"]).append(state[\"2back_mouse\"]).append(state[\"2back_nose\"]).append(state[\"2back_O2\"]).append(state[\"close_rest_mouse\"]).append(state[\"close_rest_nose\"]).append(state[\"close_rest_O2\"]).append(state[\"open_rest_mouse\"]).append(state[\"open_rest_nose\"]).append(state[\"open_rest_O2\"])\n",
        "       \n",
        "       \n",
        "      }\n",
        "\n",
        "ds_test = {\"1back_mouse\":state[\"1back_mouse\"], \n",
        "       \"1back_nose\":state[\"1back_nose\"],\n",
        "       \"1back_O2\":state[\"1back_O2\"],\n",
        "       \"1back_m_n\":state[\"1back_mouse\"].append(state[\"1back_nose\"]),\n",
        "       \"1back\":state[\"1back_mouse\"].append(state[\"1back_nose\"]).append(state[\"1back_O2\"]),\n",
        "       \n",
        "                                               \n",
        "       \"2back_mouse\":state[\"2back_mouse\"],\n",
        "       \"2back_nose\":state[\"2back_nose\"],\n",
        "       \"2back_O2\":state[\"2back_O2\"],\n",
        "       \"2back_m_n\":state[\"2back_mouse\"].append(state[\"2back_nose\"]),\n",
        "       \"2back\":state[\"2back_mouse\"].append(state[\"2back_nose\"]).append(state[\"2back_O2\"]),\n",
        "       \n",
        "       \"close_rest_mouse\":state[\"close_rest_mouse\"], \n",
        "       \"close_rest_nose\":state[\"close_rest_nose\"],\n",
        "       \"close_rest_O2\":state[\"close_rest_O2\"],\n",
        "       \"close_rest_m_n\":state[\"close_rest_mouse\"].append(state[\"close_rest_nose\"]),\n",
        "       \"close_rest\":state[\"close_rest_mouse\"].append(state[\"close_rest_nose\"]).append(state[\"close_rest_O2\"]),\n",
        "       \n",
        "       \"open_rest_mouse\":state[\"open_rest_mouse\"],\n",
        "       \"open_rest_nose\":state[\"open_rest_nose\"],\n",
        "       \"open_rest_O2\":state[\"open_rest_O2\"],\n",
        "       \"open_rest_m_n\":state[\"open_rest_mouse\"].append(state[\"open_rest_nose\"]),\n",
        "       \"open_rest\":state[\"open_rest_mouse\"].append(state[\"open_rest_nose\"]).append(state[\"open_rest_O2\"]),\n",
        "        \n",
        "        \n",
        "               \n",
        "       \"total_mouse\" : state[\"1back_mouse\"].append(state[\"2back_mouse\"]).append(state[\"close_rest_mouse\"]).append(state[\"open_rest_mouse\"]),\n",
        "        \"total_nose\" : state[\"1back_nose\"].append(state[\"2back_nose\"]).append(state[\"close_rest_nose\"]).append(state[\"open_rest_nose\"]),\n",
        "       \"total_O2\" : state[\"1back_O2\"].append(state[\"2back_O2\"]).append(state[\"close_rest_O2\"]).append(state[\"open_rest_O2\"]),\n",
        "       \"total_m_n\": state[\"1back_mouse\"].append(state[\"1back_nose\"]).append(state[\"2back_mouse\"]).append(state[\"2back_nose\"]).append(state[\"close_rest_mouse\"]).append(state[\"close_rest_nose\"]).append(state[\"open_rest_mouse\"]).append(state[\"open_rest_nose\"]),\n",
        "        \"total\": state[\"1back_mouse\"].append(state[\"1back_nose\"]).append(state[\"1back_O2\"]).append(state[\"2back_mouse\"]).append(state[\"2back_nose\"]).append(state[\"2back_O2\"]).append(state[\"close_rest_mouse\"]).append(state[\"close_rest_nose\"]).append(state[\"close_rest_O2\"]).append(state[\"open_rest_mouse\"]).append(state[\"open_rest_nose\"]).append(state[\"open_rest_O2\"])\n",
        "\n",
        "       }\n",
        "\n",
        "\n"
      ],
      "execution_count": null,
      "outputs": []
    },
    {
      "cell_type": "code",
      "metadata": {
        "id": "_PLrKOH34qVI"
      },
      "source": [
        "def LDA_RF_M_N_O2 (tasks, k_parameter, num_iter):\n",
        "\n",
        "#     for mode in ['no_lda','lda']:\n",
        "    for mode in ['lda']:\n",
        "        for task_train,task_test in tasks:\n",
        "\n",
        "            print('-------------------')\n",
        "            print('training:{}/test:{}/mode:{}'.format(task_train,task_test,mode))\n",
        "            train_3 = ds_train[task_train]\n",
        "            test_3  = ds_test[task_test]\n",
        "\n",
        "            X = np.array(train_3.iloc[:,0:-1])\n",
        "            Y = np.array(train_3['target'])\n",
        "\n",
        "            rnd_clf = RandomForestClassifier(n_estimators=1000, n_jobs=-1)\n",
        "\n",
        "            all_scores = []\n",
        "            Mouse = 0\n",
        "            Nose = 0\n",
        "            for idx in range(num_iter):\n",
        "                skf = StratifiedKFold(n_splits=k_parameter, shuffle=True)\n",
        "                skf.get_n_splits(X,Y)\n",
        "\n",
        "                for train_index, test_index in skf.split(X,Y):\n",
        "\n",
        "                    X_final = X\n",
        "                    lda = LinearDiscriminantAnalysis(n_components=1)\n",
        "                    if(mode == 'lda') : \n",
        "                        lda.fit(X,Y)\n",
        "#                         X_final = X\n",
        "                        X_final = lda.transform(X)\n",
        "                    \n",
        "\n",
        "                    rnd_clf.fit(X_final[train_index], Y[train_index])\n",
        "                    val_mae = rnd_clf.score(X_final[test_index],Y[test_index])\n",
        "                    all_scores.append(val_mae)\n",
        "\n",
        "                    test = np.array(test_3.iloc[:,0:-1])\n",
        "                    if mode == 'lda':\n",
        "#                         pass\n",
        "                        test = lda.transform(test)\n",
        "\n",
        "                    aaa = rnd_clf.predict(test)\n",
        "\n",
        "                    Mouse = Mouse+np.count_nonzero(aaa=='0')\n",
        "                    Nose = Nose+ np.count_nonzero(aaa=='1')\n",
        "\n",
        "            print('model_score:{}'.format(np.mean(all_scores)))\n",
        "            print('mouse:{}({:.2}), nose:{}({:.2}) / total:{}'.format(Mouse,Mouse/(Mouse+Nose),Nose,Nose/(Mouse+Nose),(Mouse+Nose)))"
      ],
      "execution_count": null,
      "outputs": []
    },
    {
      "cell_type": "code",
      "metadata": {
        "id": "oe9G00f54qVK"
      },
      "source": [
        "def PCA_RF_M_N_O2 (tasks, k_parameter, num_iter):\n",
        "\n",
        "#     for mode in ['no_lda','lda']:\n",
        "    for mode in ['pca']:\n",
        "        for task_train,task_test in tasks:\n",
        "\n",
        "            print('-------------------')\n",
        "            print('training:{}/test:{}/mode:{}'.format(task_train,task_test,mode))\n",
        "            train_3 = ds_train[task_train]\n",
        "            test_3  = ds_test[task_test]\n",
        "\n",
        "            X = np.array(train_3.iloc[:,0:-1])\n",
        "            Y = np.array(train_3['target'])\n",
        "\n",
        "            rnd_clf = RandomForestClassifier(n_estimators=1000,max_depth= None, n_jobs=-1,class_weight=\"balanced\" )\n",
        "#             rnd_clf = RandomForestClassifier(n_estimators=1000,max_features= 160,n_jobs=-1 )\n",
        "\n",
        "            all_scores = []\n",
        "            Mouse = 0\n",
        "            Nose = 0\n",
        "            for idx in range(num_iter):\n",
        "                skf = StratifiedKFold(n_splits=k_parameter, shuffle=True)\n",
        "                skf.get_n_splits(X,Y)\n",
        "\n",
        "                for train_index, test_index in skf.split(X,Y):\n",
        "\n",
        "                    X_final = X\n",
        "                    pca = PCA(n_components=0.8)\n",
        "                    if(mode == 'pca') : \n",
        "                        pca.fit(X,Y)\n",
        "                        X_final = pca.transform(X)\n",
        "#                         X_final = X\n",
        "                    \n",
        "\n",
        "                    rnd_clf.fit(X_final[train_index], Y[train_index])\n",
        "                    val_mae = rnd_clf.score(X_final[test_index],Y[test_index])\n",
        "                    all_scores.append(val_mae)\n",
        "\n",
        "                    test = np.array(test_3.iloc[:,0:-1])\n",
        "                    if mode == 'pca':\n",
        "#                         pass\n",
        "                        test = pca.transform(test)\n",
        "\n",
        "                    aaa = rnd_clf.predict(test)\n",
        "\n",
        "                    Mouse = Mouse+np.count_nonzero(aaa=='0')\n",
        "                    Nose = Nose+ np.count_nonzero(aaa=='1')\n",
        "\n",
        "            print('model_score:{}'.format(np.mean(all_scores)))\n",
        "            print('mouse:{}({:.2}), nose:{}({:.2}) / total:{}'.format(Mouse,Mouse/(Mouse+Nose),Nose,Nose/(Mouse+Nose),(Mouse+Nose)))"
      ],
      "execution_count": null,
      "outputs": []
    },
    {
      "cell_type": "markdown",
      "metadata": {
        "id": "0W8AuLu14qVK"
      },
      "source": [
        " "
      ]
    },
    {
      "cell_type": "markdown",
      "metadata": {
        "id": "I28zm8u24qVL"
      },
      "source": [
        "# Task list\n",
        "\n",
        "        * 1back_mouse, 1back_nose, 1back_O2, 1back_m_n, 1back\n",
        "        \n",
        "        \n",
        "        * 2back_mouse, 2back_nose, 2back_O2, 2back_m_n, 2back\n",
        "        \n",
        "        \n",
        "        * close_rest_mouse, close_rest_nose, close_rest_O2, close_rest_m_n, close_rest\n",
        "        \n",
        "        \n",
        "        * open_rest_mouse, open_rest_nose, open_rest_O2, open_rest_m_n, open_rest\n",
        "        \n",
        "        * total_mouse, total_nose, total_O2, total_m_n\n",
        " \n"
      ]
    },
    {
      "cell_type": "markdown",
      "metadata": {
        "id": "Zns3X-vq4qVM"
      },
      "source": [
        "### Poster Result data"
      ]
    },
    {
      "cell_type": "code",
      "metadata": {
        "id": "-8ipIfb34qVM",
        "outputId": "c79c1687-f713-45b1-b925-0ac830a130c3"
      },
      "source": [
        "print(\"Poster Result data\")\n",
        "tasks1 = [\n",
        "    ('close_rest_m_n','close_rest_O2'),\n",
        "    ('close_rest_m_n','open_rest_O2'),\n",
        "     ('close_rest_m_n','1back_O2'),\n",
        "     ('close_rest_m_n','2back_O2'),\n",
        "\n",
        " ]\n",
        "print(\"LDA-RF\")\n",
        "LDA_RF_M_N_O2(tasks1,k_parameter = 10,num_iter = 1)\n"
      ],
      "execution_count": null,
      "outputs": [
        {
          "output_type": "stream",
          "text": [
            "Poster Result data\n",
            "LDA-RF\n",
            "-------------------\n",
            "training:close_rest_m_n/test:close_rest_O2/mode:lda\n",
            "model_score:0.925\n",
            "mouse:101(0.51), nose:99(0.49) / total:200\n",
            "-------------------\n",
            "training:close_rest_m_n/test:open_rest_O2/mode:lda\n",
            "model_score:0.9\n",
            "mouse:100(0.5), nose:100(0.5) / total:200\n",
            "-------------------\n",
            "training:close_rest_m_n/test:1back_O2/mode:lda\n",
            "model_score:0.95\n",
            "mouse:71(0.35), nose:129(0.65) / total:200\n",
            "-------------------\n",
            "training:close_rest_m_n/test:2back_O2/mode:lda\n",
            "model_score:0.95\n",
            "mouse:51(0.26), nose:149(0.74) / total:200\n"
          ],
          "name": "stdout"
        }
      ]
    },
    {
      "cell_type": "code",
      "metadata": {
        "id": "iBFltk8x4qVN",
        "outputId": "f0a6f88d-8f44-495e-8a26-429efe172d6a"
      },
      "source": [
        "tasks1 = [\n",
        "    ('close_rest_m_n','close_rest_mouse'),\n",
        "    ('close_rest_m_n','open_rest_mouse'),\n",
        "     ('close_rest_m_n','1back_mouse'),\n",
        "     ('close_rest_m_n','2back_mouse'),\n",
        "    \n",
        "    ('close_rest_m_n','close_rest_nose'),\n",
        "    ('close_rest_m_n','open_rest_nose'),\n",
        "     ('close_rest_m_n','1back_nose'),\n",
        "     ('close_rest_m_n','2back_nose'),\n",
        "\n",
        " ]\n",
        "print(\"LDA-RF\")\n",
        "LDA_RF_M_N_O2(tasks1,k_parameter = 10,num_iter = 1)\n"
      ],
      "execution_count": null,
      "outputs": [
        {
          "output_type": "stream",
          "text": [
            "LDA-RF\n",
            "-------------------\n",
            "training:close_rest_m_n/test:close_rest_mouse/mode:lda\n",
            "model_score:0.975\n",
            "mouse:200(1.0), nose:0(0.0) / total:200\n",
            "-------------------\n",
            "training:close_rest_m_n/test:open_rest_mouse/mode:lda\n",
            "model_score:0.95\n",
            "mouse:70(0.35), nose:130(0.65) / total:200\n",
            "-------------------\n",
            "training:close_rest_m_n/test:1back_mouse/mode:lda\n",
            "model_score:0.95\n",
            "mouse:61(0.3), nose:139(0.69) / total:200\n",
            "-------------------\n",
            "training:close_rest_m_n/test:2back_mouse/mode:lda\n",
            "model_score:0.95\n",
            "mouse:60(0.3), nose:140(0.7) / total:200\n",
            "-------------------\n",
            "training:close_rest_m_n/test:close_rest_nose/mode:lda\n",
            "model_score:0.95\n",
            "mouse:1(0.005), nose:199(0.99) / total:200\n",
            "-------------------\n",
            "training:close_rest_m_n/test:open_rest_nose/mode:lda\n",
            "model_score:0.925\n",
            "mouse:40(0.2), nose:160(0.8) / total:200\n",
            "-------------------\n",
            "training:close_rest_m_n/test:1back_nose/mode:lda\n",
            "model_score:0.95\n",
            "mouse:41(0.2), nose:159(0.8) / total:200\n",
            "-------------------\n",
            "training:close_rest_m_n/test:2back_nose/mode:lda\n",
            "model_score:0.925\n",
            "mouse:50(0.25), nose:150(0.75) / total:200\n"
          ],
          "name": "stdout"
        }
      ]
    },
    {
      "cell_type": "code",
      "metadata": {
        "id": "i23sBkXa4qVN",
        "outputId": "6a55b389-539d-4a34-b358-c288061c5950"
      },
      "source": [
        "  \n",
        "tasks3 = [\n",
        "    ('total_m_n','open_rest_mouse'),\n",
        "    ('total_m_n','close_rest_mouse'),\n",
        "     ('total_m_n','1back_mouse'),\n",
        "     ('total_m_n','2back_mouse'),\n",
        "    \n",
        "    \n",
        "    ('total_m_n','open_rest_nose'),\n",
        "    ('total_m_n','close_rest_nose'),\n",
        "     ('total_m_n','1back_nose'),\n",
        "     ('total_m_n','2back_nose'),\n",
        " ]\n",
        "print(\"LDA-RF\")\n",
        "LDA_RF_M_N_O2(tasks3,k_parameter = 10,num_iter = 1)\n",
        "print(\"------------------------------------------\")\n",
        "print(\"------------------------------------------\")\n",
        "print(\"------------------------------------------\")\n",
        "print(\"PCA-RF\")\n",
        "PCA_RF_M_N_O2(tasks3,k_parameter = 10,num_iter = 1)"
      ],
      "execution_count": null,
      "outputs": [
        {
          "output_type": "stream",
          "text": [
            "LDA-RF\n",
            "-------------------\n",
            "training:total_m_n/test:open_rest_mouse/mode:lda\n",
            "model_score:0.94375\n",
            "mouse:199(0.99), nose:1(0.005) / total:200\n",
            "-------------------\n",
            "training:total_m_n/test:close_rest_mouse/mode:lda\n",
            "model_score:0.94375\n",
            "mouse:198(0.99), nose:2(0.01) / total:200\n",
            "-------------------\n",
            "training:total_m_n/test:1back_mouse/mode:lda\n",
            "model_score:0.94375\n",
            "mouse:199(0.99), nose:1(0.005) / total:200\n",
            "-------------------\n",
            "training:total_m_n/test:2back_mouse/mode:lda\n",
            "model_score:0.95\n",
            "mouse:200(1.0), nose:0(0.0) / total:200\n",
            "-------------------\n",
            "training:total_m_n/test:open_rest_nose/mode:lda\n",
            "model_score:0.94375\n",
            "mouse:2(0.01), nose:198(0.99) / total:200\n",
            "-------------------\n",
            "training:total_m_n/test:close_rest_nose/mode:lda\n",
            "model_score:0.95\n",
            "mouse:1(0.005), nose:199(0.99) / total:200\n",
            "-------------------\n",
            "training:total_m_n/test:1back_nose/mode:lda\n",
            "model_score:0.94375\n",
            "mouse:1(0.005), nose:199(0.99) / total:200\n",
            "-------------------\n",
            "training:total_m_n/test:2back_nose/mode:lda\n",
            "model_score:0.94375\n",
            "mouse:0(0.0), nose:200(1.0) / total:200\n",
            "------------------------------------------\n",
            "------------------------------------------\n",
            "------------------------------------------\n",
            "PCA-RF\n",
            "-------------------\n",
            "training:total_m_n/test:open_rest_mouse/mode:pca\n",
            "model_score:0.49375\n",
            "mouse:191(0.95), nose:9(0.045) / total:200\n",
            "-------------------\n",
            "training:total_m_n/test:close_rest_mouse/mode:pca\n",
            "model_score:0.48125\n",
            "mouse:191(0.95), nose:9(0.045) / total:200\n",
            "-------------------\n",
            "training:total_m_n/test:1back_mouse/mode:pca\n",
            "model_score:0.50625\n",
            "mouse:187(0.94), nose:13(0.065) / total:200\n",
            "-------------------\n",
            "training:total_m_n/test:2back_mouse/mode:pca\n",
            "model_score:0.43125\n",
            "mouse:190(0.95), nose:10(0.05) / total:200\n",
            "-------------------\n",
            "training:total_m_n/test:open_rest_nose/mode:pca\n",
            "model_score:0.46875\n",
            "mouse:9(0.045), nose:191(0.95) / total:200\n",
            "-------------------\n",
            "training:total_m_n/test:close_rest_nose/mode:pca\n",
            "model_score:0.4375\n",
            "mouse:13(0.065), nose:187(0.94) / total:200\n",
            "-------------------\n",
            "training:total_m_n/test:1back_nose/mode:pca\n",
            "model_score:0.475\n",
            "mouse:13(0.065), nose:187(0.94) / total:200\n",
            "-------------------\n",
            "training:total_m_n/test:2back_nose/mode:pca\n",
            "model_score:0.45625\n",
            "mouse:12(0.06), nose:188(0.94) / total:200\n"
          ],
          "name": "stdout"
        }
      ]
    },
    {
      "cell_type": "code",
      "metadata": {
        "id": "OGI3BD5n4qVO",
        "outputId": "31bb8b46-8f85-4d6a-caf7-6354559ad968"
      },
      "source": [
        "tasks4 = [\n",
        "    ('open_rest_m_n', 'open_rest_O2'),\n",
        "    ('open_rest_m_n','1back_O2'),\n",
        "    ('open_rest_m_n','2back_O2'),\n",
        "    ('open_rest_m_n','close_rest_O2'),\n",
        "]\n",
        "\n",
        "print(\"LDA-RF\")\n",
        "LDA_RF_M_N_O2(tasks4,k_parameter = 10,num_iter = 1)\n",
        "print(\"------------------------------------------\")\n",
        "print(\"------------------------------------------\")\n",
        "print(\"------------------------------------------\")\n",
        "print(\"PCA-RF\")\n",
        "PCA_RF_M_N_O2(tasks4,k_parameter = 10,num_iter = 1)"
      ],
      "execution_count": null,
      "outputs": [
        {
          "output_type": "stream",
          "text": [
            "LDA-RF\n",
            "-------------------\n",
            "training:open_rest_m_n/test:open_rest_O2/mode:lda\n",
            "model_score:0.9\n",
            "mouse:119(0.59), nose:81(0.41) / total:200\n",
            "-------------------\n",
            "training:open_rest_m_n/test:1back_O2/mode:lda\n",
            "model_score:0.875\n",
            "mouse:82(0.41), nose:118(0.59) / total:200\n",
            "-------------------\n",
            "training:open_rest_m_n/test:2back_O2/mode:lda\n",
            "model_score:0.875\n",
            "mouse:70(0.35), nose:130(0.65) / total:200\n",
            "-------------------\n",
            "training:open_rest_m_n/test:close_rest_O2/mode:lda\n",
            "model_score:0.875\n",
            "mouse:158(0.79), nose:42(0.21) / total:200\n",
            "------------------------------------------\n",
            "------------------------------------------\n",
            "------------------------------------------\n",
            "PCA-RF\n",
            "-------------------\n",
            "training:open_rest_m_n/test:open_rest_O2/mode:pca\n",
            "model_score:0.3\n",
            "mouse:91(0.46), nose:109(0.55) / total:200\n",
            "-------------------\n",
            "training:open_rest_m_n/test:1back_O2/mode:pca\n",
            "model_score:0.225\n",
            "mouse:119(0.59), nose:81(0.41) / total:200\n",
            "-------------------\n",
            "training:open_rest_m_n/test:2back_O2/mode:pca\n",
            "model_score:0.325\n",
            "mouse:98(0.49), nose:102(0.51) / total:200\n",
            "-------------------\n",
            "training:open_rest_m_n/test:close_rest_O2/mode:pca\n",
            "model_score:0.2\n",
            "mouse:121(0.6), nose:79(0.4) / total:200\n"
          ],
          "name": "stdout"
        }
      ]
    },
    {
      "cell_type": "code",
      "metadata": {
        "id": "LXUB7DCJ4qVO",
        "outputId": "6764c587-d245-45f8-a04d-be7fe86de375"
      },
      "source": [
        "tasks5 = [\n",
        "    ('open_rest_m_n', 'open_rest_mouse'),\n",
        "    ('open_rest_m_n','close_rest_mouse'),\n",
        "    ('open_rest_m_n','1back_mouse'),\n",
        "    ('open_rest_m_n','2back_mouse'),\n",
        "    \n",
        "    \n",
        "    ('open_rest_m_n','open_rest_nose'),\n",
        "    ('open_rest_m_n','close_rest_nose'),\n",
        "    ('open_rest_m_n','1back_nose'),\n",
        "    ('open_rest_m_n','2back_nose'),\n",
        "]\n",
        "print(\"LDA-RF\")\n",
        "LDA_RF_M_N_O2(tasks5,k_parameter = 10,num_iter = 1)\n",
        "print(\"------------------------------------------\")\n",
        "print(\"------------------------------------------\")\n",
        "print(\"------------------------------------------\")\n",
        "print(\"PCA-RF\")\n",
        "PCA_RF_M_N_O2(tasks5,k_parameter = 10,num_iter = 1)\n"
      ],
      "execution_count": null,
      "outputs": [
        {
          "output_type": "stream",
          "text": [
            "LDA-RF\n",
            "-------------------\n",
            "training:open_rest_m_n/test:open_rest_mouse/mode:lda\n",
            "model_score:0.875\n",
            "mouse:197(0.98), nose:3(0.015) / total:200\n",
            "-------------------\n",
            "training:open_rest_m_n/test:close_rest_mouse/mode:lda\n",
            "model_score:0.875\n",
            "mouse:112(0.56), nose:88(0.44) / total:200\n",
            "-------------------\n",
            "training:open_rest_m_n/test:1back_mouse/mode:lda\n",
            "model_score:0.875\n",
            "mouse:85(0.42), nose:115(0.57) / total:200\n",
            "-------------------\n",
            "training:open_rest_m_n/test:2back_mouse/mode:lda\n",
            "model_score:0.875\n",
            "mouse:73(0.36), nose:127(0.64) / total:200\n",
            "-------------------\n",
            "training:open_rest_m_n/test:open_rest_nose/mode:lda\n",
            "model_score:0.875\n",
            "mouse:2(0.01), nose:198(0.99) / total:200\n",
            "-------------------\n",
            "training:open_rest_m_n/test:close_rest_nose/mode:lda\n",
            "model_score:0.9\n",
            "mouse:111(0.56), nose:89(0.45) / total:200\n",
            "-------------------\n",
            "training:open_rest_m_n/test:1back_nose/mode:lda\n",
            "model_score:0.875\n",
            "mouse:91(0.46), nose:109(0.55) / total:200\n",
            "-------------------\n",
            "training:open_rest_m_n/test:2back_nose/mode:lda\n",
            "model_score:0.875\n",
            "mouse:58(0.29), nose:142(0.71) / total:200\n",
            "------------------------------------------\n",
            "------------------------------------------\n",
            "------------------------------------------\n",
            "PCA-RF\n",
            "-------------------\n",
            "training:open_rest_m_n/test:open_rest_mouse/mode:pca\n",
            "model_score:0.2\n",
            "mouse:184(0.92), nose:16(0.08) / total:200\n",
            "-------------------\n",
            "training:open_rest_m_n/test:close_rest_mouse/mode:pca\n",
            "model_score:0.2\n",
            "mouse:105(0.53), nose:95(0.47) / total:200\n",
            "-------------------\n",
            "training:open_rest_m_n/test:1back_mouse/mode:pca\n",
            "model_score:0.325\n",
            "mouse:112(0.56), nose:88(0.44) / total:200\n",
            "-------------------\n",
            "training:open_rest_m_n/test:2back_mouse/mode:pca\n",
            "model_score:0.125\n",
            "mouse:101(0.51), nose:99(0.49) / total:200\n",
            "-------------------\n",
            "training:open_rest_m_n/test:open_rest_nose/mode:pca\n",
            "model_score:0.225\n",
            "mouse:16(0.08), nose:184(0.92) / total:200\n",
            "-------------------\n",
            "training:open_rest_m_n/test:close_rest_nose/mode:pca\n",
            "model_score:0.275\n",
            "mouse:85(0.42), nose:115(0.57) / total:200\n",
            "-------------------\n",
            "training:open_rest_m_n/test:1back_nose/mode:pca\n",
            "model_score:0.275\n",
            "mouse:105(0.53), nose:95(0.47) / total:200\n",
            "-------------------\n",
            "training:open_rest_m_n/test:2back_nose/mode:pca\n",
            "model_score:0.3\n",
            "mouse:99(0.49), nose:101(0.51) / total:200\n"
          ],
          "name": "stdout"
        }
      ]
    },
    {
      "cell_type": "code",
      "metadata": {
        "id": "wchxHHqy4qVO"
      },
      "source": [
        ""
      ],
      "execution_count": null,
      "outputs": []
    },
    {
      "cell_type": "code",
      "metadata": {
        "id": "C27f-BDe4qVO"
      },
      "source": [
        ""
      ],
      "execution_count": null,
      "outputs": []
    }
  ]
}