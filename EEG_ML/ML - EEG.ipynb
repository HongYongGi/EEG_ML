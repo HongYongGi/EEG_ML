{
 "cells": [
  {
   "cell_type": "code",
   "execution_count": 2,
   "metadata": {},
   "outputs": [],
   "source": [
    "import os\n",
    "import matplotlib as mpl\n",
    "import matplotlib.pylab as plt\n",
    "import csv , codecs\n",
    "import glob\n",
    "from PIL import Image\n",
    "import numpy as np\n",
    "import cv2\n",
    "import time # frame 수 계산때문에 가져온것\n",
    "import cv2\n",
    "import numpy as np\n",
    "import imutils\n",
    "import argparse\n",
    "\n"
   ]
  },
  {
   "cell_type": "code",
   "execution_count": 3,
   "metadata": {},
   "outputs": [],
   "source": [
    "data_dir = r\"C:\\Users\\BraveHong\\Documents\\GitHub\\ML_EEG_data\""
   ]
  },
  {
   "cell_type": "code",
   "execution_count": 4,
   "metadata": {
    "scrolled": true
   },
   "outputs": [
    {
     "data": {
      "text/plain": [
       "['EOG_1-back_mouth_revised',\n",
       " 'EOG_1-back_nose_revised',\n",
       " 'EOG_1-back_o2_revised',\n",
       " 'EOG_2-back_mouth_revised',\n",
       " 'EOG_2-back_nose_revised',\n",
       " 'EOG_2-back_o2_revised',\n",
       " 'EOG_resting_closed_mouth_revised',\n",
       " 'EOG_resting_closed_nose_revised',\n",
       " 'EOG_resting_closed_o2_revised',\n",
       " 'EOG_resting_open_mouth_revised',\n",
       " 'EOG_resting_open_nose_revised',\n",
       " 'EOG_resting_open_o2_revised']"
      ]
     },
     "execution_count": 4,
     "metadata": {},
     "output_type": "execute_result"
    }
   ],
   "source": [
    "file_list = os.listdir(data_dir)\n",
    "file_list.sort()\n",
    "file_list"
   ]
  },
  {
   "cell_type": "code",
   "execution_count": 5,
   "metadata": {},
   "outputs": [
    {
     "data": {
      "text/plain": [
       "12"
      ]
     },
     "execution_count": 5,
     "metadata": {},
     "output_type": "execute_result"
    }
   ],
   "source": [
    "len(file_list)"
   ]
  },
  {
   "cell_type": "code",
   "execution_count": null,
   "metadata": {},
   "outputs": [],
   "source": []
  },
  {
   "cell_type": "markdown",
   "metadata": {},
   "source": [
    "file_list를 for문으로 돌려서 한개 씩 빼서 사용하자"
   ]
  },
  {
   "cell_type": "code",
   "execution_count": 6,
   "metadata": {},
   "outputs": [
    {
     "data": {
      "text/plain": [
       "['abs_all_ratio_alpha.txt',\n",
       " 'abs_all_ratio_beta.txt',\n",
       " 'abs_all_ratio_delta.txt',\n",
       " 'abs_all_ratio_gamma.txt',\n",
       " 'abs_all_ratio_theta.txt',\n",
       " 'all_ratio_alpha.txt',\n",
       " 'all_ratio_beta.txt',\n",
       " 'all_ratio_delta.txt',\n",
       " 'all_ratio_gamma.txt',\n",
       " 'all_ratio_theta.txt']"
      ]
     },
     "execution_count": 6,
     "metadata": {},
     "output_type": "execute_result"
    }
   ],
   "source": [
    "EEG_file_list = os.listdir(data_dir+\"\\\\\"+file_list[0])\n",
    "EEG_file_list.sort()\n",
    "EEG_file_list\n"
   ]
  },
  {
   "cell_type": "markdown",
   "metadata": {},
   "source": [
    "target은 file_list로 나눈 것"
   ]
  },
  {
   "cell_type": "markdown",
   "metadata": {},
   "source": [
    "12개의 EEG 종류"
   ]
  },
  {
   "cell_type": "code",
   "execution_count": 7,
   "metadata": {},
   "outputs": [
    {
     "data": {
      "text/plain": [
       "10"
      ]
     },
     "execution_count": 7,
     "metadata": {},
     "output_type": "execute_result"
    }
   ],
   "source": [
    "len(EEG_file_list)"
   ]
  },
  {
   "cell_type": "code",
   "execution_count": 8,
   "metadata": {
    "scrolled": true
   },
   "outputs": [
    {
     "data": {
      "text/plain": [
       "'C:\\\\Users\\\\BraveHong\\\\Documents\\\\GitHub\\\\ML_EEG_data\\\\EOG_1-back_mouth_revised\\\\abs_all_ratio_alpha.txt'"
      ]
     },
     "execution_count": 8,
     "metadata": {},
     "output_type": "execute_result"
    }
   ],
   "source": [
    "text_dir = r\"C:\\Users\\BraveHong\\Documents\\GitHub\\ML_EEG_data\"+\"\\\\\"+file_list[0]+\"\\\\\"+EEG_file_list[0]\n",
    "text_dir"
   ]
  },
  {
   "cell_type": "code",
   "execution_count": null,
   "metadata": {},
   "outputs": [],
   "source": []
  },
  {
   "cell_type": "code",
   "execution_count": 9,
   "metadata": {
    "scrolled": true
   },
   "outputs": [
    {
     "data": {
      "text/plain": [
       "120"
      ]
     },
     "execution_count": 9,
     "metadata": {},
     "output_type": "execute_result"
    }
   ],
   "source": [
    "textfile_list = []\n",
    "for i in range(0,len(file_list)):\n",
    "    for j in range(0,len(EEG_file_list)):\n",
    "        text_dir = r\"C:\\Users\\BraveHong\\Documents\\GitHub\\ML_EEG_data\"+\"\\\\\"+file_list[i]+\"\\\\\"+EEG_file_list[j]\n",
    "        \n",
    "        textfile_list.append(text_dir)\n",
    "    \n",
    "    \n",
    "len(textfile_list)"
   ]
  },
  {
   "cell_type": "code",
   "execution_count": 10,
   "metadata": {
    "scrolled": true
   },
   "outputs": [
    {
     "data": {
      "text/plain": [
       "['C:\\\\Users\\\\BraveHong\\\\Documents\\\\GitHub\\\\ML_EEG_data\\\\EOG_1-back_mouth_revised\\\\abs_all_ratio_alpha.txt',\n",
       " 'C:\\\\Users\\\\BraveHong\\\\Documents\\\\GitHub\\\\ML_EEG_data\\\\EOG_1-back_mouth_revised\\\\abs_all_ratio_beta.txt',\n",
       " 'C:\\\\Users\\\\BraveHong\\\\Documents\\\\GitHub\\\\ML_EEG_data\\\\EOG_1-back_mouth_revised\\\\abs_all_ratio_delta.txt',\n",
       " 'C:\\\\Users\\\\BraveHong\\\\Documents\\\\GitHub\\\\ML_EEG_data\\\\EOG_1-back_mouth_revised\\\\abs_all_ratio_gamma.txt',\n",
       " 'C:\\\\Users\\\\BraveHong\\\\Documents\\\\GitHub\\\\ML_EEG_data\\\\EOG_1-back_mouth_revised\\\\abs_all_ratio_theta.txt',\n",
       " 'C:\\\\Users\\\\BraveHong\\\\Documents\\\\GitHub\\\\ML_EEG_data\\\\EOG_1-back_mouth_revised\\\\all_ratio_alpha.txt',\n",
       " 'C:\\\\Users\\\\BraveHong\\\\Documents\\\\GitHub\\\\ML_EEG_data\\\\EOG_1-back_mouth_revised\\\\all_ratio_beta.txt',\n",
       " 'C:\\\\Users\\\\BraveHong\\\\Documents\\\\GitHub\\\\ML_EEG_data\\\\EOG_1-back_mouth_revised\\\\all_ratio_delta.txt',\n",
       " 'C:\\\\Users\\\\BraveHong\\\\Documents\\\\GitHub\\\\ML_EEG_data\\\\EOG_1-back_mouth_revised\\\\all_ratio_gamma.txt',\n",
       " 'C:\\\\Users\\\\BraveHong\\\\Documents\\\\GitHub\\\\ML_EEG_data\\\\EOG_1-back_mouth_revised\\\\all_ratio_theta.txt',\n",
       " 'C:\\\\Users\\\\BraveHong\\\\Documents\\\\GitHub\\\\ML_EEG_data\\\\EOG_1-back_nose_revised\\\\abs_all_ratio_alpha.txt',\n",
       " 'C:\\\\Users\\\\BraveHong\\\\Documents\\\\GitHub\\\\ML_EEG_data\\\\EOG_1-back_nose_revised\\\\abs_all_ratio_beta.txt',\n",
       " 'C:\\\\Users\\\\BraveHong\\\\Documents\\\\GitHub\\\\ML_EEG_data\\\\EOG_1-back_nose_revised\\\\abs_all_ratio_delta.txt',\n",
       " 'C:\\\\Users\\\\BraveHong\\\\Documents\\\\GitHub\\\\ML_EEG_data\\\\EOG_1-back_nose_revised\\\\abs_all_ratio_gamma.txt',\n",
       " 'C:\\\\Users\\\\BraveHong\\\\Documents\\\\GitHub\\\\ML_EEG_data\\\\EOG_1-back_nose_revised\\\\abs_all_ratio_theta.txt',\n",
       " 'C:\\\\Users\\\\BraveHong\\\\Documents\\\\GitHub\\\\ML_EEG_data\\\\EOG_1-back_nose_revised\\\\all_ratio_alpha.txt',\n",
       " 'C:\\\\Users\\\\BraveHong\\\\Documents\\\\GitHub\\\\ML_EEG_data\\\\EOG_1-back_nose_revised\\\\all_ratio_beta.txt',\n",
       " 'C:\\\\Users\\\\BraveHong\\\\Documents\\\\GitHub\\\\ML_EEG_data\\\\EOG_1-back_nose_revised\\\\all_ratio_delta.txt',\n",
       " 'C:\\\\Users\\\\BraveHong\\\\Documents\\\\GitHub\\\\ML_EEG_data\\\\EOG_1-back_nose_revised\\\\all_ratio_gamma.txt',\n",
       " 'C:\\\\Users\\\\BraveHong\\\\Documents\\\\GitHub\\\\ML_EEG_data\\\\EOG_1-back_nose_revised\\\\all_ratio_theta.txt',\n",
       " 'C:\\\\Users\\\\BraveHong\\\\Documents\\\\GitHub\\\\ML_EEG_data\\\\EOG_1-back_o2_revised\\\\abs_all_ratio_alpha.txt',\n",
       " 'C:\\\\Users\\\\BraveHong\\\\Documents\\\\GitHub\\\\ML_EEG_data\\\\EOG_1-back_o2_revised\\\\abs_all_ratio_beta.txt',\n",
       " 'C:\\\\Users\\\\BraveHong\\\\Documents\\\\GitHub\\\\ML_EEG_data\\\\EOG_1-back_o2_revised\\\\abs_all_ratio_delta.txt',\n",
       " 'C:\\\\Users\\\\BraveHong\\\\Documents\\\\GitHub\\\\ML_EEG_data\\\\EOG_1-back_o2_revised\\\\abs_all_ratio_gamma.txt',\n",
       " 'C:\\\\Users\\\\BraveHong\\\\Documents\\\\GitHub\\\\ML_EEG_data\\\\EOG_1-back_o2_revised\\\\abs_all_ratio_theta.txt',\n",
       " 'C:\\\\Users\\\\BraveHong\\\\Documents\\\\GitHub\\\\ML_EEG_data\\\\EOG_1-back_o2_revised\\\\all_ratio_alpha.txt',\n",
       " 'C:\\\\Users\\\\BraveHong\\\\Documents\\\\GitHub\\\\ML_EEG_data\\\\EOG_1-back_o2_revised\\\\all_ratio_beta.txt',\n",
       " 'C:\\\\Users\\\\BraveHong\\\\Documents\\\\GitHub\\\\ML_EEG_data\\\\EOG_1-back_o2_revised\\\\all_ratio_delta.txt',\n",
       " 'C:\\\\Users\\\\BraveHong\\\\Documents\\\\GitHub\\\\ML_EEG_data\\\\EOG_1-back_o2_revised\\\\all_ratio_gamma.txt',\n",
       " 'C:\\\\Users\\\\BraveHong\\\\Documents\\\\GitHub\\\\ML_EEG_data\\\\EOG_1-back_o2_revised\\\\all_ratio_theta.txt',\n",
       " 'C:\\\\Users\\\\BraveHong\\\\Documents\\\\GitHub\\\\ML_EEG_data\\\\EOG_2-back_mouth_revised\\\\abs_all_ratio_alpha.txt',\n",
       " 'C:\\\\Users\\\\BraveHong\\\\Documents\\\\GitHub\\\\ML_EEG_data\\\\EOG_2-back_mouth_revised\\\\abs_all_ratio_beta.txt',\n",
       " 'C:\\\\Users\\\\BraveHong\\\\Documents\\\\GitHub\\\\ML_EEG_data\\\\EOG_2-back_mouth_revised\\\\abs_all_ratio_delta.txt',\n",
       " 'C:\\\\Users\\\\BraveHong\\\\Documents\\\\GitHub\\\\ML_EEG_data\\\\EOG_2-back_mouth_revised\\\\abs_all_ratio_gamma.txt',\n",
       " 'C:\\\\Users\\\\BraveHong\\\\Documents\\\\GitHub\\\\ML_EEG_data\\\\EOG_2-back_mouth_revised\\\\abs_all_ratio_theta.txt',\n",
       " 'C:\\\\Users\\\\BraveHong\\\\Documents\\\\GitHub\\\\ML_EEG_data\\\\EOG_2-back_mouth_revised\\\\all_ratio_alpha.txt',\n",
       " 'C:\\\\Users\\\\BraveHong\\\\Documents\\\\GitHub\\\\ML_EEG_data\\\\EOG_2-back_mouth_revised\\\\all_ratio_beta.txt',\n",
       " 'C:\\\\Users\\\\BraveHong\\\\Documents\\\\GitHub\\\\ML_EEG_data\\\\EOG_2-back_mouth_revised\\\\all_ratio_delta.txt',\n",
       " 'C:\\\\Users\\\\BraveHong\\\\Documents\\\\GitHub\\\\ML_EEG_data\\\\EOG_2-back_mouth_revised\\\\all_ratio_gamma.txt',\n",
       " 'C:\\\\Users\\\\BraveHong\\\\Documents\\\\GitHub\\\\ML_EEG_data\\\\EOG_2-back_mouth_revised\\\\all_ratio_theta.txt',\n",
       " 'C:\\\\Users\\\\BraveHong\\\\Documents\\\\GitHub\\\\ML_EEG_data\\\\EOG_2-back_nose_revised\\\\abs_all_ratio_alpha.txt',\n",
       " 'C:\\\\Users\\\\BraveHong\\\\Documents\\\\GitHub\\\\ML_EEG_data\\\\EOG_2-back_nose_revised\\\\abs_all_ratio_beta.txt',\n",
       " 'C:\\\\Users\\\\BraveHong\\\\Documents\\\\GitHub\\\\ML_EEG_data\\\\EOG_2-back_nose_revised\\\\abs_all_ratio_delta.txt',\n",
       " 'C:\\\\Users\\\\BraveHong\\\\Documents\\\\GitHub\\\\ML_EEG_data\\\\EOG_2-back_nose_revised\\\\abs_all_ratio_gamma.txt',\n",
       " 'C:\\\\Users\\\\BraveHong\\\\Documents\\\\GitHub\\\\ML_EEG_data\\\\EOG_2-back_nose_revised\\\\abs_all_ratio_theta.txt',\n",
       " 'C:\\\\Users\\\\BraveHong\\\\Documents\\\\GitHub\\\\ML_EEG_data\\\\EOG_2-back_nose_revised\\\\all_ratio_alpha.txt',\n",
       " 'C:\\\\Users\\\\BraveHong\\\\Documents\\\\GitHub\\\\ML_EEG_data\\\\EOG_2-back_nose_revised\\\\all_ratio_beta.txt',\n",
       " 'C:\\\\Users\\\\BraveHong\\\\Documents\\\\GitHub\\\\ML_EEG_data\\\\EOG_2-back_nose_revised\\\\all_ratio_delta.txt',\n",
       " 'C:\\\\Users\\\\BraveHong\\\\Documents\\\\GitHub\\\\ML_EEG_data\\\\EOG_2-back_nose_revised\\\\all_ratio_gamma.txt',\n",
       " 'C:\\\\Users\\\\BraveHong\\\\Documents\\\\GitHub\\\\ML_EEG_data\\\\EOG_2-back_nose_revised\\\\all_ratio_theta.txt',\n",
       " 'C:\\\\Users\\\\BraveHong\\\\Documents\\\\GitHub\\\\ML_EEG_data\\\\EOG_2-back_o2_revised\\\\abs_all_ratio_alpha.txt',\n",
       " 'C:\\\\Users\\\\BraveHong\\\\Documents\\\\GitHub\\\\ML_EEG_data\\\\EOG_2-back_o2_revised\\\\abs_all_ratio_beta.txt',\n",
       " 'C:\\\\Users\\\\BraveHong\\\\Documents\\\\GitHub\\\\ML_EEG_data\\\\EOG_2-back_o2_revised\\\\abs_all_ratio_delta.txt',\n",
       " 'C:\\\\Users\\\\BraveHong\\\\Documents\\\\GitHub\\\\ML_EEG_data\\\\EOG_2-back_o2_revised\\\\abs_all_ratio_gamma.txt',\n",
       " 'C:\\\\Users\\\\BraveHong\\\\Documents\\\\GitHub\\\\ML_EEG_data\\\\EOG_2-back_o2_revised\\\\abs_all_ratio_theta.txt',\n",
       " 'C:\\\\Users\\\\BraveHong\\\\Documents\\\\GitHub\\\\ML_EEG_data\\\\EOG_2-back_o2_revised\\\\all_ratio_alpha.txt',\n",
       " 'C:\\\\Users\\\\BraveHong\\\\Documents\\\\GitHub\\\\ML_EEG_data\\\\EOG_2-back_o2_revised\\\\all_ratio_beta.txt',\n",
       " 'C:\\\\Users\\\\BraveHong\\\\Documents\\\\GitHub\\\\ML_EEG_data\\\\EOG_2-back_o2_revised\\\\all_ratio_delta.txt',\n",
       " 'C:\\\\Users\\\\BraveHong\\\\Documents\\\\GitHub\\\\ML_EEG_data\\\\EOG_2-back_o2_revised\\\\all_ratio_gamma.txt',\n",
       " 'C:\\\\Users\\\\BraveHong\\\\Documents\\\\GitHub\\\\ML_EEG_data\\\\EOG_2-back_o2_revised\\\\all_ratio_theta.txt',\n",
       " 'C:\\\\Users\\\\BraveHong\\\\Documents\\\\GitHub\\\\ML_EEG_data\\\\EOG_resting_closed_mouth_revised\\\\abs_all_ratio_alpha.txt',\n",
       " 'C:\\\\Users\\\\BraveHong\\\\Documents\\\\GitHub\\\\ML_EEG_data\\\\EOG_resting_closed_mouth_revised\\\\abs_all_ratio_beta.txt',\n",
       " 'C:\\\\Users\\\\BraveHong\\\\Documents\\\\GitHub\\\\ML_EEG_data\\\\EOG_resting_closed_mouth_revised\\\\abs_all_ratio_delta.txt',\n",
       " 'C:\\\\Users\\\\BraveHong\\\\Documents\\\\GitHub\\\\ML_EEG_data\\\\EOG_resting_closed_mouth_revised\\\\abs_all_ratio_gamma.txt',\n",
       " 'C:\\\\Users\\\\BraveHong\\\\Documents\\\\GitHub\\\\ML_EEG_data\\\\EOG_resting_closed_mouth_revised\\\\abs_all_ratio_theta.txt',\n",
       " 'C:\\\\Users\\\\BraveHong\\\\Documents\\\\GitHub\\\\ML_EEG_data\\\\EOG_resting_closed_mouth_revised\\\\all_ratio_alpha.txt',\n",
       " 'C:\\\\Users\\\\BraveHong\\\\Documents\\\\GitHub\\\\ML_EEG_data\\\\EOG_resting_closed_mouth_revised\\\\all_ratio_beta.txt',\n",
       " 'C:\\\\Users\\\\BraveHong\\\\Documents\\\\GitHub\\\\ML_EEG_data\\\\EOG_resting_closed_mouth_revised\\\\all_ratio_delta.txt',\n",
       " 'C:\\\\Users\\\\BraveHong\\\\Documents\\\\GitHub\\\\ML_EEG_data\\\\EOG_resting_closed_mouth_revised\\\\all_ratio_gamma.txt',\n",
       " 'C:\\\\Users\\\\BraveHong\\\\Documents\\\\GitHub\\\\ML_EEG_data\\\\EOG_resting_closed_mouth_revised\\\\all_ratio_theta.txt',\n",
       " 'C:\\\\Users\\\\BraveHong\\\\Documents\\\\GitHub\\\\ML_EEG_data\\\\EOG_resting_closed_nose_revised\\\\abs_all_ratio_alpha.txt',\n",
       " 'C:\\\\Users\\\\BraveHong\\\\Documents\\\\GitHub\\\\ML_EEG_data\\\\EOG_resting_closed_nose_revised\\\\abs_all_ratio_beta.txt',\n",
       " 'C:\\\\Users\\\\BraveHong\\\\Documents\\\\GitHub\\\\ML_EEG_data\\\\EOG_resting_closed_nose_revised\\\\abs_all_ratio_delta.txt',\n",
       " 'C:\\\\Users\\\\BraveHong\\\\Documents\\\\GitHub\\\\ML_EEG_data\\\\EOG_resting_closed_nose_revised\\\\abs_all_ratio_gamma.txt',\n",
       " 'C:\\\\Users\\\\BraveHong\\\\Documents\\\\GitHub\\\\ML_EEG_data\\\\EOG_resting_closed_nose_revised\\\\abs_all_ratio_theta.txt',\n",
       " 'C:\\\\Users\\\\BraveHong\\\\Documents\\\\GitHub\\\\ML_EEG_data\\\\EOG_resting_closed_nose_revised\\\\all_ratio_alpha.txt',\n",
       " 'C:\\\\Users\\\\BraveHong\\\\Documents\\\\GitHub\\\\ML_EEG_data\\\\EOG_resting_closed_nose_revised\\\\all_ratio_beta.txt',\n",
       " 'C:\\\\Users\\\\BraveHong\\\\Documents\\\\GitHub\\\\ML_EEG_data\\\\EOG_resting_closed_nose_revised\\\\all_ratio_delta.txt',\n",
       " 'C:\\\\Users\\\\BraveHong\\\\Documents\\\\GitHub\\\\ML_EEG_data\\\\EOG_resting_closed_nose_revised\\\\all_ratio_gamma.txt',\n",
       " 'C:\\\\Users\\\\BraveHong\\\\Documents\\\\GitHub\\\\ML_EEG_data\\\\EOG_resting_closed_nose_revised\\\\all_ratio_theta.txt',\n",
       " 'C:\\\\Users\\\\BraveHong\\\\Documents\\\\GitHub\\\\ML_EEG_data\\\\EOG_resting_closed_o2_revised\\\\abs_all_ratio_alpha.txt',\n",
       " 'C:\\\\Users\\\\BraveHong\\\\Documents\\\\GitHub\\\\ML_EEG_data\\\\EOG_resting_closed_o2_revised\\\\abs_all_ratio_beta.txt',\n",
       " 'C:\\\\Users\\\\BraveHong\\\\Documents\\\\GitHub\\\\ML_EEG_data\\\\EOG_resting_closed_o2_revised\\\\abs_all_ratio_delta.txt',\n",
       " 'C:\\\\Users\\\\BraveHong\\\\Documents\\\\GitHub\\\\ML_EEG_data\\\\EOG_resting_closed_o2_revised\\\\abs_all_ratio_gamma.txt',\n",
       " 'C:\\\\Users\\\\BraveHong\\\\Documents\\\\GitHub\\\\ML_EEG_data\\\\EOG_resting_closed_o2_revised\\\\abs_all_ratio_theta.txt',\n",
       " 'C:\\\\Users\\\\BraveHong\\\\Documents\\\\GitHub\\\\ML_EEG_data\\\\EOG_resting_closed_o2_revised\\\\all_ratio_alpha.txt',\n",
       " 'C:\\\\Users\\\\BraveHong\\\\Documents\\\\GitHub\\\\ML_EEG_data\\\\EOG_resting_closed_o2_revised\\\\all_ratio_beta.txt',\n",
       " 'C:\\\\Users\\\\BraveHong\\\\Documents\\\\GitHub\\\\ML_EEG_data\\\\EOG_resting_closed_o2_revised\\\\all_ratio_delta.txt',\n",
       " 'C:\\\\Users\\\\BraveHong\\\\Documents\\\\GitHub\\\\ML_EEG_data\\\\EOG_resting_closed_o2_revised\\\\all_ratio_gamma.txt',\n",
       " 'C:\\\\Users\\\\BraveHong\\\\Documents\\\\GitHub\\\\ML_EEG_data\\\\EOG_resting_closed_o2_revised\\\\all_ratio_theta.txt',\n",
       " 'C:\\\\Users\\\\BraveHong\\\\Documents\\\\GitHub\\\\ML_EEG_data\\\\EOG_resting_open_mouth_revised\\\\abs_all_ratio_alpha.txt',\n",
       " 'C:\\\\Users\\\\BraveHong\\\\Documents\\\\GitHub\\\\ML_EEG_data\\\\EOG_resting_open_mouth_revised\\\\abs_all_ratio_beta.txt',\n",
       " 'C:\\\\Users\\\\BraveHong\\\\Documents\\\\GitHub\\\\ML_EEG_data\\\\EOG_resting_open_mouth_revised\\\\abs_all_ratio_delta.txt',\n",
       " 'C:\\\\Users\\\\BraveHong\\\\Documents\\\\GitHub\\\\ML_EEG_data\\\\EOG_resting_open_mouth_revised\\\\abs_all_ratio_gamma.txt',\n",
       " 'C:\\\\Users\\\\BraveHong\\\\Documents\\\\GitHub\\\\ML_EEG_data\\\\EOG_resting_open_mouth_revised\\\\abs_all_ratio_theta.txt',\n",
       " 'C:\\\\Users\\\\BraveHong\\\\Documents\\\\GitHub\\\\ML_EEG_data\\\\EOG_resting_open_mouth_revised\\\\all_ratio_alpha.txt',\n",
       " 'C:\\\\Users\\\\BraveHong\\\\Documents\\\\GitHub\\\\ML_EEG_data\\\\EOG_resting_open_mouth_revised\\\\all_ratio_beta.txt',\n",
       " 'C:\\\\Users\\\\BraveHong\\\\Documents\\\\GitHub\\\\ML_EEG_data\\\\EOG_resting_open_mouth_revised\\\\all_ratio_delta.txt',\n",
       " 'C:\\\\Users\\\\BraveHong\\\\Documents\\\\GitHub\\\\ML_EEG_data\\\\EOG_resting_open_mouth_revised\\\\all_ratio_gamma.txt',\n",
       " 'C:\\\\Users\\\\BraveHong\\\\Documents\\\\GitHub\\\\ML_EEG_data\\\\EOG_resting_open_mouth_revised\\\\all_ratio_theta.txt',\n",
       " 'C:\\\\Users\\\\BraveHong\\\\Documents\\\\GitHub\\\\ML_EEG_data\\\\EOG_resting_open_nose_revised\\\\abs_all_ratio_alpha.txt',\n",
       " 'C:\\\\Users\\\\BraveHong\\\\Documents\\\\GitHub\\\\ML_EEG_data\\\\EOG_resting_open_nose_revised\\\\abs_all_ratio_beta.txt',\n",
       " 'C:\\\\Users\\\\BraveHong\\\\Documents\\\\GitHub\\\\ML_EEG_data\\\\EOG_resting_open_nose_revised\\\\abs_all_ratio_delta.txt',\n",
       " 'C:\\\\Users\\\\BraveHong\\\\Documents\\\\GitHub\\\\ML_EEG_data\\\\EOG_resting_open_nose_revised\\\\abs_all_ratio_gamma.txt',\n",
       " 'C:\\\\Users\\\\BraveHong\\\\Documents\\\\GitHub\\\\ML_EEG_data\\\\EOG_resting_open_nose_revised\\\\abs_all_ratio_theta.txt',\n",
       " 'C:\\\\Users\\\\BraveHong\\\\Documents\\\\GitHub\\\\ML_EEG_data\\\\EOG_resting_open_nose_revised\\\\all_ratio_alpha.txt',\n",
       " 'C:\\\\Users\\\\BraveHong\\\\Documents\\\\GitHub\\\\ML_EEG_data\\\\EOG_resting_open_nose_revised\\\\all_ratio_beta.txt',\n",
       " 'C:\\\\Users\\\\BraveHong\\\\Documents\\\\GitHub\\\\ML_EEG_data\\\\EOG_resting_open_nose_revised\\\\all_ratio_delta.txt',\n",
       " 'C:\\\\Users\\\\BraveHong\\\\Documents\\\\GitHub\\\\ML_EEG_data\\\\EOG_resting_open_nose_revised\\\\all_ratio_gamma.txt',\n",
       " 'C:\\\\Users\\\\BraveHong\\\\Documents\\\\GitHub\\\\ML_EEG_data\\\\EOG_resting_open_nose_revised\\\\all_ratio_theta.txt',\n",
       " 'C:\\\\Users\\\\BraveHong\\\\Documents\\\\GitHub\\\\ML_EEG_data\\\\EOG_resting_open_o2_revised\\\\abs_all_ratio_alpha.txt',\n",
       " 'C:\\\\Users\\\\BraveHong\\\\Documents\\\\GitHub\\\\ML_EEG_data\\\\EOG_resting_open_o2_revised\\\\abs_all_ratio_beta.txt',\n",
       " 'C:\\\\Users\\\\BraveHong\\\\Documents\\\\GitHub\\\\ML_EEG_data\\\\EOG_resting_open_o2_revised\\\\abs_all_ratio_delta.txt',\n",
       " 'C:\\\\Users\\\\BraveHong\\\\Documents\\\\GitHub\\\\ML_EEG_data\\\\EOG_resting_open_o2_revised\\\\abs_all_ratio_gamma.txt',\n",
       " 'C:\\\\Users\\\\BraveHong\\\\Documents\\\\GitHub\\\\ML_EEG_data\\\\EOG_resting_open_o2_revised\\\\abs_all_ratio_theta.txt',\n",
       " 'C:\\\\Users\\\\BraveHong\\\\Documents\\\\GitHub\\\\ML_EEG_data\\\\EOG_resting_open_o2_revised\\\\all_ratio_alpha.txt',\n",
       " 'C:\\\\Users\\\\BraveHong\\\\Documents\\\\GitHub\\\\ML_EEG_data\\\\EOG_resting_open_o2_revised\\\\all_ratio_beta.txt',\n",
       " 'C:\\\\Users\\\\BraveHong\\\\Documents\\\\GitHub\\\\ML_EEG_data\\\\EOG_resting_open_o2_revised\\\\all_ratio_delta.txt',\n",
       " 'C:\\\\Users\\\\BraveHong\\\\Documents\\\\GitHub\\\\ML_EEG_data\\\\EOG_resting_open_o2_revised\\\\all_ratio_gamma.txt',\n",
       " 'C:\\\\Users\\\\BraveHong\\\\Documents\\\\GitHub\\\\ML_EEG_data\\\\EOG_resting_open_o2_revised\\\\all_ratio_theta.txt']"
      ]
     },
     "execution_count": 10,
     "metadata": {},
     "output_type": "execute_result"
    }
   ],
   "source": [
    "textfile_list"
   ]
  },
  {
   "cell_type": "code",
   "execution_count": 11,
   "metadata": {},
   "outputs": [
    {
     "data": {
      "text/plain": [
       "20"
      ]
     },
     "execution_count": 11,
     "metadata": {},
     "output_type": "execute_result"
    }
   ],
   "source": [
    "with open(textfile_list[0])as file:\n",
    "    csv_data = []\n",
    "    for line in file.readlines():\n",
    "        csv_data.append(line.split('\\t   '))\n",
    "        \n",
    "len(csv_data)"
   ]
  },
  {
   "cell_type": "code",
   "execution_count": 12,
   "metadata": {},
   "outputs": [],
   "source": [
    "EEG_list= np.array(csv_data)"
   ]
  },
  {
   "cell_type": "code",
   "execution_count": 13,
   "metadata": {},
   "outputs": [
    {
     "data": {
      "text/plain": [
       "array(['   3.4791231339047464e+01', '4.3380524333190039e+01',\n",
       "       '3.5326931581930602e+01', '3.3483708025932920e+01',\n",
       "       '5.6872380486741100e+01', '8.0370203978191000e+01',\n",
       "       '2.1413350881614591e+02', '3.3686977476046417e+02',\n",
       "       '3.8185630343202843e+02', '2.7370063535362385e+02',\n",
       "       '1.0532424852864221e+01', '1.1011172976451469e+01',\n",
       "       '1.2923292076966415e+01', '1.1849402177894198e+01',\n",
       "       '9.1653479468414375e+01', '9.4410927336973444e+01',\n",
       "       '5.1050138491450028e+00', '0.0000000000000000e+00',\n",
       "       '4.0684416243659221e+01', '2.9956369411610240e+02',\n",
       "       '2.4239233445651688e+01', '2.5582045710967122e+01',\n",
       "       '6.8414598897259552e+01', '8.5421373080443615e+01',\n",
       "       '2.1276629828866692e+01', '2.7415626568558611e+01',\n",
       "       '3.2835192814357754e+01', '1.0541140286492617e+01',\n",
       "       '3.0677629899760070e+00', '2.8207741709649481e+00',\n",
       "       '1.5329406883455469e+01', '1.2283069100952360e+01',\n",
       "       '1.5445313816939375e+01', '1.3905404573988660e+01',\n",
       "       '2.2047461445818094e+01\\t\\n'], dtype='<U25')"
      ]
     },
     "execution_count": 13,
     "metadata": {},
     "output_type": "execute_result"
    }
   ],
   "source": [
    "EEG_list[0]"
   ]
  },
  {
   "cell_type": "code",
   "execution_count": 14,
   "metadata": {},
   "outputs": [
    {
     "data": {
      "text/plain": [
       "'   3.4791231339047464e+01'"
      ]
     },
     "execution_count": 14,
     "metadata": {},
     "output_type": "execute_result"
    }
   ],
   "source": [
    "EEG_list[0][0]"
   ]
  },
  {
   "cell_type": "markdown",
   "metadata": {},
   "source": [
    "마지막에 붙은 \\t\\n을 제거해야 한다..\n",
    "\n",
    "\n",
    "np.array(csv_data)[i][34]"
   ]
  },
  {
   "cell_type": "code",
   "execution_count": 171,
   "metadata": {},
   "outputs": [
    {
     "data": {
      "text/plain": [
       "(20, 35)"
      ]
     },
     "execution_count": 171,
     "metadata": {},
     "output_type": "execute_result"
    }
   ],
   "source": [
    "EEG_list.shape"
   ]
  },
  {
   "cell_type": "code",
   "execution_count": 172,
   "metadata": {},
   "outputs": [
    {
     "data": {
      "text/plain": [
       "dtype('<U25')"
      ]
     },
     "execution_count": 172,
     "metadata": {},
     "output_type": "execute_result"
    }
   ],
   "source": [
    "EEG_list.dtype"
   ]
  },
  {
   "cell_type": "code",
   "execution_count": 173,
   "metadata": {},
   "outputs": [
    {
     "ename": "SyntaxError",
     "evalue": "invalid syntax (<ipython-input-173-b2f05dfea453>, line 1)",
     "output_type": "error",
     "traceback": [
      "\u001b[1;36m  File \u001b[1;32m\"<ipython-input-173-b2f05dfea453>\"\u001b[1;36m, line \u001b[1;32m1\u001b[0m\n\u001b[1;33m    EEG_list.\u001b[0m\n\u001b[1;37m             ^\u001b[0m\n\u001b[1;31mSyntaxError\u001b[0m\u001b[1;31m:\u001b[0m invalid syntax\n"
     ]
    }
   ],
   "source": [
    "EEG_list."
   ]
  },
  {
   "cell_type": "code",
   "execution_count": null,
   "metadata": {},
   "outputs": [],
   "source": []
  },
  {
   "cell_type": "markdown",
   "metadata": {},
   "source": [
    "## 2 중 for문을 통해서 txt파일들을 다 읽는다."
   ]
  },
  {
   "cell_type": "code",
   "execution_count": 174,
   "metadata": {},
   "outputs": [],
   "source": [
    "f = open(text_dir, 'r') \n",
    "\n",
    "\n"
   ]
  },
  {
   "cell_type": "markdown",
   "metadata": {},
   "source": [
    "for 문을 이용해서 각 폴더에서 샘플들을 뽑아서 리스트를 만들자"
   ]
  },
  {
   "cell_type": "markdown",
   "metadata": {},
   "source": [
    "각 폴더로 들어가서 abs, all 선택하고서는"
   ]
  },
  {
   "cell_type": "markdown",
   "metadata": {},
   "source": [
    "알파, 베타, 델타, 감마, 세타 각 값을 하나씩 뽑아내서 "
   ]
  },
  {
   "cell_type": "markdown",
   "metadata": {},
   "source": [
    "12개의 target으로 나누자"
   ]
  },
  {
   "cell_type": "code",
   "execution_count": null,
   "metadata": {},
   "outputs": [],
   "source": []
  },
  {
   "cell_type": "code",
   "execution_count": 1,
   "metadata": {},
   "outputs": [
    {
     "ename": "NameError",
     "evalue": "name 'file_list' is not defined",
     "output_type": "error",
     "traceback": [
      "\u001b[1;31m---------------------------------------------------------------------------\u001b[0m",
      "\u001b[1;31mNameError\u001b[0m                                 Traceback (most recent call last)",
      "\u001b[1;32m<ipython-input-1-7a8b99bde3c3>\u001b[0m in \u001b[0;36m<module>\u001b[1;34m\u001b[0m\n\u001b[1;32m----> 1\u001b[1;33m \u001b[0mprint\u001b[0m\u001b[1;33m(\u001b[0m\u001b[0mfile_list\u001b[0m\u001b[1;33m)\u001b[0m\u001b[1;33m\u001b[0m\u001b[1;33m\u001b[0m\u001b[0m\n\u001b[0m\u001b[0;32m      2\u001b[0m \u001b[0mj\u001b[0m \u001b[1;33m=\u001b[0m \u001b[0minput\u001b[0m\u001b[1;33m(\u001b[0m\u001b[1;34m\"경로지정하기( 순서 지정하기(순서입력)\"\u001b[0m\u001b[1;33m)\u001b[0m\u001b[1;33m\u001b[0m\u001b[1;33m\u001b[0m\u001b[0m\n\u001b[0;32m      3\u001b[0m \u001b[0mfile_list\u001b[0m\u001b[1;33m[\u001b[0m\u001b[0mint\u001b[0m\u001b[1;33m(\u001b[0m\u001b[0mj\u001b[0m\u001b[1;33m)\u001b[0m\u001b[1;33m-\u001b[0m\u001b[1;36m1\u001b[0m\u001b[1;33m]\u001b[0m\u001b[1;33m\u001b[0m\u001b[1;33m\u001b[0m\u001b[0m\n",
      "\u001b[1;31mNameError\u001b[0m: name 'file_list' is not defined"
     ]
    }
   ],
   "source": [
    "print(file_list)\n",
    "j = input(\"경로지정하기( 순서 지정하기(순서입력)\")\n",
    "file_list[int(j)-1]\n"
   ]
  },
  {
   "cell_type": "code",
   "execution_count": 176,
   "metadata": {},
   "outputs": [
    {
     "ename": "SyntaxError",
     "evalue": "invalid syntax (<ipython-input-176-574ab11eb506>, line 1)",
     "output_type": "error",
     "traceback": [
      "\u001b[1;36m  File \u001b[1;32m\"<ipython-input-176-574ab11eb506>\"\u001b[1;36m, line \u001b[1;32m1\u001b[0m\n\u001b[1;33m    f=\u001b[0m\n\u001b[1;37m       ^\u001b[0m\n\u001b[1;31mSyntaxError\u001b[0m\u001b[1;31m:\u001b[0m invalid syntax\n"
     ]
    }
   ],
   "source": [
    "f= "
   ]
  },
  {
   "cell_type": "code",
   "execution_count": null,
   "metadata": {},
   "outputs": [],
   "source": []
  },
  {
   "cell_type": "code",
   "execution_count": null,
   "metadata": {},
   "outputs": [],
   "source": []
  },
  {
   "cell_type": "code",
   "execution_count": null,
   "metadata": {},
   "outputs": [],
   "source": []
  },
  {
   "cell_type": "code",
   "execution_count": null,
   "metadata": {},
   "outputs": [],
   "source": []
  }
 ],
 "metadata": {
  "kernelspec": {
   "display_name": "Python 3",
   "language": "python",
   "name": "python3"
  },
  "language_info": {
   "codemirror_mode": {
    "name": "ipython",
    "version": 3
   },
   "file_extension": ".py",
   "mimetype": "text/x-python",
   "name": "python",
   "nbconvert_exporter": "python",
   "pygments_lexer": "ipython3",
   "version": "3.7.2"
  }
 },
 "nbformat": 4,
 "nbformat_minor": 2
}
